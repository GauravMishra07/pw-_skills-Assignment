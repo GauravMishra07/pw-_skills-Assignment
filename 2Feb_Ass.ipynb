{
 "cells": [
  {
   "cell_type": "markdown",
   "id": "8f418af9-772c-4d19-a1a8-67537993a00e",
   "metadata": {},
   "source": [
    "1. These tuples are an ordered collection of elements of different data types. Furthermore, we represent them by writing the elements inside the parenthesis separated by commas. We can also define tuples as lists that we cannot change. Therefore, we can call them immutable tuples."
   ]
  },
  {
   "cell_type": "markdown",
   "id": "c77b0b80-74c1-462a-84d7-cd0a123034a8",
   "metadata": {},
   "source": [
    "2. The count() method returns the number of times a specified value appears in the tuple.\n",
    "   The index() method finds the first occurrence of the specified value.\n",
    "   \n",
    "   tuples are immutable,it means we cannot change the value or add new value. Thats why it has less methods compare to list"
   ]
  },
  {
   "cell_type": "code",
   "execution_count": 1,
   "id": "264bd2c4-b70a-422c-b2b9-ba789567a9b9",
   "metadata": {},
   "outputs": [
    {
     "name": "stdout",
     "output_type": "stream",
     "text": [
      "3\n"
     ]
    }
   ],
   "source": [
    "thistuple = (1, 3, 7, 8, 7, 5, 4, 6, 8, 5)\n",
    "\n",
    "x = thistuple.index(8)\n",
    "\n",
    "print(x)"
   ]
  },
  {
   "cell_type": "code",
   "execution_count": 6,
   "id": "139d0ba6-b910-4cc1-b1a5-c74fff459e6a",
   "metadata": {},
   "outputs": [
    {
     "name": "stdout",
     "output_type": "stream",
     "text": [
      "2\n"
     ]
    }
   ],
   "source": [
    "thistuple = (1, 3, 7, 8, 7, 5, 4, 6, 8, 5)\n",
    "v = thistuple.count(7)\n",
    "print(v)"
   ]
  },
  {
   "cell_type": "markdown",
   "id": "5e684a60-e504-4b82-87ce-d886d10589d0",
   "metadata": {},
   "source": [
    "3. Set and Dictionary in python do not allow duplicate items."
   ]
  },
  {
   "cell_type": "code",
   "execution_count": 7,
   "id": "d15fd136-ee29-4c80-bf85-9d251f4fbf73",
   "metadata": {},
   "outputs": [
    {
     "data": {
      "text/plain": [
       "{1, 2, 3, 4}"
      ]
     },
     "execution_count": 7,
     "metadata": {},
     "output_type": "execute_result"
    }
   ],
   "source": [
    "List = [1, 1, 1, 2, 1, 3, 1, 4, 2, 1, 2, 2, 2, 3, 2, 4, 3, 1, 3, 2, 3, 3, 3, 4, 4, 1, 4, 2, 4, 3, 4, 4]\n",
    "a = set(List)\n",
    "a"
   ]
  },
  {
   "cell_type": "markdown",
   "id": "617da4fe-bc4c-403b-a6f8-de958067ca04",
   "metadata": {},
   "source": [
    "4. union() Returns a set that contains all items from both sets, duplicates are excluded.\n",
    "\n",
    "   The update() method updates the current set, by adding items from another set (or any other iterable).If an item is present in both sets, only one    appearance of this item will be present in the updated set."
   ]
  },
  {
   "cell_type": "code",
   "execution_count": 9,
   "id": "03151362-d593-4f4f-a747-a7b810cb673b",
   "metadata": {},
   "outputs": [
    {
     "name": "stdout",
     "output_type": "stream",
     "text": [
      "{'cherry', 'banana', 'google', 'microsoft', 'apple'}\n"
     ]
    }
   ],
   "source": [
    "x = {\"apple\", \"banana\", \"cherry\"}\n",
    "y = {\"google\", \"microsoft\", \"apple\"}\n",
    "\n",
    "x.update(y)\n",
    "\n",
    "print(x)\n",
    " \n"
   ]
  },
  {
   "cell_type": "code",
   "execution_count": 13,
   "id": "ec430762-c371-456c-9c09-11186f7c914e",
   "metadata": {},
   "outputs": [
    {
     "name": "stdout",
     "output_type": "stream",
     "text": [
      "{'cherry', 'banana', 'google', 'microsoft', 'apple'}\n"
     ]
    }
   ],
   "source": [
    "b = {\"apple\", \"banana\", \"cherry\"}\n",
    "n = {\"google\", \"microsoft\", \"apple\"}\n",
    "\n",
    "z= b.union(n)\n",
    "\n",
    "print(z)"
   ]
  },
  {
   "cell_type": "markdown",
   "id": "5c5baadc-937f-4d6f-b9bf-963f1fb66d63",
   "metadata": {},
   "source": [
    "5. Dictionaries are used to store data values in key:value pairs.\n",
    "\n",
    "   A dictionary is a collection which is ordered, changeable and do not allow duplicates."
   ]
  },
  {
   "cell_type": "code",
   "execution_count": 14,
   "id": "9c9acf0a-1b7f-474e-b57f-c1329fc8df70",
   "metadata": {},
   "outputs": [
    {
     "name": "stdout",
     "output_type": "stream",
     "text": [
      "{'brand': 'Ford', 'model': 'Mustang', 'year': 1964}\n"
     ]
    }
   ],
   "source": [
    "thisdict = {\n",
    "  \"brand\": \"Ford\",\n",
    "  \"model\": \"Mustang\",\n",
    "  \"year\": 1964\n",
    "}\n",
    "print(thisdict)"
   ]
  },
  {
   "cell_type": "markdown",
   "id": "60d34973-d66b-46ae-9419-e38f68a9c558",
   "metadata": {},
   "source": [
    "6. Yes, we can create a nested dictionary"
   ]
  },
  {
   "cell_type": "code",
   "execution_count": 20,
   "id": "f34d0061-35db-404d-8d77-334a74ab1ac2",
   "metadata": {},
   "outputs": [
    {
     "name": "stdout",
     "output_type": "stream",
     "text": [
      "{'child1': {'name': 'Emil', 'year': 2004}, 'child2': {'name': 'Tobias', 'year': 2007}, 'child3': {'name': 'Linus', 'year': 2011}}\n"
     ]
    }
   ],
   "source": [
    "myfamily = {\n",
    "  \"child1\" : {\n",
    "    \"name\" : \"Emil\",\n",
    "    \"year\" : 2004\n",
    "  },\n",
    "  \"child2\" : {\n",
    "    \"name\" : \"Tobias\",\n",
    "    \"year\" : 2007\n",
    "  },\n",
    "  \"child3\" : {\n",
    "    \"name\" : \"Linus\",\n",
    "    \"year\" : 2011\n",
    "  }\n",
    "}\n",
    "\n",
    "print(myfamily)"
   ]
  },
  {
   "cell_type": "markdown",
   "id": "9cf66718-24d6-43bb-a7c0-4d720c3dd7f4",
   "metadata": {},
   "source": [
    "7. setdefault() function."
   ]
  },
  {
   "cell_type": "code",
   "execution_count": 24,
   "id": "35d26a4e-706d-4a6d-887f-678e25305a26",
   "metadata": {},
   "outputs": [],
   "source": [
    "dict1 = {'language' : 'Python', 'course': 'Data Science Masters'}\n",
    "dict1 = dict1.setdefault(\"topics\", \"['Python', 'Machine Learning’, 'Deep Learning']\")"
   ]
  },
  {
   "cell_type": "code",
   "execution_count": 25,
   "id": "efd1350d-23d8-44a5-b2fd-e6d53db65bb3",
   "metadata": {},
   "outputs": [
    {
     "data": {
      "text/plain": [
       "\"['Python', 'Machine Learning’, 'Deep Learning']\""
      ]
     },
     "execution_count": 25,
     "metadata": {},
     "output_type": "execute_result"
    }
   ],
   "source": [
    "dict1"
   ]
  },
  {
   "cell_type": "markdown",
   "id": "e8a736ba-ec6e-4b0d-9840-7f30fcde2643",
   "metadata": {},
   "source": [
    "8. The main view objects of dictionary in python are keys, values and items."
   ]
  },
  {
   "cell_type": "code",
   "execution_count": 30,
   "id": "c6aed680-f0c8-434b-99ba-3ce1f59398c8",
   "metadata": {},
   "outputs": [
    {
     "data": {
      "text/plain": [
       "dict_items([('Sport', 'Cricket'), ('Teams', ['India', 'Australia', 'England', 'South Africa', 'Sri Lanka', 'New Zealand'])])"
      ]
     },
     "execution_count": 30,
     "metadata": {},
     "output_type": "execute_result"
    }
   ],
   "source": [
    "dict2 = {'Sport': 'Cricket' , 'Teams': ['India', 'Australia', 'England', 'South Africa', 'Sri Lanka', 'New Zealand']}\n",
    "q = dict2.items()\n",
    "q\n"
   ]
  },
  {
   "cell_type": "code",
   "execution_count": 31,
   "id": "7513bc96-1d52-47a3-ad17-874024d137ec",
   "metadata": {},
   "outputs": [
    {
     "data": {
      "text/plain": [
       "dict_keys(['Sport', 'Teams'])"
      ]
     },
     "execution_count": 31,
     "metadata": {},
     "output_type": "execute_result"
    }
   ],
   "source": [
    "w = dict2.keys()\n",
    "w"
   ]
  },
  {
   "cell_type": "code",
   "execution_count": 32,
   "id": "b510a4ea-1ed5-4ada-910a-c22cbe1cf1df",
   "metadata": {},
   "outputs": [
    {
     "data": {
      "text/plain": [
       "dict_values(['Cricket', ['India', 'Australia', 'England', 'South Africa', 'Sri Lanka', 'New Zealand']])"
      ]
     },
     "execution_count": 32,
     "metadata": {},
     "output_type": "execute_result"
    }
   ],
   "source": [
    "r = dict2.values()\n",
    "r"
   ]
  },
  {
   "cell_type": "code",
   "execution_count": null,
   "id": "cab02979-daa6-49bc-b25c-b1f42f3b8489",
   "metadata": {},
   "outputs": [],
   "source": []
  }
 ],
 "metadata": {
  "kernelspec": {
   "display_name": "Python 3 (ipykernel)",
   "language": "python",
   "name": "python3"
  },
  "language_info": {
   "codemirror_mode": {
    "name": "ipython",
    "version": 3
   },
   "file_extension": ".py",
   "mimetype": "text/x-python",
   "name": "python",
   "nbconvert_exporter": "python",
   "pygments_lexer": "ipython3",
   "version": "3.10.8"
  }
 },
 "nbformat": 4,
 "nbformat_minor": 5
}
