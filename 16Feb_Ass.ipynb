{
 "cells": [
  {
   "cell_type": "code",
   "execution_count": 11,
   "metadata": {},
   "outputs": [
    {
     "name": "stdout",
     "output_type": "stream",
     "text": [
      "<mysql.connector.connection_cext.CMySQLConnection object at 0x7f8c60422310>\n",
      "(324, 'krish', 45.32)\n",
      "(324, 'krish', 45.32)\n",
      "(324, 'krish', 45.32)\n",
      "(324, 'krish', 45.32)\n"
     ]
    }
   ],
   "source": [
    "import mysql.connector\n",
    "# import mysql.connector\n",
    "#create user 'user'@'%' identified by 'password'\n",
    "mydb = mysql.connector.connect(\n",
    "  host=\"localhost\",\n",
    "  user=\"abc\",\n",
    "  password=\"password\"\n",
    ")\n",
    "print(mydb)\n",
    "mycursor = mydb.cursor()\n",
    "mycursor.execute(\"CREATE DATABASE if NOT exists test1\")\n",
    "mycursor.execute(\"CREATE TABLE if NOT exists test1.test_table (c1 INT, c2 VARCHAR(30), c3 FLOAT)\")\n",
    "mycursor.execute(\"INSERT into test1.test_table values(324,'krish',45.32)\")\n",
    "mycursor.execute(\"SELECT*FROM  test1.test_table\")\n",
    "#mydb.commit()\n",
    "#mydb.close()\n",
    "for i in mycursor.fetchall():\n",
    "  print(i)\n"
   ]
  },
  {
   "cell_type": "markdown",
   "metadata": {},
   "source": [
    "## Q1. What is a database? Differentiate between SQL and NoSQL databases."
   ]
  },
  {
   "cell_type": "markdown",
   "metadata": {},
   "source": [
    "A database is an organized collection of structured information, or data, typically stored electronically in a computer system. A database is usually controlled by a database management system (DBMS)."
   ]
  },
  {
   "cell_type": "markdown",
   "metadata": {},
   "source": [
    "SQL:\n",
    "\n",
    "SQL stands for Structured Query Language.\n",
    "SQL lets you access and manipulate databases.\n",
    "SQL became a standard of the American National Standards Institute (ANSI) in 1986, and of the International Organization for Standardization (ISO) in 1987.\n",
    "\n",
    "NOSQL:\n",
    "\n",
    "While a variety of differences exist between relational database management systems (RDBMS) and NoSQL databases, one of the key differences is the way the data is modeled in the database. In this section, we'll work through an example of modeling the same data in a relational database and a NoSQL database. Then, we'll highlight some of the other key differences between relational databases and NoSQL databases.\n"
   ]
  },
  {
   "cell_type": "markdown",
   "metadata": {},
   "source": [
    "## Q2. What is DDL? Explain why CREATE, DROP, ALTER, and TRUNCATE are used with an example."
   ]
  },
  {
   "cell_type": "markdown",
   "metadata": {},
   "source": [
    "Data definition language (DDL) describes the portion of SQL that creates, alters, and deletes database objects. These database objects include schemas, tables, views, sequences, catalogs, indexes, variables, masks, permissions, and aliases. Creating a schema.\n",
    "\n",
    "CREATE: This command is used to create the database or its objects (like table, index, function, views, store procedure, and triggers).\n",
    "\n",
    "DROP: This command is used to delete objects from the database.\n",
    "\n",
    "ALTER: This is used to alter the structure of the database.\n",
    "\n",
    "TRUNCATE: This is used to remove all records from a table, including all spaces allocated for the records are removed."
   ]
  },
  {
   "cell_type": "markdown",
   "metadata": {},
   "source": [
    "CREATE TABLE test_table;\n",
    "\n",
    "DROP TABLE test_table;\n",
    "\n",
    "ALTER TABLE Student ADD (AGE number(3),COURSE varchar(40));\n",
    "\n",
    "TRUNCATE TABLE Student_details;\n",
    "\n"
   ]
  },
  {
   "cell_type": "markdown",
   "metadata": {},
   "source": [
    "## Q3. What is DML? Explain INSERT, UPDATE, and DELETE with an example."
   ]
  },
  {
   "cell_type": "markdown",
   "metadata": {},
   "source": [
    "The SQL commands that deals with the manipulation of data present in the database belong to DML or Data Manipulation Language and this includes most of the SQL statements. It is the component of the SQL statement that controls access to data and to the database. Basically, DCL statements are grouped with DML statements.\n",
    "\n",
    "INSERT : It is used to insert data into a table.\n",
    "\n",
    "UPDATE: It is used to update existing data within a table.\n",
    "\n",
    "DELETE : It is used to delete records from a database table."
   ]
  },
  {
   "cell_type": "markdown",
   "metadata": {},
   "source": [
    "INSERT INTO Student VALUES (‘5′,’HARSH’,’WEST BENGAL’,’XXXXXXXXXX’,’19’);\n",
    "\n",
    "UPDATE Student SET NAME = 'PRATIK' WHERE Age = 20;\n",
    "\n",
    "DELETE FROM Student WHERE NAME = 'Jon';\n"
   ]
  },
  {
   "cell_type": "markdown",
   "metadata": {},
   "source": [
    "## Q4. What is DQL? Explain SELECT with an example."
   ]
  },
  {
   "cell_type": "markdown",
   "metadata": {},
   "source": [
    "DQL statements are used for performing queries on the data within schema objects. The purpose of the DQL Command is to get some schema relation based on the query passed to it. We can define DQL as follows it is a component of SQL statement that allows getting data from the database and imposing order upon it. It includes the SELECT statement. This command allows getting the data out of the database to perform operations with it. When a SELECT is fired against a table or tables the result is compiled into a further temporary table, which is displayed or perhaps received by the program i.e. a front-end.\n",
    "\n",
    "\n",
    "SELECT * FROM test_table;"
   ]
  },
  {
   "cell_type": "markdown",
   "metadata": {},
   "source": [
    "## Q5. Explain Primary Key and Foreign Key."
   ]
  },
  {
   "cell_type": "markdown",
   "metadata": {},
   "source": [
    "Primary Key: A primary key is used to ensure that data in the specific column is unique. A column cannot have NULL values. It is either an existing table column or a column that is specifically generated by the database according to a defined sequence. \n",
    "\n",
    "Foreign Key: \n",
    "A foreign key is a column or group of columns in a relational database table that provides a link between data in two tables. It is a column (or columns) that references a column (most often the primary key) of another table. "
   ]
  },
  {
   "cell_type": "markdown",
   "metadata": {},
   "source": [
    "## Q6. Write a python code to connect MySQL to python. Explain the cursor() and execute() method."
   ]
  },
  {
   "cell_type": "code",
   "execution_count": 13,
   "metadata": {},
   "outputs": [
    {
     "name": "stdout",
     "output_type": "stream",
     "text": [
      "<mysql.connector.connection_cext.CMySQLConnection object at 0x7f8c60422fd0>\n",
      "(324, 'krish', 45.32)\n",
      "(324, 'krish', 45.32)\n",
      "(324, 'krish', 45.32)\n",
      "(324, 'krish', 45.32)\n",
      "(324, 'krish', 45.32)\n"
     ]
    }
   ],
   "source": [
    "import mysql.connector\n",
    "# import mysql.connector\n",
    "#create user 'user'@'%' identified by 'password'\n",
    "mydb = mysql.connector.connect(\n",
    "  host=\"localhost\",\n",
    "  user=\"abc\",\n",
    "  password=\"password\"\n",
    ")\n",
    "print(mydb)\n",
    "mycursor = mydb.cursor()\n",
    "mycursor.execute(\"CREATE DATABASE if NOT exists test1\")\n",
    "mycursor.execute(\"CREATE TABLE if NOT exists test1.test_table (c1 INT, c2 VARCHAR(30), c3 FLOAT)\")\n",
    "mycursor.execute(\"INSERT into test1.test_table values(324,'krish',45.32)\")\n",
    "mycursor.execute(\"INSERT into test1.test_table values(324,'krish',45.32)\")\n",
    "mycursor.execute(\"SELECT*FROM  test1.test_table\")\n",
    "#mydb.commit()\n",
    "#mydb.close()\n",
    "for i in mycursor.fetchall():\n",
    "  print(i)\n"
   ]
  },
  {
   "cell_type": "markdown",
   "metadata": {},
   "source": [
    "## Q7. Give the order of execution of SQL clauses in an SQL query."
   ]
  },
  {
   "cell_type": "markdown",
   "metadata": {},
   "source": [
    "In SQL, the first clause that is processed is the FROM clause, while the SELECT clause, which appears first in an SQL query, is processed much later. The phases involved in the logical processing of an SQL query are as follows:\n",
    "\n",
    "FROM clause\n",
    "\n",
    "ON clause\n",
    "\n",
    "OUTER clause\n",
    "\n",
    "WHERE clause\n",
    "\n",
    "GROUP BY clause\n",
    "\n",
    "HAVING clause\n",
    "\n",
    "SELECT clause\n",
    "\n",
    "DISTINCT clause\n",
    "\n",
    "ORDER BY clause\n",
    "\n",
    "TOP clause"
   ]
  }
 ],
 "metadata": {
  "kernelspec": {
   "display_name": "Python 3.8.10 64-bit",
   "language": "python",
   "name": "python3"
  },
  "language_info": {
   "codemirror_mode": {
    "name": "ipython",
    "version": 3
   },
   "file_extension": ".py",
   "mimetype": "text/x-python",
   "name": "python",
   "nbconvert_exporter": "python",
   "pygments_lexer": "ipython3",
   "version": "3.8.10"
  },
  "orig_nbformat": 4,
  "vscode": {
   "interpreter": {
    "hash": "e7370f93d1d0cde622a1f8e1c04877d8463912d04d973331ad4851f04de6915a"
   }
  }
 },
 "nbformat": 4,
 "nbformat_minor": 2
}
