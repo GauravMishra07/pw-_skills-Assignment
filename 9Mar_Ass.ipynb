{
 "cells": [
  {
   "cell_type": "markdown",
   "id": "74407f17-7594-4229-894a-83821e8f883a",
   "metadata": {},
   "source": [
    "## Q1: What are the Probability Mass Function (PMF) and Probability Density Function (PDF)? Explain with an example."
   ]
  },
  {
   "cell_type": "markdown",
   "id": "4007e114-65c0-4f71-ad5b-ba637c63f142",
   "metadata": {},
   "source": [
    "Probability mass function denotes the probability that a discrete random variable will take on a particular value. Probability density function gives the probability that a continuous random variable will lie between a certain specified interval. It is used for discrete random variables.\n",
    "\n",
    "EXAMPLE:\n",
    "\n",
    "PDF- [165.3,132.4,188.4,134.3]\n",
    "\n",
    "PMF- [66,33,44,55,55]"
   ]
  },
  {
   "cell_type": "markdown",
   "id": "4e55b35a-3e63-47e1-a7f1-ab6c3dcc0286",
   "metadata": {},
   "source": [
    "## Q2: What is Cumulative Density Function (CDF)? Explain with an example. Why CDF is used?"
   ]
  },
  {
   "cell_type": "markdown",
   "id": "662daf7a-9aa9-4930-8f1b-92b47e79cc6f",
   "metadata": {},
   "source": [
    "The cumulative distribution function is used to describe the probability distribution of random variables. It can be used to describe the probability for a discrete, continuous or mixed variable. It is obtained by summing up the probability density function and getting the cumulative probability for a random variable.\n",
    "\n",
    "For, example, at point x=1, the CDF jumps from 14 to 34. The size of the jump here is 34−14=12 which is equal to PX(1). Also, note that the open and closed circles at point x=1 indicate that FX(1)=34 and not 14.\n",
    "\n",
    "\n"
   ]
  },
  {
   "cell_type": "markdown",
   "id": "0eded5d2-9b19-45ec-97d5-6fd1c72de6ce",
   "metadata": {},
   "source": [
    "## Q3: What are some examples of situations where the normal distribution might be used as a model? Explain how the parameters of the normal distribution relate to the shape of the distribution."
   ]
  },
  {
   "cell_type": "markdown",
   "id": "cdff838b-c44c-4578-89d6-322174115379",
   "metadata": {},
   "source": [
    "The height of people is an example of normal distribution. Most of the people in a specific population are of average height. The number of people taller and shorter than the average height people is almost equal, and a very small number of people are either extremely tall or extremely short.\n",
    "\n",
    "In a normal distribution, data are symmetrically distributed with no skew. Most values cluster around a central region, with values tapering off as they go further away from the center. The measures of central tendency (mean, mode, and median) are exactly the same in a normal distribution."
   ]
  },
  {
   "cell_type": "markdown",
   "id": "e8c32ecf-34d7-47fd-8ff1-75a72bf9f12c",
   "metadata": {},
   "source": [
    "## Q4: Explain the importance of Normal Distribution. Give a few real-life examples of Normal Distribution."
   ]
  },
  {
   "cell_type": "markdown",
   "id": "8640a68a-8048-4a60-b653-2fff88c5d4cb",
   "metadata": {},
   "source": [
    "n a normal distribution, data are symmetrically distributed with no skew. Most values cluster around a central region, with values tapering off as they go further away from the center. The measures of central tendency (mean, mode, and median) are exactly the same in a normal distribution.\n",
    "\n",
    "EXAMPLES:\n",
    "\n",
    "Height\n",
    "\n",
    "Weight\n",
    "\n"
   ]
  },
  {
   "cell_type": "markdown",
   "id": "b6b45ff5-7614-4a25-994b-6fbefa91411b",
   "metadata": {},
   "source": [
    "## Q5: What is Bernaulli Distribution? Give an Example. What is the difference between Bernoulli Distribution and Binomial Distribution?"
   ]
  },
  {
   "cell_type": "markdown",
   "id": "3e6c63af-6c1e-4e40-9776-f3a0dd32e0e2",
   "metadata": {},
   "source": [
    "Bernoulli distribution is a discrete probability distribution. It describes the probability of achieving a “success” or “failure” from a Bernoulli trial. A Bernoulli trial is an event that has only two possible outcomes (success or failure).\n",
    "\n",
    "The Bernoulli distribution represents the success or failure of a single Bernoulli trial. The Binomial Distribution represents the number of successes and failures in n independent Bernoulli trials for some given value of n."
   ]
  },
  {
   "cell_type": "markdown",
   "id": "3b55c411-44ad-4263-aeb0-db1e61464f43",
   "metadata": {},
   "source": [
    "## Q6: Consider a dataset with a mean of 50 and a standard deviation of 10. If we assume that the dataset is normally distributed, what is the probability that a randomly selected observation will be greater than 60? Use the appropriate formula and show your calculations."
   ]
  },
  {
   "cell_type": "code",
   "execution_count": 1,
   "id": "9204f8e0-c661-4339-af38-f9459f5158e0",
   "metadata": {},
   "outputs": [
    {
     "data": {
      "text/plain": [
       "55.0"
      ]
     },
     "execution_count": 1,
     "metadata": {},
     "output_type": "execute_result"
    }
   ],
   "source": [
    "mean = 50\n",
    "sd = 10\n",
    "# we will use z-score formula\n",
    "# xi - mean/sd\n",
    "\n",
    "prob = 60-50/10\n",
    "prob"
   ]
  },
  {
   "cell_type": "markdown",
   "id": "89357f2d-c1e0-43e7-af5b-3b9e1ef8b04a",
   "metadata": {},
   "source": [
    "## Q7: Explain uniform Distribution with an example."
   ]
  },
  {
   "cell_type": "markdown",
   "id": "d419657e-798c-4c41-9f5e-49bb69d16915",
   "metadata": {},
   "source": [
    " In statistics, uniform distribution refers to a type of probability distribution in which all outcomes are equally likely. A deck of cards has within it uniform distributions because the likelihood of drawing a heart, a club, a diamond, or a spade is equally likely."
   ]
  },
  {
   "cell_type": "markdown",
   "id": "c4b47113-c127-47c3-ae69-0a196782aaf6",
   "metadata": {},
   "source": [
    "## Q8: What is the z score? State the importance of the z score."
   ]
  },
  {
   "cell_type": "markdown",
   "id": "5fa2a5f0-7341-4b47-915d-50625f308388",
   "metadata": {},
   "source": [
    "Z-score is a statistical measurement that describes a value's relationship to the mean of a group of values. Z-score is measured in terms of standard deviations from the mean. If a Z-score is 0, it indicates that the data point's score is identical to the mean score.\n",
    "\n",
    "A z-score is important because it tells where your data lies in the data distribution. For example, if a z-score is 1.5, it is 1.5 standard deviations away from the mean."
   ]
  },
  {
   "cell_type": "markdown",
   "id": "6e1bfb1b-1e43-4e35-9d0b-4956142c5f95",
   "metadata": {},
   "source": [
    "## Q9: What is Central Limit Theorem? State the significance of the Central Limit Theorem."
   ]
  },
  {
   "cell_type": "markdown",
   "id": "1b8cd65d-ea2f-488d-b8d3-81251dda5736",
   "metadata": {},
   "source": [
    "The CLT is a statistical theory that states that - if you take a sufficiently large sample size from a population with a finite level of variance, the mean of all samples from that population will be roughly equal to the population mean.\n",
    "\n",
    "The central limit theorem is useful when analyzing large data sets because it allows one to assume that the sampling distribution of the mean will be normally-distributed in most cases. This allows for easier statistical analysis and inference."
   ]
  },
  {
   "cell_type": "markdown",
   "id": "169f24c9-b01a-4631-b6f9-5769af00fd47",
   "metadata": {},
   "source": [
    "## Q10: State the assumptions of the Central Limit Theorem."
   ]
  },
  {
   "cell_type": "markdown",
   "id": "71686774-6211-4ccd-ad36-b52e7979d991",
   "metadata": {},
   "source": [
    "It needs to be sampled at random. The samples should be unrelated to one another. One sample should not impact the others. When taking samples without replacement, the sample size should not exceed 10% of the population."
   ]
  },
  {
   "cell_type": "code",
   "execution_count": null,
   "id": "c9f467f5-0de0-46d9-a557-9b666d76f11e",
   "metadata": {},
   "outputs": [],
   "source": []
  }
 ],
 "metadata": {
  "kernelspec": {
   "display_name": "Python 3 (ipykernel)",
   "language": "python",
   "name": "python3"
  },
  "language_info": {
   "codemirror_mode": {
    "name": "ipython",
    "version": 3
   },
   "file_extension": ".py",
   "mimetype": "text/x-python",
   "name": "python",
   "nbconvert_exporter": "python",
   "pygments_lexer": "ipython3",
   "version": "3.10.8"
  }
 },
 "nbformat": 4,
 "nbformat_minor": 5
}
