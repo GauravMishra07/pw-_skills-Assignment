{
 "cells": [
  {
   "cell_type": "markdown",
   "id": "87e62890-1dea-4031-a267-5034a529605e",
   "metadata": {},
   "source": [
    "## Q1.What is multithreading in python? why is it used? Name the module used to handle threads in python"
   ]
  },
  {
   "cell_type": "markdown",
   "id": "e6404849-7bfb-491e-ab6e-48d6b34ce3b7",
   "metadata": {},
   "source": [
    "Multithreading (sometimes simply \"threading\") is when a program creates multiple threads with execution cycling among them, so one longer-running task doesn't block all the others. This works well for tasks that can be broken down into smaller subtasks, which can then each be given to a thread to be completed.\n",
    "Threading module is used to handle threads in python."
   ]
  },
  {
   "cell_type": "markdown",
   "id": "bdbc509e-ce45-42e1-a7d0-89a06119538d",
   "metadata": {},
   "source": [
    "## Q2.Why threading module used? write the use of the following functions\n",
    "1. activeCount\n",
    "2. currentThread\n",
    "3. enumerate"
   ]
  },
  {
   "cell_type": "markdown",
   "id": "c5873a67-7852-4e2a-a281-3938af74b44d",
   "metadata": {},
   "source": [
    "Python threading allows you to have different parts of your program run concurrently and can simplify your design."
   ]
  },
  {
   "cell_type": "markdown",
   "id": "7f4090fb-d79a-41d3-8d89-bc3d5ee9babf",
   "metadata": {},
   "source": [
    "threading. activeCount() − Returns the number of thread objects that are active.\n",
    "\n",
    "threading. currentThread() − Returns the number of thread objects in the caller's thread control.\n",
    "\n",
    "The module function enumerate() returns a list of all alive threads. A boolean value indicating whether this thread is a daemon thread ( True ) or not ( False ). This must be set before start() is called, otherwise RuntimeError is raised.\n",
    "\n"
   ]
  },
  {
   "cell_type": "markdown",
   "id": "9c7217d4-5f2c-43e2-9ed1-7776baa48f39",
   "metadata": {},
   "source": [
    "## Q3. Explain the following functions:\n"
   ]
  },
  {
   "cell_type": "markdown",
   "id": "e071ba1b-8833-472d-9b21-1b4924cd453d",
   "metadata": {},
   "source": [
    "1. run():\n",
    "\n",
    "run() method is an inbuilt method of the Thread class of the threading module in Python. This method is used to represent a thread's activity. It calls the method expressed as the target argument in the Thread object along with the positional and keyword arguments taken from the args and kwargs arguments, respectively"
   ]
  },
  {
   "cell_type": "markdown",
   "id": "4d7138e2-094c-4212-aa6e-92e05cc7ff3b",
   "metadata": {},
   "source": [
    "2. start():\n",
    "\n",
    "start() − The start() method starts a thread by calling the run method. "
   ]
  },
  {
   "cell_type": "markdown",
   "id": "0f8b6846-70ea-41ac-9a25-3a12525270e0",
   "metadata": {},
   "source": [
    "3. join():\n",
    "\n",
    "join([time]) − The join() waits for threads to terminate.\n",
    "\n",
    "    \n"
   ]
  },
  {
   "cell_type": "markdown",
   "id": "b2b8324a-9bdb-4150-bc42-8fa899805a51",
   "metadata": {},
   "source": [
    "4. isAlive():\n",
    "\n",
    "isAlive() − The isAlive() method checks whether a thread is still executing.\n"
   ]
  },
  {
   "cell_type": "markdown",
   "id": "827cab35-4ad6-424b-a6cc-d7f4778637f2",
   "metadata": {},
   "source": [
    "## Q4. Write a python program to create two threads. Thread one must print the list of squares and thread two must print the list of cubes"
   ]
  },
  {
   "cell_type": "code",
   "execution_count": 15,
   "id": "6367f9b4-1bbd-4262-a81a-b51b6ded47f2",
   "metadata": {},
   "outputs": [],
   "source": [
    "def sqr():\n",
    "    for i in range(1,10):\n",
    "        print(i**2)\n",
    "    "
   ]
  },
  {
   "cell_type": "code",
   "execution_count": 7,
   "id": "2450bb73-c96b-4837-b484-3976b850235b",
   "metadata": {},
   "outputs": [],
   "source": [
    "import threading"
   ]
  },
  {
   "cell_type": "code",
   "execution_count": 20,
   "id": "4cbfe5dd-77d8-468a-9f8d-08c45c082790",
   "metadata": {},
   "outputs": [],
   "source": [
    "a=[threading.Thread(target = sqr,)]"
   ]
  },
  {
   "cell_type": "code",
   "execution_count": 23,
   "id": "e4259cc8-6b25-479a-932e-3ad7e30ce8d6",
   "metadata": {},
   "outputs": [
    {
     "name": "stdout",
     "output_type": "stream",
     "text": [
      "1\n",
      "4\n",
      "9\n",
      "16\n",
      "25\n",
      "36\n",
      "49\n",
      "64\n",
      "81\n"
     ]
    }
   ],
   "source": [
    "for t in a:\n",
    "    t.start()"
   ]
  },
  {
   "cell_type": "code",
   "execution_count": 28,
   "id": "a11165b6-bf82-47e1-8470-2af67ba84361",
   "metadata": {},
   "outputs": [],
   "source": [
    "def cube():\n",
    "    for i in range(1,10):\n",
    "        print(i**3)"
   ]
  },
  {
   "cell_type": "code",
   "execution_count": 31,
   "id": "6756002b-e166-4201-8c4b-2e094dc985fd",
   "metadata": {},
   "outputs": [
    {
     "name": "stdout",
     "output_type": "stream",
     "text": [
      "1\n",
      "8\n",
      "27\n",
      "64\n",
      "125\n",
      "216\n",
      "343\n",
      "512\n",
      "729\n"
     ]
    }
   ],
   "source": [
    "b=[threading.Thread(target = cube)]\n",
    "for t in b:\n",
    "    t.start()"
   ]
  },
  {
   "cell_type": "markdown",
   "id": "15a9aef5-97cd-4260-a3c4-372ef28c898f",
   "metadata": {},
   "source": [
    "## Q5. State advantages and disadvantages of multithreading"
   ]
  },
  {
   "cell_type": "markdown",
   "id": "a5c686aa-dee1-40a4-b790-d35c1229d0a7",
   "metadata": {},
   "source": [
    "### Advantages:\n",
    "\n",
    "Enhanced performance by decreased development time.\n",
    "\n",
    "Simplified and streamlined program coding.\n",
    "\n",
    "Improvised GUI responsiveness.\n",
    "\n",
    "Simultaneous and parallelized occurrence of tasks.\n",
    "\n",
    "Better use of cache storage by utilization of resources.\n",
    "\n",
    "Decreased cost of maintenance.\n",
    "\n",
    "Better use of CPU resource."
   ]
  },
  {
   "cell_type": "markdown",
   "id": "5583e980-5548-43db-89f7-b74bb9ade294",
   "metadata": {},
   "source": [
    "### Disadvantages:\n",
    "Complex debugging and testing processes.\n",
    "\n",
    "Overhead switching of context.\n",
    "\n",
    "Increased potential for deadlock occurrence.\n",
    "\n",
    "Increased difficulty level in writing a program.\n",
    "\n",
    "Unpredictable results.\n"
   ]
  },
  {
   "cell_type": "markdown",
   "id": "d876b951-64a2-4cc3-bd0a-a4a6313590f6",
   "metadata": {},
   "source": [
    "## Q6. Explain deadlocks and race conditions."
   ]
  },
  {
   "cell_type": "markdown",
   "id": "4e270c02-9730-41ea-ba06-350a7ae00f08",
   "metadata": {},
   "source": [
    "### Race conditions:\n",
    "When two processes are competing with each other causing data corruption.\n",
    "\n",
    "For example, if two processes/threads are trying to execute the following conditions simultaneously, they cause data corruption:\n",
    "\n",
    "Thread 1:\n",
    "total = num1 + num2\n",
    "\n",
    "Thread 2:\n",
    "total = num1 - num2\n",
    "\n",
    "It is very common for the race conditions to go unnoticed during testing even after multiple tests and code reviews. But in production, there would be a lot of processes and threads working parallelly and compete for the same resources, and this problem would occur."
   ]
  },
  {
   "cell_type": "markdown",
   "id": "50e8f324-7f31-4c8d-88b2-1e40acb4c484",
   "metadata": {},
   "source": [
    "### Deadlocks:\n",
    "\n",
    "When two processes are waiting for each other directly or indirectly, it is called deadlock.\n",
    "\n",
    "This usually occurs when two processes are waiting for shared resources acquired by others. For example, If thread T1 acquired resource R1 and it also needs resource R2 for it to accomplish its task. But the resource R2 is acquired by thread T2 which is waiting for resource R1(which is acquired by T1).. Neither of them will be able to accomplish its task, as they keep waiting for the other resources they need."
   ]
  }
 ],
 "metadata": {
  "kernelspec": {
   "display_name": "Python 3 (ipykernel)",
   "language": "python",
   "name": "python3"
  },
  "language_info": {
   "codemirror_mode": {
    "name": "ipython",
    "version": 3
   },
   "file_extension": ".py",
   "mimetype": "text/x-python",
   "name": "python",
   "nbconvert_exporter": "python",
   "pygments_lexer": "ipython3",
   "version": "3.10.8"
  }
 },
 "nbformat": 4,
 "nbformat_minor": 5
}
