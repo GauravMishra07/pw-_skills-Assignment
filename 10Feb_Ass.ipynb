{
 "cells": [
  {
   "cell_type": "markdown",
   "id": "c4c3ef84-3046-457f-979f-edb25df4dc5f",
   "metadata": {},
   "source": [
    "## Q1. Which function is used to open a file? What are the different modes of opening a file? Explain each mode of file opening."
   ]
  },
  {
   "cell_type": "markdown",
   "id": "3597f1c2-e3f8-4c8a-9e0d-6c46923c02d0",
   "metadata": {},
   "source": [
    "In Python, we use the open() method to open files.\n",
    "\n",
    "\n",
    "Mode\tDescription\n",
    "r\tOpen a file for reading. (default)\n",
    "\n",
    "w\tOpen a file for writing. Creates a new file if it does not exist or truncates the file if it exists.\n",
    "\n",
    "x\tOpen a file for exclusive creation. If the file already exists, the operation fails.\n",
    "\n",
    "a\tOpen a file for appending at the end of the file without truncating it. Creates a new file if it does not exist.\n",
    "\n",
    "t\tOpen in text mode. (default)\n",
    "\n",
    "b\tOpen in binary mode.\n",
    "\n",
    "+\tOpen a file for updating (reading and writing)"
   ]
  },
  {
   "cell_type": "markdown",
   "id": "d93a017f-3918-414a-a118-5703e181eb00",
   "metadata": {},
   "source": [
    "## Q2. Why close() function is used? Why is it important to close a file?"
   ]
  },
  {
   "cell_type": "markdown",
   "id": "0de5b00c-7860-4ebf-92a9-9eb624d686ed",
   "metadata": {},
   "source": [
    "The close() method closes an open file. You should always close your files, in some cases, due to buffering, changes made to a file may not show until you close the file."
   ]
  },
  {
   "cell_type": "markdown",
   "id": "e6c0bf58-ac5f-4fb5-b489-d763e65a740e",
   "metadata": {},
   "source": [
    "## Q3. Write a python program to create a text file. Write ‘I want to become a Data Scientist’ in that file. Then close the file. Open this file and read the content of the file."
   ]
  },
  {
   "cell_type": "code",
   "execution_count": 3,
   "id": "e88628c5-3e59-4117-baf3-1253e64ba846",
   "metadata": {},
   "outputs": [],
   "source": [
    "file1 = open(\"myfile.txt\",\"w\")\n",
    "file1.write(\"I want to become a Data Scientist\")\n",
    "file1.close()\n"
   ]
  },
  {
   "cell_type": "code",
   "execution_count": 4,
   "id": "10d86717-4ded-4f9b-87c3-bcdeaed8f21c",
   "metadata": {},
   "outputs": [
    {
     "data": {
      "text/plain": [
       "'I want to become a Data Scientist'"
      ]
     },
     "execution_count": 4,
     "metadata": {},
     "output_type": "execute_result"
    }
   ],
   "source": [
    "file1 = open(\"myfile.txt\",\"r\")\n",
    "file1.read()"
   ]
  },
  {
   "cell_type": "markdown",
   "id": "5cdfba78-76e2-4f53-8d81-fd6f83251095",
   "metadata": {},
   "source": [
    "## Q4. Explain the following with python code: read(), readline() and readlines()."
   ]
  },
  {
   "cell_type": "markdown",
   "id": "2255961d-7d48-4721-8e83-668b0d0e185e",
   "metadata": {},
   "source": [
    "Readline ( ) returns the next line of the file, which contains a newline character in the end. Also, if the end of the file is reached, it will return an empty string. readlines ( ): Reads all the lines and returns them as a string element in a list."
   ]
  },
  {
   "cell_type": "markdown",
   "id": "34c0ba07-a174-494d-baa2-0d73dd2b0aad",
   "metadata": {},
   "source": [
    "The read() method returns the specified number of bytes from the file. Default is -1 which means the whole file."
   ]
  },
  {
   "cell_type": "markdown",
   "id": "8152e3df-275d-4b2d-81d7-de327e7bb924",
   "metadata": {},
   "source": [
    "## Q5. Explain why with statement is used with open(). What is the advantage of using with statement and open() together?"
   ]
  },
  {
   "cell_type": "markdown",
   "id": "5c8c1a83-1259-4bc8-9f41-221d36e7656e",
   "metadata": {},
   "source": [
    "The with statement works with the open() function to open a file. Unlike open() where you have to close the file with the close() method, the with statement closes the file for you without you telling it to. This is because the with statement calls 2 built-in methods behind the scene – __enter()__ and __exit()__ ."
   ]
  },
  {
   "cell_type": "markdown",
   "id": "25c6b630-42bd-4c90-abf9-eda82ad721b5",
   "metadata": {},
   "source": [
    "## Q6. Explain the write() and writelines() functions. Give a suitable example."
   ]
  },
  {
   "cell_type": "code",
   "execution_count": 6,
   "id": "d17d501f-54dd-4bd8-8b11-49e5156bb1e5",
   "metadata": {},
   "outputs": [
    {
     "name": "stdin",
     "output_type": "stream",
     "text": [
      "Enter the name of the employee:  gaurav\n",
      "Enter the name of the employee:  gaur\n",
      "Enter the name of the employee:  abhay\n"
     ]
    },
    {
     "name": "stdout",
     "output_type": "stream",
     "text": [
      "Data is written into the file.\n"
     ]
    }
   ],
   "source": [
    "## The write() function will write the content in the file without adding any extra characters.\n",
    "\n",
    "\n",
    "file = open(\"myfile.txt\", \"w\")\n",
    "\n",
    "for i in range(3):\n",
    "    name = input(\"Enter the name of the employee: \")\n",
    "    file.write(name)\n",
    "    file.write(\"\\n\")\n",
    "\t\n",
    "file.close()\n",
    "\n",
    "print(\"Data is written into the file.\")\n"
   ]
  },
  {
   "cell_type": "code",
   "execution_count": 9,
   "id": "1b4413ae-1754-4c58-ad5b-7213ced83a70",
   "metadata": {},
   "outputs": [
    {
     "name": "stdin",
     "output_type": "stream",
     "text": [
      "Enter the name of the employee:  abhay\n",
      "Enter the name of the employee:  gaurav\n",
      "Enter the name of the employee:  raj\n"
     ]
    },
    {
     "name": "stdout",
     "output_type": "stream",
     "text": [
      "Data is written into the file.\n"
     ]
    }
   ],
   "source": [
    "## the list of strings that is passed to the writelines() function is written into the opened file. Similar to the write() function, the writelines() function does not add a newline character(\\n) to the end of the string.\n",
    "\n",
    "file1 = open(\"myfile.txt\", \"w\")\n",
    "lst = []\n",
    "for i in range(3):\n",
    "\tname = input(\"Enter the name of the employee: \")\n",
    "\tlst.append(name + '\\n')\n",
    "\t\n",
    "file1.writelines(lst)\n",
    "file1.close()\n",
    "print(\"Data is written into the file.\")\n"
   ]
  },
  {
   "cell_type": "code",
   "execution_count": null,
   "id": "002f43c8-9644-4243-90c0-e83f9c1b5441",
   "metadata": {},
   "outputs": [],
   "source": []
  }
 ],
 "metadata": {
  "kernelspec": {
   "display_name": "Python 3 (ipykernel)",
   "language": "python",
   "name": "python3"
  },
  "language_info": {
   "codemirror_mode": {
    "name": "ipython",
    "version": 3
   },
   "file_extension": ".py",
   "mimetype": "text/x-python",
   "name": "python",
   "nbconvert_exporter": "python",
   "pygments_lexer": "ipython3",
   "version": "3.10.8"
  }
 },
 "nbformat": 4,
 "nbformat_minor": 5
}
