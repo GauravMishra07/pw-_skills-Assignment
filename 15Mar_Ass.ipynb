{
 "cells": [
  {
   "cell_type": "markdown",
   "id": "9cefdf80-529c-446c-adf9-510d02f8afbe",
   "metadata": {},
   "source": [
    "## Q1: Explain the following with an example"
   ]
  },
  {
   "cell_type": "markdown",
   "id": "0a89b1a5-1a8f-407e-bd6a-5bb0438d896a",
   "metadata": {},
   "source": [
    "1: Artificial Intelligence\n",
    "\n",
    "Artificial intelligence is the simulation of human intelligence processes by machines, especially computer systems. Specific applications of AI include expert systems, natural language processing, speech recognition and machine vision.\n",
    "\n",
    "2: Machine learning:\n",
    "\n",
    "Machine learning is a modern innovation that has enhanced many industrial and professional processes as well as our daily lives. It's a subset of artificial intelligence (AI), which focuses on using statistical techniques to build intelligent computer systems to learn from available databases.\n",
    "\n",
    "3: Deep learning:\n",
    "\n",
    "Deep learning is a method in artificial intelligence (AI) that teaches computers to process data in a way that is inspired by the human brain. Deep learning models can recognize complex patterns in pictures, text, sounds, and other data to produce accurate insights and predictions."
   ]
  },
  {
   "cell_type": "markdown",
   "id": "9bc3cf75-4b8f-4189-93f2-c5c43d9a08d0",
   "metadata": {},
   "source": [
    "## Q2: What is supervised learning? give some examples"
   ]
  },
  {
   "cell_type": "markdown",
   "id": "fb7e3dc7-82a6-45a7-ab4e-5e5661fec49c",
   "metadata": {},
   "source": [
    "Supervised learning uses a training set to teach models to yield the desired output. This training dataset includes inputs and correct outputs, which allow the model to learn over time. The algorithm measures its accuracy through the loss function, adjusting until the error has been sufficiently minimized\n",
    "\n",
    "Example- Fraud detection"
   ]
  },
  {
   "cell_type": "markdown",
   "id": "fc4ce62e-1359-4f1e-874d-3f4836513d6e",
   "metadata": {},
   "source": [
    "## Q3: What is unsupervised learning? give some examples"
   ]
  },
  {
   "cell_type": "markdown",
   "id": "56bfe0ee-7062-4d0f-af71-1fcecd9af948",
   "metadata": {},
   "source": [
    "Unsupervised learning, also known as unsupervised machine learning, uses machine learning algorithms to analyze and cluster unlabeled datasets. These algorithms discover hidden patterns or data groupings without the need for human intervention.\n",
    "\n",
    "example - Anomoly detection"
   ]
  },
  {
   "cell_type": "markdown",
   "id": "97a2592f-3b4e-4d5f-9ba0-ad6259161326",
   "metadata": {},
   "source": [
    "## Q4- What is the difference betweenAI, ML, DL, and DS?"
   ]
  },
  {
   "cell_type": "markdown",
   "id": "9d76915c-86a6-4a93-ab2b-d53305b41ddd",
   "metadata": {},
   "source": [
    "Artificial Intelligence (AI) enables machines to think by understanding, learning from the data, and taking decisions based on patterns hidden in the data or make inferences that would otherwise be very difficult for humans to make manually. The end goal of using ML or DL is to create an AI application or machine as smart as humans.\n",
    "\n",
    "\n",
    "Machine Learning (ML) is a subset of AI; it provides us statistical tools/techniques like Supervised, Unsupervised, and Reinforcement learning to explore and analyze the data.\n",
    "\n",
    "\n",
    "Deep Learning (DL) is further a subset of ML, and the main idea behind it is to make machines learn by mimicking the human brain. Here, we create a multi neural network architecture with the help of different techniques like ANN, CNN, and RNN.\n",
    "\n",
    "\n",
    "Data Science (DS) is basically drawing insights from structured and unstructured data either by using ML or DL or without these techniques. We can even use different visualization tools, statistics, and probability to gain these insights."
   ]
  },
  {
   "cell_type": "markdown",
   "id": "591dbb47-086b-473e-8e98-cabcc2a18fb0",
   "metadata": {},
   "source": [
    "## Q5- What arK thK main diffKrKncKs bKtwKKn supKrvisKd, unsupKrvisKd, and sKmi-supKrvisKd lKarnin*?"
   ]
  },
  {
   "cell_type": "markdown",
   "id": "4f7bf8da-6673-48d4-a9f5-9c8edd99ba56",
   "metadata": {},
   "source": [
    "Supervised learning algorithms are trained using labeled data. Unsupervised learning algorithms are trained using unlabeled data. Supervised learning model takes direct feedback to check if it is predicting correct output or not. Unsupervised learning model does not take any feedback.\n",
    "\n",
    "Unsupervised learning is mixture of both supervised and unsupervised learning"
   ]
  },
  {
   "cell_type": "markdown",
   "id": "48d1dbd1-be35-4459-91f7-7bc154c23503",
   "metadata": {},
   "source": [
    "## Q6- What is train, tKst and validation split? E=plain thK importancK of Kach tKrm."
   ]
  },
  {
   "cell_type": "markdown",
   "id": "77dd9452-3510-41ba-8995-d7c073443aca",
   "metadata": {},
   "source": [
    "Train: The difference between the training set and the validation set is the training set is the largest corpus of your dataset that you reserve for training your model. After training, inference on these images will be taken with a grain of salt, since the model has already had a chance to look at and memorize the correct output.\n",
    "\n",
    "Validation: The validation set is a separate section of your dataset that you will use during training to get a sense of how well your model is doing on images that are not being used in training.\n",
    "\n",
    "Test: After all of the training experiments have concluded, you probably have gotten a sense on how your model might do on the validation set. But it is important to remember that the validation set metrics may have influenced you during the creation of the model, and in this sense you might, as a designer, overfit the new model to the validation set."
   ]
  },
  {
   "cell_type": "markdown",
   "id": "c9a78311-fa8e-41cf-b483-3f03a461ab9c",
   "metadata": {},
   "source": [
    "## Q7- How can unsupervised learning be used in anomaly detection?"
   ]
  },
  {
   "cell_type": "markdown",
   "id": "efd75524-33de-4a96-a69e-a7338db915b2",
   "metadata": {},
   "source": [
    "Unsupervised machine learning is one of the main branches of machine learning and it has a multitude of applications. One of the most important is anomaly detection: identifying normal patterns within a data sample and then detecting outliers based on the natural characteristics of the data set itself."
   ]
  },
  {
   "cell_type": "markdown",
   "id": "58109d7e-9fb0-411b-aec1-5b585ab96640",
   "metadata": {},
   "source": [
    "## Q8- List down some commonly used supervised learning algorithms and unsupervised learning algorithms."
   ]
  },
  {
   "cell_type": "markdown",
   "id": "818c2357-7a3d-4e88-8658-f5644fe1e960",
   "metadata": {},
   "source": [
    "Supervised learning algorithm:\n",
    "\n",
    "Linear classifiers, support vector machines (SVM), decision trees, k-nearest neighbor, and random forest\n",
    "\n",
    "\n",
    "Unsupervised learning algorithm:\n",
    "\n",
    "K-means clustering.\n",
    "KNN (k-nearest neighbors)\n",
    "Hierarchal clustering.\n",
    "Anomaly detection.\n",
    "Neural Networks."
   ]
  },
  {
   "cell_type": "code",
   "execution_count": null,
   "id": "0ce36034-2c0a-433b-9943-08f46efa214f",
   "metadata": {},
   "outputs": [],
   "source": []
  }
 ],
 "metadata": {
  "kernelspec": {
   "display_name": "Python 3 (ipykernel)",
   "language": "python",
   "name": "python3"
  },
  "language_info": {
   "codemirror_mode": {
    "name": "ipython",
    "version": 3
   },
   "file_extension": ".py",
   "mimetype": "text/x-python",
   "name": "python",
   "nbconvert_exporter": "python",
   "pygments_lexer": "ipython3",
   "version": "3.10.8"
  }
 },
 "nbformat": 4,
 "nbformat_minor": 5
}
