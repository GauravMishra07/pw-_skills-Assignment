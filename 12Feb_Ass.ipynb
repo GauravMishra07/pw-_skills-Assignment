{
 "cells": [
  {
   "cell_type": "markdown",
   "id": "836b88af-519b-46f2-bfa6-7a3f289972b5",
   "metadata": {},
   "source": [
    "## Q1. What is an Exception in python? Write the difference between Exceptions and syntax error."
   ]
  },
  {
   "cell_type": "markdown",
   "id": "26587e5e-fdd6-49f3-9942-49f3ddab57f5",
   "metadata": {},
   "source": [
    "An exception is an event, which occurs during the execution of a program that disrupts the normal flow of the program's instructions. In general, when a Python script encounters a situation that it cannot cope with, it raises an exception. An exception is a Python object that represents an error."
   ]
  },
  {
   "cell_type": "markdown",
   "id": "684d4dda-66c3-4f09-ad14-e851586c5c0b",
   "metadata": {},
   "source": [
    "Errors cannot be handled, while Python exceptions can be handled at the run time. An error can be a syntax (parsing) error, while there can be many types of exceptions that could occur during the execution and are not unconditionally inoperable."
   ]
  },
  {
   "cell_type": "markdown",
   "id": "97719a27-2f28-49ba-8ed7-9e39f167bc00",
   "metadata": {},
   "source": [
    "## Q2. What happens when an exception is not handled? Explain with an example"
   ]
  },
  {
   "cell_type": "markdown",
   "id": "3d93ed63-bc96-4d61-a010-dfd6b2223572",
   "metadata": {},
   "source": [
    "If an exception occurs during execution of the try clause, the exception may be handled by an except clause. If the exception is not handled by an except clause, the exception is re-raised after the finally clause has been executed.\n"
   ]
  },
  {
   "cell_type": "code",
   "execution_count": 4,
   "id": "8f3d3815-9762-4649-90a1-0fceada9d60e",
   "metadata": {},
   "outputs": [
    {
     "ename": "ZeroDivisionError",
     "evalue": "division by zero",
     "output_type": "error",
     "traceback": [
      "\u001b[0;31m---------------------------------------------------------------------------\u001b[0m",
      "\u001b[0;31mZeroDivisionError\u001b[0m                         Traceback (most recent call last)",
      "Cell \u001b[0;32mIn[4], line 3\u001b[0m\n\u001b[1;32m      1\u001b[0m a \u001b[38;5;241m=\u001b[39m \u001b[38;5;241m5\u001b[39m\n\u001b[1;32m      2\u001b[0m b \u001b[38;5;241m=\u001b[39m \u001b[38;5;241m0\u001b[39m\n\u001b[0;32m----> 3\u001b[0m \u001b[38;5;28mprint\u001b[39m(\u001b[43ma\u001b[49m\u001b[38;5;241;43m/\u001b[39;49m\u001b[43mb\u001b[49m)\n",
      "\u001b[0;31mZeroDivisionError\u001b[0m: division by zero"
     ]
    }
   ],
   "source": [
    "a = 5\n",
    "b = 0\n",
    "print(a/b)\n"
   ]
  },
  {
   "cell_type": "markdown",
   "id": "3b708882-72e7-4b0d-a98b-8d2325ae2d79",
   "metadata": {},
   "source": [
    "## Q3. Which Python statements are used to catch and handle exceptions? Explain with an example."
   ]
  },
  {
   "cell_type": "markdown",
   "id": "0ab4df6d-6517-495d-8b0c-abccad26ca3c",
   "metadata": {},
   "source": [
    "try and except functions are used to catch and handle exception"
   ]
  },
  {
   "cell_type": "code",
   "execution_count": 9,
   "id": "09845c72-7d5c-4b28-9643-3df58ec5cfc2",
   "metadata": {},
   "outputs": [
    {
     "name": "stdout",
     "output_type": "stream",
     "text": [
      "Yeah ! Your answer is : 1\n",
      "Sorry ! You are dividing by zero \n"
     ]
    }
   ],
   "source": [
    "# Python code to illustrate\n",
    "# working of try()\n",
    "def divide(x, y):\n",
    "\ttry:\n",
    "\t\t# Floor Division : Gives only Fractional\n",
    "\t\t# Part as Answer\n",
    "\t\tresult = x // y\n",
    "\t\tprint(\"Yeah ! Your answer is :\", result)\n",
    "\texcept:\n",
    "\t\tprint(\"Sorry ! You are dividing by zero \")\n",
    "\n",
    "# Look at parameters and note the working of Program\n",
    "divide(3, 2)\n",
    "divide(3, 0)\n"
   ]
  },
  {
   "cell_type": "markdown",
   "id": "7efbe912-714e-4bfa-88d1-5a843da3822e",
   "metadata": {},
   "source": [
    "## Q4. Explain witha n example:\n",
    "   try and else: In python, you can also use the else clause on the try-except block which must be present after all the except clauses. The code enters the else block only if the try clause does not raise an exception.In python, you can also use the else clause on the try-except block which must be present after all the except clauses. The code enters the else block only if the try clause does not raise an exception.\n",
    "   \n",
    "   finally :The finally block will be executed no matter if the try block raises an error or not. This can be useful to close objects and clean up resources.The finally block will be executed no matter if the try block raises an error or not. This can be useful to close objects and clean up resources.\n",
    "\n",
    "   \n",
    "   raise: The raise keyword is used to raise an exception.You can define what kind of error to raise, and the text to print to the user.The raise keyword is used to raise an exception.You can define what kind of error to raise, and the text to print to the user.\n",
    "\n"
   ]
  },
  {
   "cell_type": "code",
   "execution_count": 13,
   "id": "82d5ff2f-fdd3-49b0-b596-733f18777794",
   "metadata": {},
   "outputs": [],
   "source": [
    "## try and else\n",
    "def divide1(x,y):\n",
    "    try:\n",
    "        result = x//y\n",
    "    except:\n",
    "        print(\"Sorry!, you are dividing bu zero.\")\n",
    "        \n",
    "    else:\n",
    "        print(\"your answer is:\", result)"
   ]
  },
  {
   "cell_type": "code",
   "execution_count": 14,
   "id": "d308bc83-a715-4bc9-9f7e-4f372352e1e4",
   "metadata": {},
   "outputs": [
    {
     "name": "stdout",
     "output_type": "stream",
     "text": [
      "Sorry ! You are dividing by zero \n",
      "your answer is: 2\n"
     ]
    }
   ],
   "source": [
    "divide(2,0)\n",
    "divide1(4,2)"
   ]
  },
  {
   "cell_type": "code",
   "execution_count": 15,
   "id": "70df2758-5326-44b5-a02a-339d0013a26e",
   "metadata": {},
   "outputs": [],
   "source": [
    "#finally\n",
    "\n",
    "def divide2(x,y):\n",
    "    try:\n",
    "        result = x//y\n",
    "    except:\n",
    "        print(\"Sorry!, you are dividing bu zero.\")\n",
    "        \n",
    "    else:\n",
    "        print(\"your answer is:\", result)\n",
    "        \n",
    "    finally:\n",
    "        print(\"This is always going to execute\")\n"
   ]
  },
  {
   "cell_type": "code",
   "execution_count": 16,
   "id": "43295e75-ea1d-471d-8bb3-fd5e3a643bdb",
   "metadata": {},
   "outputs": [
    {
     "name": "stdout",
     "output_type": "stream",
     "text": [
      "Sorry!, you are dividing bu zero.\n",
      "This is always going to execute\n",
      "your answer is: 5\n",
      "This is always going to execute\n"
     ]
    }
   ],
   "source": [
    "divide2(6,0)\n",
    "divide2(65,13)"
   ]
  },
  {
   "cell_type": "code",
   "execution_count": 20,
   "id": "2037a52d-449c-4b91-b09f-ed2a55cfbafc",
   "metadata": {},
   "outputs": [
    {
     "ename": "TypeError",
     "evalue": "Only integers are allowed",
     "output_type": "error",
     "traceback": [
      "\u001b[0;31m---------------------------------------------------------------------------\u001b[0m",
      "\u001b[0;31mTypeError\u001b[0m                                 Traceback (most recent call last)",
      "Cell \u001b[0;32mIn[20], line 6\u001b[0m\n\u001b[1;32m      3\u001b[0m x \u001b[38;5;241m=\u001b[39m \u001b[38;5;124m\"\u001b[39m\u001b[38;5;124mjdndn\u001b[39m\u001b[38;5;124m\"\u001b[39m\n\u001b[1;32m      5\u001b[0m \u001b[38;5;28;01mif\u001b[39;00m \u001b[38;5;129;01mnot\u001b[39;00m \u001b[38;5;28mtype\u001b[39m(x) \u001b[38;5;129;01mis\u001b[39;00m \u001b[38;5;28mint\u001b[39m:\n\u001b[0;32m----> 6\u001b[0m   \u001b[38;5;28;01mraise\u001b[39;00m \u001b[38;5;167;01mTypeError\u001b[39;00m(\u001b[38;5;124m\"\u001b[39m\u001b[38;5;124mOnly integers are allowed\u001b[39m\u001b[38;5;124m\"\u001b[39m)\n",
      "\u001b[0;31mTypeError\u001b[0m: Only integers are allowed"
     ]
    }
   ],
   "source": [
    "#raise\n",
    "\n",
    "x = \"jdndn\"\n",
    "\n",
    "if not type(x) is int:\n",
    "  raise TypeError(\"Only integers are allowed\")\n"
   ]
  },
  {
   "cell_type": "markdown",
   "id": "95aeffa6-c3cd-4ed1-8cc9-4ed66746057c",
   "metadata": {},
   "source": [
    "## Q5. What are Custom Exceptions in python? Why do we need Custom Exceptions? Explain with an example."
   ]
  },
  {
   "cell_type": "markdown",
   "id": "8ee2ffd4-77c5-4e2f-a871-a6d9a1e11ce1",
   "metadata": {},
   "source": [
    "In Python, we can define custom exceptions by creating a new class that is derived from the built-in Exception class."
   ]
  },
  {
   "cell_type": "code",
   "execution_count": 12,
   "id": "abf8f20f-7178-4a34-bc06-a55924be0a88",
   "metadata": {},
   "outputs": [
    {
     "name": "stdin",
     "output_type": "stream",
     "text": [
      "Enter a number:  2\n"
     ]
    },
    {
     "name": "stdout",
     "output_type": "stream",
     "text": [
      "Exception occurred: Invalid Age\n"
     ]
    }
   ],
   "source": [
    "# define Python user-defined exceptions\n",
    "class InvalidAgeException(Exception):\n",
    "    \"Raised when the input value is less than 18\"\n",
    "    pass\n",
    "\n",
    "# you need to guess this number\n",
    "number = 18\n",
    "\n",
    "try:\n",
    "    input_num = int(input(\"Enter a number: \"))\n",
    "    if input_num < number:\n",
    "        raise InvalidAgeException\n",
    "    else:\n",
    "        print(\"Eligible to Vote\")\n",
    "        \n",
    "except InvalidAgeException:\n",
    "    print(\"Exception occurred: Invalid Age\")"
   ]
  },
  {
   "cell_type": "markdown",
   "id": "6fae4aa9-8596-4e50-80c3-ac8bd16444be",
   "metadata": {},
   "source": [
    "## Q6. Create custom exception ,class. Use this class to handle an exception."
   ]
  },
  {
   "cell_type": "code",
   "execution_count": 22,
   "id": "c2ab12fa-ab7a-4602-99d8-f1b3d99261fb",
   "metadata": {},
   "outputs": [
    {
     "name": "stdin",
     "output_type": "stream",
     "text": [
      "Enter a name:  gaurav\n"
     ]
    },
    {
     "name": "stdout",
     "output_type": "stream",
     "text": [
      "verified name\n"
     ]
    }
   ],
   "source": [
    "# define Python user-defined exceptions\n",
    "class Invalid_datatype_Exception(Exception):\n",
    "    \"Raised when the input value is less than 18\"\n",
    "    pass\n",
    "\n",
    "# you need to guess this number\n",
    "#name = 18\n",
    "\n",
    "try:\n",
    "    input_name =input(\"Enter a name: \")\n",
    "    if len(input_name) <=1:\n",
    "        raise Invalid_datatype_Exception\n",
    "    else:\n",
    "        print(\"verified name\")\n",
    "        \n",
    "except Invalid_datatype_Exception:\n",
    "    print(\"Exception occurred: Invalid name\")"
   ]
  },
  {
   "cell_type": "code",
   "execution_count": null,
   "id": "590f4291-252e-4f1e-8118-6429a3905ecd",
   "metadata": {},
   "outputs": [],
   "source": []
  }
 ],
 "metadata": {
  "kernelspec": {
   "display_name": "Python 3 (ipykernel)",
   "language": "python",
   "name": "python3"
  },
  "language_info": {
   "codemirror_mode": {
    "name": "ipython",
    "version": 3
   },
   "file_extension": ".py",
   "mimetype": "text/x-python",
   "name": "python",
   "nbconvert_exporter": "python",
   "pygments_lexer": "ipython3",
   "version": "3.10.8"
  }
 },
 "nbformat": 4,
 "nbformat_minor": 5
}
