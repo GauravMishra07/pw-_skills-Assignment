{
 "cells": [
  {
   "cell_type": "markdown",
   "id": "32016b26-a401-4715-ac10-5ea502387fa6",
   "metadata": {},
   "source": [
    " Q1. You are writing code for a company. The requirement of the company is that you create a python\n",
    "   function that will check whether the password entered by the user is correct or not. The function should\n",
    "   take the password as input and return the string “Valid Password” if the entered password follows the\n",
    "   below-given password guidelines else it should return “Invalid Password”.\n",
    "   Note: 1. The Password should contain at least two uppercase letters and at least two lowercase letters.\n",
    "   2. The Password should contain at least a number and three special characters.\n",
    "   3. The length of the password should be 10 characters long."
   ]
  },
  {
   "cell_type": "code",
   "execution_count": 1,
   "id": "e0cd7259-1449-4645-8581-df7c866635c0",
   "metadata": {},
   "outputs": [
    {
     "name": "stdin",
     "output_type": "stream",
     "text": [
      "Enter a password:  gg\n"
     ]
    },
    {
     "name": "stdout",
     "output_type": "stream",
     "text": [
      "Invalid Password\n"
     ]
    }
   ],
   "source": [
    "s = input(\"Enter a password: \")\n",
    "\n",
    "\n",
    "\n",
    "def fun(s):\n",
    "    \n",
    "    l, u, p, d = 0, 0, 0, 0\n",
    "   \n",
    "    if (len(s) >= 10):\n",
    "\t    for i in s:\n",
    "\n",
    "\t\t# counting lowercase alphabets\n",
    "\t\t    if (i.islower()):\n",
    "\t\t\t    l+=1\t\t\n",
    "\n",
    "\t\t# counting uppercase alphabets\n",
    "\t\t    if (i.isupper()):\n",
    "\t\t\t    u+=1\t\t\n",
    "\n",
    "\t\t# counting digits\n",
    "\t\t    if (i.isdigit()):\n",
    "\t\t\t    d+=1\t\t\n",
    "\n",
    "\t\t# counting the mentioned special characters\n",
    "\t\t    if(i=='@'or i=='$' or i=='_'):\n",
    "\t\t\t    p+=1\t\t\n",
    "                \n",
    "    if (l>=2 and u>=2 and p>=3 and d>=1 and l+p+u+d==len(s)):\n",
    "        print(\"Valid Password\")\n",
    "    else:\n",
    "\t    print(\"Invalid Password\")\n",
    "    \n",
    "fun(s)\n"
   ]
  },
  {
   "cell_type": "markdown",
   "id": "0a64a81c-0a82-4d4d-b9de-9439fc4b8e24",
   "metadata": {},
   "source": [
    "Q2. Solve the below-given questions using at least one of the following\n",
    "1. Lambda function\n",
    "2. Filter function\n",
    "3. Zap function\n",
    "4. List Comprehension"
   ]
  },
  {
   "cell_type": "code",
   "execution_count": 2,
   "id": "14581315-5724-4921-9cfd-cb5000142066",
   "metadata": {},
   "outputs": [
    {
     "name": "stdout",
     "output_type": "stream",
     "text": [
      "the sentence starts with d\n"
     ]
    }
   ],
   "source": [
    "#Check if the string starts with a particular letterY\n",
    "\n",
    "a = (\"degfht\")\n",
    "if a[0] == 'd':\n",
    "    print(\"the sentence starts with d\")\n",
    "else:\n",
    "    print(\"false\")\n"
   ]
  },
  {
   "cell_type": "code",
   "execution_count": 3,
   "id": "c9a4b9e7-d856-4de1-8d2b-a67a962703cd",
   "metadata": {},
   "outputs": [
    {
     "name": "stdout",
     "output_type": "stream",
     "text": [
      "it is numeric\n"
     ]
    }
   ],
   "source": [
    "#Check if the string is numeric\n",
    "\n",
    "b = \"234\"\n",
    "if b.isnumeric():\n",
    "    print(\"it is numeric\")\n",
    "else:\n",
    "    print(\"false\")\n",
    "\n"
   ]
  },
  {
   "cell_type": "code",
   "execution_count": 4,
   "id": "c842afbb-33a0-4a16-9a5f-fdda783f445d",
   "metadata": {},
   "outputs": [
    {
     "name": "stdout",
     "output_type": "stream",
     "text": [
      "[('orange', 80), ('mango', 99), ('grapes', 1000)]\n"
     ]
    }
   ],
   "source": [
    "##Sort a list of tuples having fruit names and their quantity. [(\"mango\",99),(\"orange\",80), (\"grapes\", 1000)\n",
    "\n",
    "c =  [(\"mango\",99),(\"orange\",80), (\"grapes\", 1000)]\n",
    "c.sort(reverse = True)\n",
    "print(c)"
   ]
  },
  {
   "cell_type": "code",
   "execution_count": 5,
   "id": "5fc1368d-3b16-4291-9d2f-8a541924c3ea",
   "metadata": {},
   "outputs": [
    {
     "name": "stdout",
     "output_type": "stream",
     "text": [
      "1\n",
      "4\n",
      "9\n",
      "16\n",
      "25\n",
      "36\n",
      "49\n",
      "64\n",
      "81\n",
      "100\n"
     ]
    }
   ],
   "source": [
    "#Find the squares of numbers from 1 to 10\n",
    "for i in range(1,11):\n",
    "    n = i**2\n",
    "    print(n)"
   ]
  },
  {
   "cell_type": "code",
   "execution_count": 6,
   "id": "f3ec3dcd-efdd-4260-86c1-3f3fb3315a3d",
   "metadata": {},
   "outputs": [
    {
     "name": "stdout",
     "output_type": "stream",
     "text": [
      "1.0\n",
      "1.259921\n",
      "1.44225\n",
      "1.587401\n",
      "1.709976\n",
      "1.817121\n",
      "1.912931\n",
      "2.0\n",
      "2.080084\n",
      "2.154435\n"
     ]
    }
   ],
   "source": [
    "#find the cube root of numbers from 1 to10\n",
    "\n",
    "for i in range(1,11):\n",
    "    #print(\"Cubic root of\", n, \"is\",\n",
    "    a = round(i**(1/3), 6)\n",
    "    print(a)"
   ]
  },
  {
   "cell_type": "code",
   "execution_count": 7,
   "id": "f1f385ed-e385-44df-b327-cd32cfbe3dbe",
   "metadata": {},
   "outputs": [
    {
     "name": "stdin",
     "output_type": "stream",
     "text": [
      "Enter a number:  44\n"
     ]
    },
    {
     "name": "stdout",
     "output_type": "stream",
     "text": [
      "It is an even number\n"
     ]
    }
   ],
   "source": [
    "#Check if a given number is even\n",
    "a = int(input(\"Enter a number: \"))\n",
    "\n",
    "if a%2 == 0:\n",
    "    print(\"It is an even number\")\n",
    "else:\n",
    "    print(\"It is an odd number\")\n",
    "\n"
   ]
  },
  {
   "cell_type": "code",
   "execution_count": 8,
   "id": "bfae7af6-c124-4287-9c3d-4b8286d0ed1d",
   "metadata": {},
   "outputs": [
    {
     "data": {
      "text/plain": [
       "[1, 3, 5, 7, 9]"
      ]
     },
     "execution_count": 8,
     "metadata": {},
     "output_type": "execute_result"
    }
   ],
   "source": [
    "#Filter odd numbers from the given list.\n",
    "z = [1,2,3,4,5,6,7,8,9,10]\n",
    "\n",
    "\n",
    "list(filter(lambda x : x%2 != 0,z))"
   ]
  },
  {
   "cell_type": "code",
   "execution_count": 19,
   "id": "2fbdf7c8-f7d2-4b02-bcaf-2fcff61528bc",
   "metadata": {},
   "outputs": [
    {
     "name": "stdout",
     "output_type": "stream",
     "text": [
      "1\n",
      "2\n",
      "3\n",
      "4\n",
      "5\n",
      "6\n",
      "0\n"
     ]
    }
   ],
   "source": [
    "#Sort a list of integers into positive and negative integers lists.\n",
    "c = [1,2,3,4,5,6,-1,-2,-3,-4,-5,0]\n",
    "l=[]\n",
    "for i in c:\n",
    "    if i >=0:\n",
    "        f = print(i)\n"
   ]
  },
  {
   "cell_type": "code",
   "execution_count": 20,
   "id": "11ab29b9-0e42-4d6d-9ecd-88cb49df600f",
   "metadata": {},
   "outputs": [
    {
     "name": "stdout",
     "output_type": "stream",
     "text": [
      "-1\n",
      "-2\n",
      "-3\n",
      "-4\n",
      "-5\n"
     ]
    }
   ],
   "source": [
    "c = [1,2,3,4,5,6,-1,-2,-3,-4,-5,0]\n",
    "l=[]\n",
    "for i in c:\n",
    "    if i <0:\n",
    "        f = print(i)"
   ]
  },
  {
   "cell_type": "code",
   "execution_count": null,
   "id": "3cbffbb1-ec6f-4219-9fc6-670565c8b2a2",
   "metadata": {},
   "outputs": [],
   "source": []
  }
 ],
 "metadata": {
  "kernelspec": {
   "display_name": "Python 3 (ipykernel)",
   "language": "python",
   "name": "python3"
  },
  "language_info": {
   "codemirror_mode": {
    "name": "ipython",
    "version": 3
   },
   "file_extension": ".py",
   "mimetype": "text/x-python",
   "name": "python",
   "nbconvert_exporter": "python",
   "pygments_lexer": "ipython3",
   "version": "3.10.8"
  }
 },
 "nbformat": 4,
 "nbformat_minor": 5
}
