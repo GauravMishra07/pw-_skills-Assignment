{
 "cells": [
  {
   "cell_type": "markdown",
   "id": "41f88f7e-e78c-49c7-af0a-68827821e17c",
   "metadata": {},
   "source": [
    "## Q1. Write a code to print the data present in the second row of the dataframe, df."
   ]
  },
  {
   "cell_type": "code",
   "execution_count": 4,
   "id": "9a6d4313-8e8e-445d-abf9-859f1c91f3bc",
   "metadata": {},
   "outputs": [],
   "source": [
    "import pandas as pd\n",
    "df = {\"course_name\":[\"Data Science\", \"Machine Learning\", \"Big Data\", \"Data Engineer\"],\n",
    "     \"duration\":[2,3,6,4]}\n",
    "\n",
    "df = pd.DataFrame(df)"
   ]
  },
  {
   "cell_type": "code",
   "execution_count": 5,
   "id": "fd270f1b-f7b8-44dd-9558-a21f15c09134",
   "metadata": {},
   "outputs": [
    {
     "data": {
      "text/html": [
       "<div>\n",
       "<style scoped>\n",
       "    .dataframe tbody tr th:only-of-type {\n",
       "        vertical-align: middle;\n",
       "    }\n",
       "\n",
       "    .dataframe tbody tr th {\n",
       "        vertical-align: top;\n",
       "    }\n",
       "\n",
       "    .dataframe thead th {\n",
       "        text-align: right;\n",
       "    }\n",
       "</style>\n",
       "<table border=\"1\" class=\"dataframe\">\n",
       "  <thead>\n",
       "    <tr style=\"text-align: right;\">\n",
       "      <th></th>\n",
       "      <th>course_name</th>\n",
       "      <th>duration</th>\n",
       "    </tr>\n",
       "  </thead>\n",
       "  <tbody>\n",
       "    <tr>\n",
       "      <th>0</th>\n",
       "      <td>Data Science</td>\n",
       "      <td>2</td>\n",
       "    </tr>\n",
       "    <tr>\n",
       "      <th>1</th>\n",
       "      <td>Machine Learning</td>\n",
       "      <td>3</td>\n",
       "    </tr>\n",
       "    <tr>\n",
       "      <th>2</th>\n",
       "      <td>Big Data</td>\n",
       "      <td>6</td>\n",
       "    </tr>\n",
       "    <tr>\n",
       "      <th>3</th>\n",
       "      <td>Data Engineer</td>\n",
       "      <td>4</td>\n",
       "    </tr>\n",
       "  </tbody>\n",
       "</table>\n",
       "</div>"
      ],
      "text/plain": [
       "        course_name  duration\n",
       "0      Data Science         2\n",
       "1  Machine Learning         3\n",
       "2          Big Data         6\n",
       "3     Data Engineer         4"
      ]
     },
     "execution_count": 5,
     "metadata": {},
     "output_type": "execute_result"
    }
   ],
   "source": [
    "df"
   ]
  },
  {
   "cell_type": "code",
   "execution_count": 8,
   "id": "9b687d7b-9c0d-4ecd-978a-c2fbeab417ab",
   "metadata": {},
   "outputs": [
    {
     "data": {
      "text/plain": [
       "course_name    Machine Learning\n",
       "duration                      3\n",
       "Name: 1, dtype: object"
      ]
     },
     "execution_count": 8,
     "metadata": {},
     "output_type": "execute_result"
    }
   ],
   "source": [
    "df.iloc[1]"
   ]
  },
  {
   "cell_type": "markdown",
   "id": "c0ca8fbe-4189-4e6f-a5d7-c08518269d58",
   "metadata": {},
   "source": [
    "## Q2. What is the difference between the functions loc and iloc in pandas.DataFrame?"
   ]
  },
  {
   "cell_type": "markdown",
   "id": "3c77db3e-4b89-4815-942a-e7c56299f45e",
   "metadata": {},
   "source": [
    "Both loc and iloc are methods of the Pandas DataFrame used to access specific rows and columns of a dataframe.\n",
    "\n",
    "The main difference between loc and iloc is the way they allow you to access data.\n",
    "\n",
    "loc is a label-based method that uses the index label to access rows and column names to access columns. You can use loc to select specific rows and columns by specifying their names. For example, df.loc[2,'Name'] would give you the value in the 'Name' column of the row with the index label 2.\n",
    "\n",
    "iloc is an integer-based method that uses integer location to access rows and columns. You can use iloc to select specific rows and columns by specifying their positions in the DataFrame. For example, df.iloc[2,0] would give you the value in the first column (position 0) of the third row (position 2)."
   ]
  },
  {
   "cell_type": "markdown",
   "id": "8cb29ce0-19da-421e-92da-92bcdc864d00",
   "metadata": {},
   "source": [
    "## Q3. Reindex the given dataframe using a variable, reindex = [3,0,1,2] and store it in the variable, new_df then find the output for both new_df.loc[2] and new_df.iloc[2]."
   ]
  },
  {
   "cell_type": "code",
   "execution_count": 15,
   "id": "b1276a4b-1a0b-4ccc-97ca-9a87ac150150",
   "metadata": {},
   "outputs": [],
   "source": [
    " new_df = df.reindex([3,0,1,2])"
   ]
  },
  {
   "cell_type": "code",
   "execution_count": 16,
   "id": "bafa4fce-e1fb-4859-a692-4a95bdcf1d6c",
   "metadata": {},
   "outputs": [
    {
     "data": {
      "text/html": [
       "<div>\n",
       "<style scoped>\n",
       "    .dataframe tbody tr th:only-of-type {\n",
       "        vertical-align: middle;\n",
       "    }\n",
       "\n",
       "    .dataframe tbody tr th {\n",
       "        vertical-align: top;\n",
       "    }\n",
       "\n",
       "    .dataframe thead th {\n",
       "        text-align: right;\n",
       "    }\n",
       "</style>\n",
       "<table border=\"1\" class=\"dataframe\">\n",
       "  <thead>\n",
       "    <tr style=\"text-align: right;\">\n",
       "      <th></th>\n",
       "      <th>course_name</th>\n",
       "      <th>duration</th>\n",
       "    </tr>\n",
       "  </thead>\n",
       "  <tbody>\n",
       "    <tr>\n",
       "      <th>3</th>\n",
       "      <td>Data Engineer</td>\n",
       "      <td>4</td>\n",
       "    </tr>\n",
       "    <tr>\n",
       "      <th>0</th>\n",
       "      <td>Data Science</td>\n",
       "      <td>2</td>\n",
       "    </tr>\n",
       "    <tr>\n",
       "      <th>1</th>\n",
       "      <td>Machine Learning</td>\n",
       "      <td>3</td>\n",
       "    </tr>\n",
       "    <tr>\n",
       "      <th>2</th>\n",
       "      <td>Big Data</td>\n",
       "      <td>6</td>\n",
       "    </tr>\n",
       "  </tbody>\n",
       "</table>\n",
       "</div>"
      ],
      "text/plain": [
       "        course_name  duration\n",
       "3     Data Engineer         4\n",
       "0      Data Science         2\n",
       "1  Machine Learning         3\n",
       "2          Big Data         6"
      ]
     },
     "execution_count": 16,
     "metadata": {},
     "output_type": "execute_result"
    }
   ],
   "source": [
    "new_df"
   ]
  },
  {
   "cell_type": "code",
   "execution_count": 17,
   "id": "c356d1fe-ebe3-4234-a332-7e9dc362ef99",
   "metadata": {},
   "outputs": [
    {
     "data": {
      "text/plain": [
       "course_name    Big Data\n",
       "duration              6\n",
       "Name: 2, dtype: object"
      ]
     },
     "execution_count": 17,
     "metadata": {},
     "output_type": "execute_result"
    }
   ],
   "source": [
    "new_df.loc[2]"
   ]
  },
  {
   "cell_type": "code",
   "execution_count": 18,
   "id": "ce35ba94-1868-4e37-abfe-03a1e81afd43",
   "metadata": {},
   "outputs": [
    {
     "data": {
      "text/plain": [
       "course_name    Machine Learning\n",
       "duration                      3\n",
       "Name: 1, dtype: object"
      ]
     },
     "execution_count": 18,
     "metadata": {},
     "output_type": "execute_result"
    }
   ],
   "source": [
    "new_df.iloc[2]"
   ]
  },
  {
   "cell_type": "markdown",
   "id": "3ffae94f-5b4a-4084-9dd5-77070248fd65",
   "metadata": {},
   "source": [
    "while using new_df.loc[2], we get the output as \n",
    "\n",
    "\n",
    "course_name    Big Data\n",
    "duration              6\n",
    "Name: 2, dtype: object\n",
    "\n",
    "while using new_df.iloc[2], we get the output as\n",
    "\n",
    "\n",
    "course_name    Machine Learning\n",
    "duration                      3\n",
    "Name: 1, dtype: object"
   ]
  },
  {
   "cell_type": "markdown",
   "id": "384001d4-08d6-4547-9593-f11d6593e392",
   "metadata": {},
   "source": [
    "## Q4. Write a code to find the following statistical measurements for the above dataframe df1: (i) mean of each and every column present in the dataframe. (ii) standard deviation of column, ‘column_2’"
   ]
  },
  {
   "cell_type": "code",
   "execution_count": 22,
   "id": "b8b80a10-a9a9-4516-a365-99dcf82cdb79",
   "metadata": {},
   "outputs": [],
   "source": [
    "import pandas as pd\n",
    "import numpy as np\n",
    "columns = ['column_1', 'column_2', 'column_3', 'column_4', 'column_5', 'column_6']\n",
    "indices = [1,2,3,4,5,6]\n",
    "#Creating a dataframe:\n",
    "df1 = pd.DataFrame(np.random.rand(6,6), columns = columns, index = indices)"
   ]
  },
  {
   "cell_type": "code",
   "execution_count": 24,
   "id": "d99bd90a-60c5-43e7-95ef-0b0ab8786c2a",
   "metadata": {},
   "outputs": [
    {
     "data": {
      "text/html": [
       "<div>\n",
       "<style scoped>\n",
       "    .dataframe tbody tr th:only-of-type {\n",
       "        vertical-align: middle;\n",
       "    }\n",
       "\n",
       "    .dataframe tbody tr th {\n",
       "        vertical-align: top;\n",
       "    }\n",
       "\n",
       "    .dataframe thead th {\n",
       "        text-align: right;\n",
       "    }\n",
       "</style>\n",
       "<table border=\"1\" class=\"dataframe\">\n",
       "  <thead>\n",
       "    <tr style=\"text-align: right;\">\n",
       "      <th></th>\n",
       "      <th>column_1</th>\n",
       "      <th>column_2</th>\n",
       "      <th>column_3</th>\n",
       "      <th>column_4</th>\n",
       "      <th>column_5</th>\n",
       "      <th>column_6</th>\n",
       "    </tr>\n",
       "  </thead>\n",
       "  <tbody>\n",
       "    <tr>\n",
       "      <th>count</th>\n",
       "      <td>6.000000</td>\n",
       "      <td>6.000000</td>\n",
       "      <td>6.000000</td>\n",
       "      <td>6.000000</td>\n",
       "      <td>6.000000</td>\n",
       "      <td>6.000000</td>\n",
       "    </tr>\n",
       "    <tr>\n",
       "      <th>mean</th>\n",
       "      <td>0.527903</td>\n",
       "      <td>0.696955</td>\n",
       "      <td>0.514654</td>\n",
       "      <td>0.683457</td>\n",
       "      <td>0.661843</td>\n",
       "      <td>0.495870</td>\n",
       "    </tr>\n",
       "    <tr>\n",
       "      <th>std</th>\n",
       "      <td>0.363339</td>\n",
       "      <td>0.230377</td>\n",
       "      <td>0.327537</td>\n",
       "      <td>0.247242</td>\n",
       "      <td>0.345361</td>\n",
       "      <td>0.193366</td>\n",
       "    </tr>\n",
       "    <tr>\n",
       "      <th>min</th>\n",
       "      <td>0.131650</td>\n",
       "      <td>0.324230</td>\n",
       "      <td>0.044826</td>\n",
       "      <td>0.318267</td>\n",
       "      <td>0.192661</td>\n",
       "      <td>0.150619</td>\n",
       "    </tr>\n",
       "    <tr>\n",
       "      <th>25%</th>\n",
       "      <td>0.252326</td>\n",
       "      <td>0.617481</td>\n",
       "      <td>0.274256</td>\n",
       "      <td>0.542919</td>\n",
       "      <td>0.386981</td>\n",
       "      <td>0.458947</td>\n",
       "    </tr>\n",
       "    <tr>\n",
       "      <th>50%</th>\n",
       "      <td>0.451150</td>\n",
       "      <td>0.690732</td>\n",
       "      <td>0.686501</td>\n",
       "      <td>0.713697</td>\n",
       "      <td>0.826885</td>\n",
       "      <td>0.537927</td>\n",
       "    </tr>\n",
       "    <tr>\n",
       "      <th>75%</th>\n",
       "      <td>0.856084</td>\n",
       "      <td>0.863585</td>\n",
       "      <td>0.742510</td>\n",
       "      <td>0.862378</td>\n",
       "      <td>0.894850</td>\n",
       "      <td>0.580857</td>\n",
       "    </tr>\n",
       "    <tr>\n",
       "      <th>max</th>\n",
       "      <td>0.956353</td>\n",
       "      <td>0.961768</td>\n",
       "      <td>0.772076</td>\n",
       "      <td>0.957148</td>\n",
       "      <td>0.966774</td>\n",
       "      <td>0.720959</td>\n",
       "    </tr>\n",
       "  </tbody>\n",
       "</table>\n",
       "</div>"
      ],
      "text/plain": [
       "       column_1  column_2  column_3  column_4  column_5  column_6\n",
       "count  6.000000  6.000000  6.000000  6.000000  6.000000  6.000000\n",
       "mean   0.527903  0.696955  0.514654  0.683457  0.661843  0.495870\n",
       "std    0.363339  0.230377  0.327537  0.247242  0.345361  0.193366\n",
       "min    0.131650  0.324230  0.044826  0.318267  0.192661  0.150619\n",
       "25%    0.252326  0.617481  0.274256  0.542919  0.386981  0.458947\n",
       "50%    0.451150  0.690732  0.686501  0.713697  0.826885  0.537927\n",
       "75%    0.856084  0.863585  0.742510  0.862378  0.894850  0.580857\n",
       "max    0.956353  0.961768  0.772076  0.957148  0.966774  0.720959"
      ]
     },
     "execution_count": 24,
     "metadata": {},
     "output_type": "execute_result"
    }
   ],
   "source": [
    "df1.describe()"
   ]
  },
  {
   "cell_type": "code",
   "execution_count": 26,
   "id": "42a31afd-40da-4fbf-b52b-54232899c61c",
   "metadata": {},
   "outputs": [
    {
     "data": {
      "text/plain": [
       "0.23037728830212428"
      ]
     },
     "execution_count": 26,
     "metadata": {},
     "output_type": "execute_result"
    }
   ],
   "source": [
    "df1[\"column_2\"].std()"
   ]
  },
  {
   "cell_type": "markdown",
   "id": "f52fad18-5574-4499-bc90-b6b12e5612c5",
   "metadata": {},
   "source": [
    "## Q5. Replace the data present in the second row of column, ‘column_2’ by a string variable then find the mean of column, column_2. If you are getting errors in executing it then explain why."
   ]
  },
  {
   "cell_type": "code",
   "execution_count": 27,
   "id": "1e4d62ce-737c-4ab9-970b-75dccd3ad5e6",
   "metadata": {},
   "outputs": [
    {
     "data": {
      "text/html": [
       "<div>\n",
       "<style scoped>\n",
       "    .dataframe tbody tr th:only-of-type {\n",
       "        vertical-align: middle;\n",
       "    }\n",
       "\n",
       "    .dataframe tbody tr th {\n",
       "        vertical-align: top;\n",
       "    }\n",
       "\n",
       "    .dataframe thead th {\n",
       "        text-align: right;\n",
       "    }\n",
       "</style>\n",
       "<table border=\"1\" class=\"dataframe\">\n",
       "  <thead>\n",
       "    <tr style=\"text-align: right;\">\n",
       "      <th></th>\n",
       "      <th>column_1</th>\n",
       "      <th>column_2</th>\n",
       "      <th>column_3</th>\n",
       "      <th>column_4</th>\n",
       "      <th>column_5</th>\n",
       "      <th>column_6</th>\n",
       "    </tr>\n",
       "  </thead>\n",
       "  <tbody>\n",
       "    <tr>\n",
       "      <th>1</th>\n",
       "      <td>0.634586</td>\n",
       "      <td>0.657165</td>\n",
       "      <td>0.150297</td>\n",
       "      <td>0.957148</td>\n",
       "      <td>0.253367</td>\n",
       "      <td>0.540969</td>\n",
       "    </tr>\n",
       "    <tr>\n",
       "      <th>2</th>\n",
       "      <td>0.267715</td>\n",
       "      <td>0.324230</td>\n",
       "      <td>0.726870</td>\n",
       "      <td>0.533191</td>\n",
       "      <td>0.865946</td>\n",
       "      <td>0.594153</td>\n",
       "    </tr>\n",
       "    <tr>\n",
       "      <th>3</th>\n",
       "      <td>0.929916</td>\n",
       "      <td>0.724300</td>\n",
       "      <td>0.646132</td>\n",
       "      <td>0.864739</td>\n",
       "      <td>0.192661</td>\n",
       "      <td>0.433634</td>\n",
       "    </tr>\n",
       "  </tbody>\n",
       "</table>\n",
       "</div>"
      ],
      "text/plain": [
       "   column_1  column_2  column_3  column_4  column_5  column_6\n",
       "1  0.634586  0.657165  0.150297  0.957148  0.253367  0.540969\n",
       "2  0.267715  0.324230  0.726870  0.533191  0.865946  0.594153\n",
       "3  0.929916  0.724300  0.646132  0.864739  0.192661  0.433634"
      ]
     },
     "execution_count": 27,
     "metadata": {},
     "output_type": "execute_result"
    }
   ],
   "source": [
    "df1.head(3)"
   ]
  },
  {
   "cell_type": "code",
   "execution_count": 54,
   "id": "91b5ad2b-135f-4335-9fa8-b0a3036c0843",
   "metadata": {},
   "outputs": [],
   "source": [
    "x = str(df1.iloc[1,1])"
   ]
  },
  {
   "cell_type": "code",
   "execution_count": 55,
   "id": "9eb913ec-70d9-451e-a7c0-1b1371e61d22",
   "metadata": {},
   "outputs": [
    {
     "ename": "AttributeError",
     "evalue": "'str' object has no attribute 'mean'",
     "output_type": "error",
     "traceback": [
      "\u001b[0;31m---------------------------------------------------------------------------\u001b[0m",
      "\u001b[0;31mAttributeError\u001b[0m                            Traceback (most recent call last)",
      "Cell \u001b[0;32mIn[55], line 1\u001b[0m\n\u001b[0;32m----> 1\u001b[0m \u001b[43mx\u001b[49m\u001b[38;5;241;43m.\u001b[39;49m\u001b[43mmean\u001b[49m()\n",
      "\u001b[0;31mAttributeError\u001b[0m: 'str' object has no attribute 'mean'"
     ]
    }
   ],
   "source": [
    "x.mean()"
   ]
  },
  {
   "cell_type": "markdown",
   "id": "953cd1f7-aabf-4dc7-b749-c77be4ec850a",
   "metadata": {},
   "source": [
    "string object has no attribute \"mean\". That's why we get an error"
   ]
  },
  {
   "cell_type": "markdown",
   "id": "a482ada8-e642-43d6-8829-555ae0a8ddda",
   "metadata": {},
   "source": [
    "## Q6. What do you understand about the windows function in pandas and list the types of windows functions?"
   ]
  },
  {
   "cell_type": "markdown",
   "id": "5aa88381-0aa7-4749-bc09-e09d8be02aa1",
   "metadata": {},
   "source": [
    "In Pandas, a window function, also known as a rolling or moving function, is used to perform calculations over a sliding window of a fixed size. These functions are useful for analyzing time-series data, where you may want to calculate rolling statistics such as moving averages, standard deviations, or correlations.\n",
    "\n",
    "Rolling is the example of a window function"
   ]
  },
  {
   "cell_type": "markdown",
   "id": "a98d3faa-b3ac-438a-86c3-a30c356599d9",
   "metadata": {},
   "source": [
    "## Q7. Write a code to print only the current month and year at the time of answering this question."
   ]
  },
  {
   "cell_type": "code",
   "execution_count": 57,
   "id": "bbf8d3db-bf86-4315-a7b4-55963e3d06ba",
   "metadata": {},
   "outputs": [
    {
     "name": "stderr",
     "output_type": "stream",
     "text": [
      "/tmp/ipykernel_77/3598089764.py:1: FutureWarning: The pandas.datetime class is deprecated and will be removed from pandas in a future version. Import from datetime module instead.\n",
      "  pd.datetime(2022)\n"
     ]
    },
    {
     "ename": "TypeError",
     "evalue": "function missing required argument 'month' (pos 2)",
     "output_type": "error",
     "traceback": [
      "\u001b[0;31m---------------------------------------------------------------------------\u001b[0m",
      "\u001b[0;31mTypeError\u001b[0m                                 Traceback (most recent call last)",
      "Cell \u001b[0;32mIn[57], line 1\u001b[0m\n\u001b[0;32m----> 1\u001b[0m \u001b[43mpd\u001b[49m\u001b[38;5;241;43m.\u001b[39;49m\u001b[43mdatetime\u001b[49m\u001b[43m(\u001b[49m\u001b[38;5;241;43m2022\u001b[39;49m\u001b[43m)\u001b[49m\n",
      "\u001b[0;31mTypeError\u001b[0m: function missing required argument 'month' (pos 2)"
     ]
    }
   ],
   "source": [
    "pd.datetime(2022)"
   ]
  },
  {
   "cell_type": "code",
   "execution_count": 59,
   "id": "6879bb01-dcda-431a-bf15-3598d9e24ffb",
   "metadata": {},
   "outputs": [
    {
     "name": "stdout",
     "output_type": "stream",
     "text": [
      "Current Month:  April\n",
      "Current Year:  2023\n"
     ]
    }
   ],
   "source": [
    "import datetime\n",
    "\n",
    "current_date = datetime.datetime.now()\n",
    "\n",
    "print(\"Current Month: \", current_date.strftime(\"%B\"))\n",
    "print(\"Current Year: \", current_date.strftime(\"%Y\"))"
   ]
  },
  {
   "cell_type": "code",
   "execution_count": 61,
   "id": "9413bb41-3265-46f1-982c-b6ec7966eff1",
   "metadata": {},
   "outputs": [
    {
     "name": "stdout",
     "output_type": "stream",
     "text": [
      "2023-04-16 14:49:38.831702\n"
     ]
    }
   ],
   "source": [
    "print(current_date)"
   ]
  },
  {
   "cell_type": "markdown",
   "id": "513ad5ad-d700-4b49-bea2-861bfcbedff0",
   "metadata": {},
   "source": [
    "## Q8. Write a Python program that takes in two dates as input (in the format YYYY-MM-DD) and calculates the difference between them in days, hours, and minutes using Pandas time delta. The program should prompt the user to enter the dates and display the result."
   ]
  },
  {
   "cell_type": "code",
   "execution_count": 68,
   "id": "492c4565-ad71-4a2f-9718-73e6634d2ba5",
   "metadata": {},
   "outputs": [
    {
     "name": "stdin",
     "output_type": "stream",
     "text": [
      "Enter the start date (YYYY-MM-DD):  2022-03-22\n",
      "Enter the end date (YYYY-MM-DD):  2022-04-25\n"
     ]
    },
    {
     "name": "stdout",
     "output_type": "stream",
     "text": [
      "The difference between 2022-03-22 and 2022-04-25 is:\n",
      "34 days, 0 hours, and 0 minutes.\n"
     ]
    }
   ],
   "source": [
    "import pandas as pd\n",
    "\n",
    "# prompt the user to enter two dates in YYYY-MM-DD format\n",
    "start_date = input(\"Enter the start date (YYYY-MM-DD): \")\n",
    "end_date = input(\"Enter the end date (YYYY-MM-DD): \")\n",
    "\n",
    "# convert the input strings to pandas datetime objects\n",
    "start_datetime = pd.to_datetime(start_date)\n",
    "end_datetime = pd.to_datetime(end_date)\n",
    "\n",
    "# calculate the timedelta between the two dates\n",
    "timedelta = end_datetime - start_datetime\n",
    "days = timedelta.days\n",
    "hours = timedelta.seconds // 3600\n",
    "minutes = (timedelta.seconds % 3600) // 60\n",
    "\n",
    "# print the result\n",
    "print(f\"The difference between {start_date} and {end_date} is:\")\n",
    "print(f\"{days} days, {hours} hours, and {minutes} minutes.\")\n"
   ]
  },
  {
   "cell_type": "markdown",
   "id": "e8b1c90d-a9c9-4f43-98f2-1126d4368913",
   "metadata": {},
   "source": [
    "## Q9. Write a Python program that reads a CSV file containing categorical data and converts a specified column to a categorical data type. The program should prompt the user to enter the file path, column name, and category order, and then display the sorted data."
   ]
  },
  {
   "cell_type": "code",
   "execution_count": null,
   "id": "947180a4-750e-44ac-9269-c17282861580",
   "metadata": {},
   "outputs": [],
   "source": [
    "import pandas as pd\n",
    "\n",
    "# prompt the user to enter the file path, column name, and category order\n",
    "file_path = input(\"Enter the path to the CSV file: \")\n",
    "col_name = input(\"Enter the name of the column to convert: \")\n",
    "categories = input(\"Enter the categories in the desired order (comma-separated): \").split(',')\n",
    "\n",
    "# read the CSV file into a pandas dataframe\n",
    "df = pd.read_csv(file_path)\n",
    "\n",
    "# convert the specified column to a categorical data type with the specified order\n",
    "cat_dtype = pd.api.types.CategoricalDtype(categories=categories, ordered=True)\n",
    "df[col_name] = df[col_name].astype(cat_dtype)\n",
    "\n",
    "# sort the dataframe by the specified column\n",
    "df_sorted = df.sort_values(col_name)\n",
    "\n",
    "# display the sorted data\n",
    "print(df_sorted)"
   ]
  },
  {
   "cell_type": "markdown",
   "id": "bd9229f7-2f80-4df9-8762-97986a0d6850",
   "metadata": {},
   "source": [
    "## Q10. Write a Python program that reads a CSV file containing sales data for different products and visualizes the data using a stacked bar chart to show the sales of each product category over time. The program should prompt the user to enter the file path and display the chart."
   ]
  },
  {
   "cell_type": "code",
   "execution_count": null,
   "id": "5f0b349b-ba60-4d72-a8ae-70a4047f9dbe",
   "metadata": {},
   "outputs": [],
   "source": [
    "import pandas as pd\n",
    "import matplotlib.pyplot as plt\n",
    "\n",
    "# prompt the user to enter the file path\n",
    "file_path = input(\"Enter the path to the CSV file: \")\n",
    "\n",
    "# read the CSV file into a pandas dataframe\n",
    "df = pd.read_csv(file_path)\n",
    "\n",
    "# group the dataframe by product category and year, and sum the sales\n",
    "sales_by_category = df.groupby(['Category', 'Year']).sum()['Sales']\n",
    "\n",
    "# pivot the sales data to create a stacked bar chart\n",
    "sales_pivot = sales_by_category.reset_index().pivot(index='Year', columns='Category', values='Sales')\n",
    "\n",
    "# create the stacked bar chart\n",
    "sales_pivot.plot(kind='bar', stacked=True)\n",
    "\n",
    "# set the chart title and axis labels\n",
    "plt.title('Sales by Product Category over Time')\n",
    "plt.xlabel('Year')\n",
    "plt.ylabel('Sales')\n",
    "\n",
    "# display the chart\n",
    "plt.show()\n"
   ]
  },
  {
   "cell_type": "markdown",
   "id": "48f37145-05bc-4d40-adf0-5080fdd1a067",
   "metadata": {},
   "source": [
    "## Q11. You are given a CSV file containing student data that includes the student ID and their test score. Write a Python program that reads the CSV file, calculates the mean, median, and mode of the test scores, and displays the results in a table."
   ]
  },
  {
   "cell_type": "code",
   "execution_count": 69,
   "id": "88d389cd-5cb5-44c6-bd49-97636a6104df",
   "metadata": {},
   "outputs": [],
   "source": [
    "data = {\"student_id\":[1,2,3,4,5,6,7,8,9,10],\n",
    "       \"test_score\":[85,90,80,75,85,82,78,85,90,85]}"
   ]
  },
  {
   "cell_type": "code",
   "execution_count": 70,
   "id": "960c1586-850e-48c3-b48b-ab81b573d25d",
   "metadata": {},
   "outputs": [],
   "source": [
    "data = pd.DataFrame(data)"
   ]
  },
  {
   "cell_type": "code",
   "execution_count": 73,
   "id": "16601eff-866b-4099-a0fd-0b4253be4ca0",
   "metadata": {},
   "outputs": [
    {
     "name": "stdout",
     "output_type": "stream",
     "text": [
      "83.5 85.0 0    85\n",
      "Name: test_score, dtype: int64\n"
     ]
    }
   ],
   "source": [
    "x = data[\"test_score\"].mean()\n",
    "y = data[\"test_score\"].median()\n",
    "z = data[\"test_score\"].mode()\n",
    "\n",
    "print(x,y,z)"
   ]
  },
  {
   "cell_type": "code",
   "execution_count": 79,
   "id": "249d5f5a-47fd-4890-8dd2-9cea0024a2c5",
   "metadata": {},
   "outputs": [
    {
     "name": "stdout",
     "output_type": "stream",
     "text": [
      "+-----------+--------+\n",
      "| Statistic | Value |\n",
      "+-----------+--------+\n",
      "| Mean | 83.5 |\n",
      "| Median | 85.0 |\n",
      "| Mode | 85 |\n",
      "+-----------+--------+\n"
     ]
    }
   ],
   "source": [
    "print(\"+-----------+--------+\")\n",
    "print(\"| Statistic | Value |\")\n",
    "print(\"+-----------+--------+\")\n",
    "print(\"| Mean | 83.5 |\")\n",
    "print(\"| Median | 85.0 |\")\n",
    "print(\"| Mode | 85 |\")\n",
    "print(\"+-----------+--------+\")"
   ]
  },
  {
   "cell_type": "code",
   "execution_count": null,
   "id": "2cd6d351-7407-4e96-96fb-92192a782993",
   "metadata": {},
   "outputs": [],
   "source": []
  }
 ],
 "metadata": {
  "kernelspec": {
   "display_name": "Python 3 (ipykernel)",
   "language": "python",
   "name": "python3"
  },
  "language_info": {
   "codemirror_mode": {
    "name": "ipython",
    "version": 3
   },
   "file_extension": ".py",
   "mimetype": "text/x-python",
   "name": "python",
   "nbconvert_exporter": "python",
   "pygments_lexer": "ipython3",
   "version": "3.10.8"
  }
 },
 "nbformat": 4,
 "nbformat_minor": 5
}
