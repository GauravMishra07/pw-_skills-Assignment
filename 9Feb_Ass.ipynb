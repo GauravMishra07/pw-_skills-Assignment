{
 "cells": [
  {
   "cell_type": "markdown",
   "id": "bba6bed4-c4ee-4daa-9c27-f6a37b5abbcc",
   "metadata": {},
   "source": [
    "## Q1/Q2. Create a child class car from the vehicle class created in Que 1, which will inherit the vehicle class.Create a method named seating_capacity which takes capacity as an argument and returns the name of the vehicle and its seating capacity.\n",
    "    \n"
   ]
  },
  {
   "cell_type": "code",
   "execution_count": 4,
   "id": "57e14307-37e5-4c40-a587-8f0217c92dd2",
   "metadata": {},
   "outputs": [
    {
     "name": "stdout",
     "output_type": "stream",
     "text": [
      "Name of the vehicle: innova\n",
      "Seating capacity: 8\n"
     ]
    }
   ],
   "source": [
    "class Vehicle:\n",
    "    def __init__ (self,name_of_vehicle,max_speed,average_of_vehicle):\n",
    "        self.name_of_vehicle=name_of_vehicle\n",
    "        self.max_speed=max_speed\n",
    "        self.average_of_vehicle=average_of_vehicle\n",
    "        \n",
    "class Car(Vehicle):\n",
    "    def seating_capacity(self, capacity):\n",
    "        return f\"Name of the vehicle: {self.name_of_vehicle}\\nSeating capacity: {capacity}\"\n",
    "\n",
    "# Create an instance of the Car class\n",
    "car = Car(\"innova\", 200, 9000000)\n",
    "\n",
    "# Call the seating_capacity method\n",
    "print(car.seating_capacity(8))\n",
    "\n"
   ]
  },
  {
   "cell_type": "markdown",
   "id": "163a074d-2995-4b84-a9bd-48c9a3189163",
   "metadata": {},
   "source": [
    "## Q3. What is multiple inheritance? Write a python code to demonstrate multiple inheritance."
   ]
  },
  {
   "cell_type": "markdown",
   "id": "6a9ba5db-cc4b-4ba7-bb23-a2e530cee46e",
   "metadata": {},
   "source": [
    "When a class can be derived from more than one base class this type of inheritance is called multiple inheritances. In multiple inheritances, all the features of the base classes are inherited into the derived class. "
   ]
  },
  {
   "cell_type": "code",
   "execution_count": 5,
   "id": "0a079a24-9311-446d-be5c-42357c3b541b",
   "metadata": {},
   "outputs": [
    {
     "name": "stdout",
     "output_type": "stream",
     "text": [
      "Father : RAM\n",
      "Mother : SITA\n"
     ]
    }
   ],
   "source": [
    "# Python program to demonstrate\n",
    "# multiple inheritance\n",
    "\n",
    "# Base class1\n",
    "class Mother:\n",
    "\tmothername = \"\"\n",
    "\n",
    "\tdef mother(self):\n",
    "\t\tprint(self.mothername)\n",
    "\n",
    "# Base class2\n",
    "\n",
    "\n",
    "class Father:\n",
    "\tfathername = \"\"\n",
    "\n",
    "\tdef father(self):\n",
    "\t\tprint(self.fathername)\n",
    "\n",
    "# Derived class\n",
    "\n",
    "\n",
    "class Son(Mother, Father):\n",
    "\tdef parents(self):\n",
    "\t\tprint(\"Father :\", self.fathername)\n",
    "\t\tprint(\"Mother :\", self.mothername)\n",
    "\n",
    "\n",
    "# Driver's code\n",
    "s1 = Son()\n",
    "s1.fathername = \"RAM\"\n",
    "s1.mothername = \"SITA\"\n",
    "s1.parents()\n"
   ]
  },
  {
   "cell_type": "markdown",
   "id": "30b50e32-5763-4c86-a27d-f0c9594351ba",
   "metadata": {},
   "source": [
    "## Q4. What are getter and setter in python? Create a class and create a getter and a setter method in this class."
   ]
  },
  {
   "cell_type": "markdown",
   "id": "5d1461a1-9186-4a1c-8ba0-c74ed40ab66b",
   "metadata": {},
   "source": [
    "Getters: These are the methods used in Object-Oriented Programming (OOPS) which helps to access the private attributes from a class. Setters: These are the methods used in OOPS feature which helps to set the value to private attributes in a class."
   ]
  },
  {
   "cell_type": "code",
   "execution_count": 8,
   "id": "8720db19-de52-4393-a4dc-df769969ddf4",
   "metadata": {},
   "outputs": [
    {
     "name": "stdout",
     "output_type": "stream",
     "text": [
      "0\n",
      "2019\n"
     ]
    }
   ],
   "source": [
    "class year_graduated:\n",
    "   def __init__(self, year=0):\n",
    "      self._year = year\n",
    "\n",
    "   # getter method\n",
    "   def get_year(self):\n",
    "      return self._year\n",
    "\n",
    "# setter method\n",
    "   def set_year(self, a):\n",
    "        self._year = a\n",
    "\n",
    "grad_obj = year_graduated()\n",
    "# Before using setter\n",
    "print(grad_obj.get_year())\n",
    "\n",
    "# After using setter\n",
    "grad_obj.set_year(2019)\n",
    "print(grad_obj._year)"
   ]
  },
  {
   "cell_type": "markdown",
   "id": "805a4975-86c9-42fc-b5c9-334f03a0f12b",
   "metadata": {},
   "source": []
  },
  {
   "cell_type": "markdown",
   "id": "b2454494-82ca-4f59-966f-2e97f04b30d5",
   "metadata": {},
   "source": [
    "## Q5.What is method overriding in python? Write a python code to demonstrate method overriding."
   ]
  },
  {
   "cell_type": "markdown",
   "id": "e9885a3e-09ae-4ed2-911d-54bfab4836ce",
   "metadata": {},
   "source": [
    "Method overriding is an ability of any object-oriented programming language that allows a subclass or child class to provide a specific implementation of a method that is already provided by one of its super-classes or parent classes. "
   ]
  },
  {
   "cell_type": "code",
   "execution_count": 9,
   "id": "9ec5103f-840c-4c5d-8d6b-40b203860bdc",
   "metadata": {},
   "outputs": [
    {
     "name": "stdout",
     "output_type": "stream",
     "text": [
      "Inside Parent\n",
      "Inside Child\n"
     ]
    }
   ],
   "source": [
    "# Python program to demonstrate\n",
    "# method overriding\n",
    "\n",
    "\n",
    "# Defining parent class\n",
    "class Parent():\n",
    "\t\n",
    "\t# Constructor\n",
    "\tdef __init__(self):\n",
    "\t\tself.value = \"Inside Parent\"\n",
    "\t\t\n",
    "\t# Parent's show method\n",
    "\tdef show(self):\n",
    "\t\tprint(self.value)\n",
    "\t\t\n",
    "# Defining child class\n",
    "class Child(Parent):\n",
    "\t\n",
    "\t# Constructor\n",
    "\tdef __init__(self):\n",
    "\t\tself.value = \"Inside Child\"\n",
    "\t\t\n",
    "\t# Child's show method\n",
    "\tdef show(self):\n",
    "\t\tprint(self.value)\n",
    "\t\t\n",
    "\t\t\n",
    "# Driver's code\n",
    "obj1 = Parent()\n",
    "obj2 = Child()\n",
    "\n",
    "obj1.show()\n",
    "obj2.show()\n"
   ]
  },
  {
   "cell_type": "code",
   "execution_count": null,
   "id": "0d0a29ce-3e48-451c-9f90-3593f514452d",
   "metadata": {},
   "outputs": [],
   "source": []
  }
 ],
 "metadata": {
  "kernelspec": {
   "display_name": "Python 3 (ipykernel)",
   "language": "python",
   "name": "python3"
  },
  "language_info": {
   "codemirror_mode": {
    "name": "ipython",
    "version": 3
   },
   "file_extension": ".py",
   "mimetype": "text/x-python",
   "name": "python",
   "nbconvert_exporter": "python",
   "pygments_lexer": "ipython3",
   "version": "3.10.8"
  }
 },
 "nbformat": 4,
 "nbformat_minor": 5
}
