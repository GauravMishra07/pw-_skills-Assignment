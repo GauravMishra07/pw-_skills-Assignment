{
 "cells": [
  {
   "cell_type": "markdown",
   "id": "39ef13b0-b9a8-4f48-8459-44fcb3c28e21",
   "metadata": {},
   "source": [
    "## Q1. What is the difference between Ordinal Encoding and Label Encoding? Provide an example of when you might choose one over the other."
   ]
  },
  {
   "cell_type": "markdown",
   "id": "4f8fddfc-bdbb-4659-8f72-fd95abf6f21c",
   "metadata": {},
   "source": [
    "Sure. Ordinal encoding and label encoding are both techniques used to convert categorical data into numerical data so that it can be used by machine learning algorithms. The main difference between the two is that ordinal encoding preserves the order of the categories, while label encoding does not.\n",
    "\n",
    "In general, you should use ordinal encoding when the order of the categories is important. For example, if you are trying to predict customer satisfaction, you might use ordinal encoding to represent the customer's rating of your product. In this case, it is important for the machine learning algorithm to know that a rating of \"Excellent\" is better than a rating of \"Good\".\n",
    "\n",
    "You should use label encoding when the order of the categories is not important. For example, if you are trying to predict whether a customer will click on an ad, you might use label encoding to represent the customer's gender. In this case, it is not important for the machine learning algorithm to know that \"Male\" comes before \"Female\"."
   ]
  },
  {
   "cell_type": "markdown",
   "id": "f47f6a61-1258-4342-8adc-84a0e01f3691",
   "metadata": {},
   "source": [
    "## Q2. Explain how Target Guided Ordinal Encoding works and provide an example of when you might use it in a machine learning project."
   ]
  },
  {
   "cell_type": "markdown",
   "id": "124a64b8-7dcb-456e-b561-38a386e9d6b7",
   "metadata": {},
   "source": [
    "Target guided ordinal encoding is a type of ordinal encoding that takes into account the target variable when assigning numerical values to the categories. This means that the numerical values are not just arbitrary, but are actually based on how the categories relate to the target variable.\n",
    "\n",
    "For example, let's say we have a categorical variable called \"credit score\" with the following values:\n",
    "\n",
    "Poor\n",
    "\n",
    "Fair\n",
    "\n",
    "Good\n",
    "\n",
    "Excellent\n",
    "\n",
    "And let's say our target variable is \"default on loan\". We would then calculate the probability of defaulting on a loan for each credit score category. For example, we might find that the probability of defaulting on a loan is 10% for people with a poor credit score, 5% for people with a fair credit score, 2% for people with a good credit score, and 1% for people with an excellent credit score.\n",
    "\n",
    "We would then use these probabilities to assign numerical values to the categories. For example, we might assign the value 1 to \"Poor\", the value 2 to \"Fair\", the value 3 to \"Good\", and the value 4 to \"Excellent\".\n",
    "\n",
    "This way, the machine learning algorithm knows that \"Excellent\" is the best credit score category because it has the lowest probability of defaulting on a loan.\n",
    "\n",
    "You might use target guided ordinal encoding in a machine learning project when you have a categorical variable that is ordinal and you believe that the order of the categories is important for the target variable. For example, you might use target guided ordinal encoding to represent the credit score of a customer in a loan default prediction project."
   ]
  },
  {
   "cell_type": "markdown",
   "id": "590ec83b-cdb6-45eb-a1a4-fd9d6d2ae590",
   "metadata": {},
   "source": [
    "## Q3. Define covariance and explain why it is important in statistical analysis. How is covariance calculated?"
   ]
  },
  {
   "cell_type": "markdown",
   "id": "071997c5-90dd-45b2-8648-162b88bd6d9d",
   "metadata": {},
   "source": [
    "Covariance is a measure of the relationship between two random variables. It is calculated by taking the average of the product of the deviations from the mean for each variable.\n",
    "\n",
    "In other words, covariance tells us how much two variables tend to vary together. If two variables have a positive covariance, it means that they tend to move in the same direction. For example, if the price of a stock and the price of a bond have a positive covariance, it means that when the stock price goes up, the bond price is also likely to go up.\n",
    "\n",
    "If two variables have a negative covariance, it means that they tend to move in opposite directions. For example, if the price of a stock and the price of a put option on the same stock have a negative covariance, it means that when the stock price goes up, the put option price is likely to go down.\n",
    "\n",
    "Covariance is an important statistical measure because it can be used to identify relationships between variables. This information can be used to make predictions about future values of variables, to develop better models, and to make more informed decisions.\n",
    "\n",
    "The formula for covariance is:\n",
    "\n",
    "Cov(X, Y) = (X - Mean(X)) * (Y - Mean(Y)) / N\n",
    "\n",
    "where:\n",
    "\n",
    "X and Y are the two variables\n",
    "\n",
    "Mean(X) and Mean(Y) are the means of X and Y\n",
    "\n",
    "N is the number of observations\n",
    "\n",
    "Covariance can be positive, negative, or zero. A positive covariance indicates that the two variables tend to move in the same direction. A negative covariance indicates that the two variables tend to move in opposite directions. A covariance of zero indicates that there is no relationship between the two variables.\n",
    "\n",
    "Covariance is a useful tool for understanding the relationship between two variables. However, it is important to note that covariance does not necessarily mean causation. Just because two variables have a high covariance does not mean that one variable causes the other variable to change."
   ]
  },
  {
   "cell_type": "markdown",
   "id": "230adb5a-f0c0-4313-9a9c-8aa77d8346d6",
   "metadata": {},
   "source": [
    "## Q4. For a dataset with the following categorical variables: Color (red, green, blue), Size (small, medium, large), and Material (wood, metal, plastic), perform label encoding using Python's scikit-learn library. Show your code and explain the output."
   ]
  },
  {
   "cell_type": "code",
   "execution_count": 16,
   "id": "dfd23a0d-d9c1-498c-ac67-479e9e50295e",
   "metadata": {},
   "outputs": [
    {
     "name": "stdout",
     "output_type": "stream",
     "text": [
      "{'Color': array([2, 1, 0]), 'Size': array([2, 1, 0]), 'Material': array([2, 0, 1])}\n"
     ]
    }
   ],
   "source": [
    "import numpy as np\n",
    "from sklearn.preprocessing import LabelEncoder\n",
    "\n",
    "# Create a dataset with categorical variables\n",
    "data = {\n",
    "    \"Color\": [\"red\", \"green\", \"blue\"],\n",
    "    \"Size\": [\"small\", \"medium\", \"large\"],\n",
    "    \"Material\": [\"wood\", \"metal\", \"plastic\"]\n",
    "}\n",
    "\n",
    "# Create a label encoder object\n",
    "encoder = LabelEncoder()\n",
    "\n",
    "# Encode the categorical variables\n",
    "encoded_data = {}\n",
    "for i in data:\n",
    "    encoded_data[i] = encoder.fit_transform(data[i])\n",
    "\n",
    "# Print the encoded data\n",
    "print(encoded_data)"
   ]
  },
  {
   "cell_type": "markdown",
   "id": "f306b6b4-46fb-41eb-bbfe-5cc5cabb838a",
   "metadata": {},
   "source": [
    "This code will first create a dataset with the following categorical variables:\n",
    "\n",
    "Color: red, green, blue\n",
    "\n",
    "Size: small, medium, large\n",
    "\n",
    "Material: wood, metal, plastic\n",
    "\n",
    "Then, it will create a label encoder object and use it to encode the categorical variables. The label encoder will assign a unique integer value to each category. For example, the color \"red\" will be assigned the value 0, the color \"green\" will be assigned the value 1, and so on.\n",
    "\n",
    "Finally, the code will print the encoded data. The output of the code will be a dictionary with the encoded categorical variables. For example, the encoded value for the color \"red\" will be 0, the encoded value for the size \"small\" will be 1, and so on."
   ]
  },
  {
   "cell_type": "markdown",
   "id": "eb4f0050-111b-4863-b475-e530adc271ec",
   "metadata": {},
   "source": [
    "## Q5. Calculate the covariance matrix for the following variables in a dataset: Age, Income, and Education level. Interpret the results."
   ]
  },
  {
   "cell_type": "code",
   "execution_count": 37,
   "id": "6d36c3ed-7a34-4143-a62f-4fc754f22a0e",
   "metadata": {},
   "outputs": [
    {
     "name": "stdout",
     "output_type": "stream",
     "text": [
      "[[2.5000e+02 6.2500e+05 6.0000e+01]\n",
      " [6.2500e+05 1.5625e+09 1.5000e+05]\n",
      " [6.0000e+01 1.5000e+05 1.4800e+01]]\n"
     ]
    }
   ],
   "source": [
    "data1 = {\"age\":[25, 35, 45, 55, 65], \"Income\":[ 50000, 75000, 100000, 125000, 150000],\n",
    "        \"Education_level\":[12, 16, 18, 20, 22]}\n",
    "df1 = pd.DataFrame(data1)\n",
    "cov_mat = np.cov(df1.T)\n",
    "print(cov_mat)"
   ]
  },
  {
   "cell_type": "markdown",
   "id": "a341dabd-4e75-4268-b19e-e31313fe65b5",
   "metadata": {},
   "source": [
    "This code will first create a dataset with the following variables:\n",
    "\n",
    "Age: 25, 35, 45, 55, 65\n",
    "\n",
    "Income: 50000, 75000, 100000, 125000, 150000\n",
    "\n",
    "Education level: 12, 16, 18, 20, 22\n",
    "\n",
    "Then, it will calculate the covariance matrix for these variables. The covariance matrix is a square matrix that shows the covariance between each pair of variables. The covariance between two variables is a measure of how much they tend to vary together. A positive covariance indicates that the two variables tend to move in the same direction. A negative covariance indicates that the two variables tend to move in opposite directions.\n",
    "Finally, the code will print the covariance matrix. \n",
    "\n",
    "In this case, the output of the code will be a 3x3 matrix. The first row of the matrix will show the covariance between Age and Income, the second row will show the covariance between Age and Education level, and the third row will show the covariance between Income and Education level.\n",
    "\n",
    "As you can see, the covariance between Age and Income is 2500. This means that there is a positive relationship between Age and Income. In other words, as Age increases, Income also tends to increase. The covariance between Age and Education level is 6000. This also means that there is a positive relationship between Age and Education level. In other words, as Age increases, Education level also tends to increase. The covariance between Income and Education level is 15000. This means that there is also a positive relationship between Income and Education level. In other words, as Income increases, Education level also tends to increase."
   ]
  },
  {
   "cell_type": "markdown",
   "id": "5b57ff9e-0345-4a89-a9e6-8f47f547f49a",
   "metadata": {},
   "source": [
    "## Q6. You are working on a machine learning project with a dataset containing several categorical variables, including \"Gender\" (Male/Female), \"Education Level\" (High School/Bachelor's/Master's/PhD), and \"Employment Status\" (Unemployed/Part-Time/Full-Time). Which encoding method would you use for each variable, and why?"
   ]
  },
  {
   "cell_type": "markdown",
   "id": "535c541e-024a-4434-85d5-993675a89457",
   "metadata": {},
   "source": [
    "Here are the encoding methods I would use for each variable:\n",
    "\n",
    "Gender: I would use label encoding for this variable. This is because the order of the categories (Male/Female) does not matter. Label encoding simply assigns a unique integer value to each category. This makes it easy for machine learning algorithms to understand the variable.\n",
    "\n",
    "Education Level: I would use ordinal encoding for this variable. This is because the order of the categories (High School/Bachelor's/Master's/PhD) does matter. Ordinal encoding assigns numerical values to the categories in the order they are presented. This allows machine learning algorithms to understand the relative importance of the categories.\n",
    "\n",
    "Employment Status: I would use one-hot encoding for this variable. This is because the order of the categories (Unemployed/Part-Time/Full-Time) does not matter, and I want to preserve the information that each category is unique. One-hot encoding creates a new binary variable for each category. This makes it easy for machine learning algorithms to understand the variable and to learn the relationships between the different categories."
   ]
  },
  {
   "cell_type": "markdown",
   "id": "0b581aa6-2460-43e5-b4b1-52e57de48e52",
   "metadata": {},
   "source": [
    "## Q7. You are analyzing a dataset with two continuous variables, \"Temperature\" and \"Humidity\", and  twocategorical variables, \"Weather Condition\" (Sunny/Cloudy/Rainy) and \"Wind Direction\" (North/South/ East/West). Calculate the covariance between each pair of variables and interpret the results."
   ]
  },
  {
   "cell_type": "code",
   "execution_count": 44,
   "id": "817156fc-9bc1-41ae-ae36-959719c96a50",
   "metadata": {},
   "outputs": [
    {
     "name": "stdout",
     "output_type": "stream",
     "text": [
      "[[250.   250.     7.5   12.5 ]\n",
      " [250.   250.     7.5   12.5 ]\n",
      " [  7.5    7.5    1.     1.25]\n",
      " [ 12.5   12.5    1.25   1.7 ]]\n"
     ]
    }
   ],
   "source": [
    "import numpy as np\n",
    "import pandas as pd\n",
    "\n",
    "# Create a dataset with the variables Temperature, Humidity, Weather Condition, and Wind Direction\n",
    "data = pd.DataFrame({\n",
    "    \"Temperature\": [25, 35, 45, 55, 65],\n",
    "    \"Humidity\": [50, 60, 70, 80, 90],\n",
    "    \"Weather Condition\": [\"Sunny\", \"Cloudy\", \"Rainy\", \"Sunny\", \"Rainy\"],\n",
    "    \"Wind Direction\": [\"North\", \"South\", \"East\", \"North\", \"West\"]\n",
    "})\n",
    "\n",
    "# Convert the categorical variables to numerical variables\n",
    "data['Weather Condition'] = data['Weather Condition'].map({\n",
    "    'Sunny': 0,\n",
    "    'Cloudy': 1,\n",
    "    'Rainy': 2\n",
    "})\n",
    "data['Wind Direction'] = data['Wind Direction'].map({\n",
    "    'North': 0,\n",
    "    'South': 1,\n",
    "    'East': 2,\n",
    "    'West': 3\n",
    "})\n",
    "\n",
    "# Calculate the covariance matrix\n",
    "covariance_matrix = np.cov(data.T)\n",
    "\n",
    "# Print the covariance matrix\n",
    "print(covariance_matrix)"
   ]
  },
  {
   "cell_type": "code",
   "execution_count": null,
   "id": "cde7c295-9beb-4de1-8dfb-8cd8a1f8ada0",
   "metadata": {},
   "outputs": [],
   "source": []
  }
 ],
 "metadata": {
  "kernelspec": {
   "display_name": "Python 3 (ipykernel)",
   "language": "python",
   "name": "python3"
  },
  "language_info": {
   "codemirror_mode": {
    "name": "ipython",
    "version": 3
   },
   "file_extension": ".py",
   "mimetype": "text/x-python",
   "name": "python",
   "nbconvert_exporter": "python",
   "pygments_lexer": "ipython3",
   "version": "3.10.8"
  }
 },
 "nbformat": 4,
 "nbformat_minor": 5
}
