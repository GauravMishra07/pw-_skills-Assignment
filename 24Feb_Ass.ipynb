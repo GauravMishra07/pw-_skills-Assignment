{
 "cells": [
  {
   "cell_type": "markdown",
   "id": "de752990-fa21-4527-b9b2-82b445bafda1",
   "metadata": {},
   "source": [
    "## Q1. List any five functions of the pandas library with execution."
   ]
  },
  {
   "cell_type": "code",
   "execution_count": 2,
   "id": "fd5bb36c-1c03-4729-b485-bd2a9e9be4d6",
   "metadata": {},
   "outputs": [],
   "source": [
    "import pandas as pd\n",
    "data = {'Name': ['Tom', 'nick', 'krish', 'jack'],\n",
    "        'Age': [20, 21, 19, 18]}"
   ]
  },
  {
   "cell_type": "code",
   "execution_count": 5,
   "id": "8f259b13-ea25-4a43-8a2a-ab1ffb2ea12b",
   "metadata": {},
   "outputs": [],
   "source": [
    "data =pd.DataFrame(data)"
   ]
  },
  {
   "cell_type": "code",
   "execution_count": 6,
   "id": "442f6865-ffe2-4156-8904-542ab7c1f84c",
   "metadata": {},
   "outputs": [
    {
     "data": {
      "text/html": [
       "<div>\n",
       "<style scoped>\n",
       "    .dataframe tbody tr th:only-of-type {\n",
       "        vertical-align: middle;\n",
       "    }\n",
       "\n",
       "    .dataframe tbody tr th {\n",
       "        vertical-align: top;\n",
       "    }\n",
       "\n",
       "    .dataframe thead th {\n",
       "        text-align: right;\n",
       "    }\n",
       "</style>\n",
       "<table border=\"1\" class=\"dataframe\">\n",
       "  <thead>\n",
       "    <tr style=\"text-align: right;\">\n",
       "      <th></th>\n",
       "      <th>Name</th>\n",
       "      <th>Age</th>\n",
       "    </tr>\n",
       "  </thead>\n",
       "  <tbody>\n",
       "    <tr>\n",
       "      <th>0</th>\n",
       "      <td>Tom</td>\n",
       "      <td>20</td>\n",
       "    </tr>\n",
       "    <tr>\n",
       "      <th>1</th>\n",
       "      <td>nick</td>\n",
       "      <td>21</td>\n",
       "    </tr>\n",
       "    <tr>\n",
       "      <th>2</th>\n",
       "      <td>krish</td>\n",
       "      <td>19</td>\n",
       "    </tr>\n",
       "    <tr>\n",
       "      <th>3</th>\n",
       "      <td>jack</td>\n",
       "      <td>18</td>\n",
       "    </tr>\n",
       "  </tbody>\n",
       "</table>\n",
       "</div>"
      ],
      "text/plain": [
       "    Name  Age\n",
       "0    Tom   20\n",
       "1   nick   21\n",
       "2  krish   19\n",
       "3   jack   18"
      ]
     },
     "execution_count": 6,
     "metadata": {},
     "output_type": "execute_result"
    }
   ],
   "source": [
    "#1 head\n",
    "\n",
    "data.head()"
   ]
  },
  {
   "cell_type": "code",
   "execution_count": 18,
   "id": "cd517ac4-2072-45a3-95a3-6ea9982159c6",
   "metadata": {},
   "outputs": [
    {
     "data": {
      "text/html": [
       "<div>\n",
       "<style scoped>\n",
       "    .dataframe tbody tr th:only-of-type {\n",
       "        vertical-align: middle;\n",
       "    }\n",
       "\n",
       "    .dataframe tbody tr th {\n",
       "        vertical-align: top;\n",
       "    }\n",
       "\n",
       "    .dataframe thead th {\n",
       "        text-align: right;\n",
       "    }\n",
       "</style>\n",
       "<table border=\"1\" class=\"dataframe\">\n",
       "  <thead>\n",
       "    <tr style=\"text-align: right;\">\n",
       "      <th></th>\n",
       "      <th>Name</th>\n",
       "      <th>Age</th>\n",
       "    </tr>\n",
       "  </thead>\n",
       "  <tbody>\n",
       "    <tr>\n",
       "      <th>0</th>\n",
       "      <td>Tom</td>\n",
       "      <td>20</td>\n",
       "    </tr>\n",
       "    <tr>\n",
       "      <th>1</th>\n",
       "      <td>nick</td>\n",
       "      <td>21</td>\n",
       "    </tr>\n",
       "    <tr>\n",
       "      <th>2</th>\n",
       "      <td>krish</td>\n",
       "      <td>19</td>\n",
       "    </tr>\n",
       "    <tr>\n",
       "      <th>3</th>\n",
       "      <td>jack</td>\n",
       "      <td>18</td>\n",
       "    </tr>\n",
       "  </tbody>\n",
       "</table>\n",
       "</div>"
      ],
      "text/plain": [
       "    Name  Age\n",
       "0    Tom   20\n",
       "1   nick   21\n",
       "2  krish   19\n",
       "3   jack   18"
      ]
     },
     "execution_count": 18,
     "metadata": {},
     "output_type": "execute_result"
    }
   ],
   "source": [
    "data.tail()"
   ]
  },
  {
   "cell_type": "code",
   "execution_count": 19,
   "id": "cc38d33d-0c88-4169-87bd-d1f13489bd66",
   "metadata": {},
   "outputs": [
    {
     "data": {
      "text/plain": [
       "18"
      ]
     },
     "execution_count": 19,
     "metadata": {},
     "output_type": "execute_result"
    }
   ],
   "source": [
    "data['Age'].min()"
   ]
  },
  {
   "cell_type": "code",
   "execution_count": 20,
   "id": "0739bf08-18f6-40ad-ac87-8d97b62a8120",
   "metadata": {},
   "outputs": [
    {
     "data": {
      "text/plain": [
       "21"
      ]
     },
     "execution_count": 20,
     "metadata": {},
     "output_type": "execute_result"
    }
   ],
   "source": [
    "data['Age'].max()"
   ]
  },
  {
   "cell_type": "code",
   "execution_count": 21,
   "id": "485c806f-800f-42ed-918b-c293db699b67",
   "metadata": {},
   "outputs": [
    {
     "data": {
      "text/html": [
       "<div>\n",
       "<style scoped>\n",
       "    .dataframe tbody tr th:only-of-type {\n",
       "        vertical-align: middle;\n",
       "    }\n",
       "\n",
       "    .dataframe tbody tr th {\n",
       "        vertical-align: top;\n",
       "    }\n",
       "\n",
       "    .dataframe thead th {\n",
       "        text-align: right;\n",
       "    }\n",
       "</style>\n",
       "<table border=\"1\" class=\"dataframe\">\n",
       "  <thead>\n",
       "    <tr style=\"text-align: right;\">\n",
       "      <th></th>\n",
       "      <th>Age</th>\n",
       "    </tr>\n",
       "  </thead>\n",
       "  <tbody>\n",
       "    <tr>\n",
       "      <th>count</th>\n",
       "      <td>4.000000</td>\n",
       "    </tr>\n",
       "    <tr>\n",
       "      <th>mean</th>\n",
       "      <td>19.500000</td>\n",
       "    </tr>\n",
       "    <tr>\n",
       "      <th>std</th>\n",
       "      <td>1.290994</td>\n",
       "    </tr>\n",
       "    <tr>\n",
       "      <th>min</th>\n",
       "      <td>18.000000</td>\n",
       "    </tr>\n",
       "    <tr>\n",
       "      <th>25%</th>\n",
       "      <td>18.750000</td>\n",
       "    </tr>\n",
       "    <tr>\n",
       "      <th>50%</th>\n",
       "      <td>19.500000</td>\n",
       "    </tr>\n",
       "    <tr>\n",
       "      <th>75%</th>\n",
       "      <td>20.250000</td>\n",
       "    </tr>\n",
       "    <tr>\n",
       "      <th>max</th>\n",
       "      <td>21.000000</td>\n",
       "    </tr>\n",
       "  </tbody>\n",
       "</table>\n",
       "</div>"
      ],
      "text/plain": [
       "             Age\n",
       "count   4.000000\n",
       "mean   19.500000\n",
       "std     1.290994\n",
       "min    18.000000\n",
       "25%    18.750000\n",
       "50%    19.500000\n",
       "75%    20.250000\n",
       "max    21.000000"
      ]
     },
     "execution_count": 21,
     "metadata": {},
     "output_type": "execute_result"
    }
   ],
   "source": [
    "data.describe()"
   ]
  },
  {
   "cell_type": "code",
   "execution_count": 26,
   "id": "54d6619e-22f1-40ea-ba4a-d3973311a784",
   "metadata": {},
   "outputs": [
    {
     "data": {
      "text/html": [
       "<div>\n",
       "<style scoped>\n",
       "    .dataframe tbody tr th:only-of-type {\n",
       "        vertical-align: middle;\n",
       "    }\n",
       "\n",
       "    .dataframe tbody tr th {\n",
       "        vertical-align: top;\n",
       "    }\n",
       "\n",
       "    .dataframe thead th {\n",
       "        text-align: right;\n",
       "    }\n",
       "</style>\n",
       "<table border=\"1\" class=\"dataframe\">\n",
       "  <thead>\n",
       "    <tr style=\"text-align: right;\">\n",
       "      <th></th>\n",
       "      <th>Age</th>\n",
       "    </tr>\n",
       "    <tr>\n",
       "      <th>Name</th>\n",
       "      <th></th>\n",
       "    </tr>\n",
       "  </thead>\n",
       "  <tbody>\n",
       "    <tr>\n",
       "      <th>Tom</th>\n",
       "      <td>20</td>\n",
       "    </tr>\n",
       "    <tr>\n",
       "      <th>nick</th>\n",
       "      <td>21</td>\n",
       "    </tr>\n",
       "    <tr>\n",
       "      <th>krish</th>\n",
       "      <td>19</td>\n",
       "    </tr>\n",
       "    <tr>\n",
       "      <th>jack</th>\n",
       "      <td>18</td>\n",
       "    </tr>\n",
       "  </tbody>\n",
       "</table>\n",
       "</div>"
      ],
      "text/plain": [
       "       Age\n",
       "Name      \n",
       "Tom     20\n",
       "nick    21\n",
       "krish   19\n",
       "jack    18"
      ]
     },
     "execution_count": 26,
     "metadata": {},
     "output_type": "execute_result"
    }
   ],
   "source": [
    "data.set_index('Name')"
   ]
  },
  {
   "cell_type": "markdown",
   "id": "1d3fc85d-07d1-4898-add5-8dd4b2099202",
   "metadata": {},
   "source": [
    "## Q2. Given a Pandas DataFrame df with columns 'A', 'B', and 'C', write a Python function to re-index the DataFrame with a new index that starts from 1 and increments by 2 for each row."
   ]
  },
  {
   "cell_type": "code",
   "execution_count": 51,
   "id": "e395dfbc-cb38-48e4-9b11-b66dc108275c",
   "metadata": {},
   "outputs": [],
   "source": [
    "df = {'A': [2,3,4,5,6],\n",
    "     'B': [6,7,8,9,3],\n",
    "     'C': [3,4,5,12,7]}"
   ]
  },
  {
   "cell_type": "code",
   "execution_count": 52,
   "id": "4c0a5994-54e9-4658-bb6f-1ccd60aff6bb",
   "metadata": {},
   "outputs": [],
   "source": [
    "df = pd.DataFrame(df)"
   ]
  },
  {
   "cell_type": "code",
   "execution_count": 53,
   "id": "4093669d-4076-4451-9b58-fc8309ad734c",
   "metadata": {},
   "outputs": [
    {
     "data": {
      "text/html": [
       "<div>\n",
       "<style scoped>\n",
       "    .dataframe tbody tr th:only-of-type {\n",
       "        vertical-align: middle;\n",
       "    }\n",
       "\n",
       "    .dataframe tbody tr th {\n",
       "        vertical-align: top;\n",
       "    }\n",
       "\n",
       "    .dataframe thead th {\n",
       "        text-align: right;\n",
       "    }\n",
       "</style>\n",
       "<table border=\"1\" class=\"dataframe\">\n",
       "  <thead>\n",
       "    <tr style=\"text-align: right;\">\n",
       "      <th></th>\n",
       "      <th>A</th>\n",
       "      <th>B</th>\n",
       "      <th>C</th>\n",
       "    </tr>\n",
       "  </thead>\n",
       "  <tbody>\n",
       "    <tr>\n",
       "      <th>0</th>\n",
       "      <td>2</td>\n",
       "      <td>6</td>\n",
       "      <td>3</td>\n",
       "    </tr>\n",
       "    <tr>\n",
       "      <th>1</th>\n",
       "      <td>3</td>\n",
       "      <td>7</td>\n",
       "      <td>4</td>\n",
       "    </tr>\n",
       "    <tr>\n",
       "      <th>2</th>\n",
       "      <td>4</td>\n",
       "      <td>8</td>\n",
       "      <td>5</td>\n",
       "    </tr>\n",
       "    <tr>\n",
       "      <th>3</th>\n",
       "      <td>5</td>\n",
       "      <td>9</td>\n",
       "      <td>12</td>\n",
       "    </tr>\n",
       "    <tr>\n",
       "      <th>4</th>\n",
       "      <td>6</td>\n",
       "      <td>3</td>\n",
       "      <td>7</td>\n",
       "    </tr>\n",
       "  </tbody>\n",
       "</table>\n",
       "</div>"
      ],
      "text/plain": [
       "   A  B   C\n",
       "0  2  6   3\n",
       "1  3  7   4\n",
       "2  4  8   5\n",
       "3  5  9  12\n",
       "4  6  3   7"
      ]
     },
     "execution_count": 53,
     "metadata": {},
     "output_type": "execute_result"
    }
   ],
   "source": [
    "df"
   ]
  },
  {
   "cell_type": "code",
   "execution_count": 54,
   "id": "180c8ed9-4389-4826-a980-20829de14262",
   "metadata": {},
   "outputs": [],
   "source": [
    "def reindex_df(df):\n",
    "    new_df = df.reset_index(drop=True)\n",
    "    new_df.index = new_df.index * 2 + 1\n",
    "    return new_df\n"
   ]
  },
  {
   "cell_type": "code",
   "execution_count": 55,
   "id": "650d4d8c-4fae-4b5a-974c-63b0909fe88f",
   "metadata": {},
   "outputs": [
    {
     "name": "stdout",
     "output_type": "stream",
     "text": [
      "   A  B   C\n",
      "1  2  6   3\n",
      "3  3  7   4\n",
      "5  4  8   5\n",
      "7  5  9  12\n",
      "9  6  3   7\n"
     ]
    }
   ],
   "source": [
    "new_df = reindex_df(df)\n",
    "df = print(new_df)"
   ]
  },
  {
   "cell_type": "markdown",
   "id": "61dbd3fa-49de-4c82-b1b5-1ebf6356e817",
   "metadata": {},
   "source": [
    "## Q3. You have a Pandas DataFrame df with a column named 'Values'. Write a Python function that iterates over the DataFrame and calculates the sum of the first three values in the 'Values' column. Thefunction should print the sum to the console. For example, if the 'Values' column of df contains the values [10, 20, 30, 40, 50], your function should calculate and print the sum of the first three values, which is 60."
   ]
  },
  {
   "cell_type": "code",
   "execution_count": 56,
   "id": "4523b5c2-bd64-4cea-9ab8-ba14a61ba223",
   "metadata": {},
   "outputs": [],
   "source": [
    "df1 = {'values': [10,20,30,40,50]}"
   ]
  },
  {
   "cell_type": "code",
   "execution_count": 58,
   "id": "4ed31a0a-b347-4700-8970-b142940cfbae",
   "metadata": {},
   "outputs": [],
   "source": [
    "df1 =pd.DataFrame(df1)"
   ]
  },
  {
   "cell_type": "code",
   "execution_count": 75,
   "id": "eb7fd3f0-f671-4eef-9ac2-c73dddc7c088",
   "metadata": {},
   "outputs": [],
   "source": [
    "def fun1(df):\n",
    "    x = sum(df['values'][0:3])\n",
    "    print(x)"
   ]
  },
  {
   "cell_type": "code",
   "execution_count": 76,
   "id": "04d11a31-a346-4723-9b4f-2facd8206176",
   "metadata": {},
   "outputs": [
    {
     "name": "stdout",
     "output_type": "stream",
     "text": [
      "60\n"
     ]
    }
   ],
   "source": [
    "fun1(df1)"
   ]
  },
  {
   "cell_type": "markdown",
   "id": "4255cd04-4d8b-4dfe-a2f4-728306878469",
   "metadata": {},
   "source": [
    "## Q4. Given a Pandas DataFrame df with a column 'Text', write a Python function to create a new column 'Word_Count' that contains the number of words in each row of the 'Text' column."
   ]
  },
  {
   "cell_type": "code",
   "execution_count": 78,
   "id": "5a1b256a-64d7-4a72-9e7d-296b05b4a7fb",
   "metadata": {},
   "outputs": [],
   "source": [
    "df2 = {'Text':['my name is xvf','cbjkdjdv','sdhduhd']}\n",
    "df2 = pd.DataFrame(df2)"
   ]
  },
  {
   "cell_type": "code",
   "execution_count": 96,
   "id": "febc32b2-b321-4a0b-ad81-bc0faede49ad",
   "metadata": {},
   "outputs": [],
   "source": [
    "df2['Word_Count'] = df2['Text'].apply(len)"
   ]
  },
  {
   "cell_type": "code",
   "execution_count": 97,
   "id": "81dbfe2e-05d8-4d2a-8ad7-fac35d058c67",
   "metadata": {},
   "outputs": [
    {
     "data": {
      "text/html": [
       "<div>\n",
       "<style scoped>\n",
       "    .dataframe tbody tr th:only-of-type {\n",
       "        vertical-align: middle;\n",
       "    }\n",
       "\n",
       "    .dataframe tbody tr th {\n",
       "        vertical-align: top;\n",
       "    }\n",
       "\n",
       "    .dataframe thead th {\n",
       "        text-align: right;\n",
       "    }\n",
       "</style>\n",
       "<table border=\"1\" class=\"dataframe\">\n",
       "  <thead>\n",
       "    <tr style=\"text-align: right;\">\n",
       "      <th></th>\n",
       "      <th>Text</th>\n",
       "      <th>Word_Count</th>\n",
       "    </tr>\n",
       "  </thead>\n",
       "  <tbody>\n",
       "    <tr>\n",
       "      <th>0</th>\n",
       "      <td>my name is xvf</td>\n",
       "      <td>14</td>\n",
       "    </tr>\n",
       "    <tr>\n",
       "      <th>1</th>\n",
       "      <td>cbjkdjdv</td>\n",
       "      <td>8</td>\n",
       "    </tr>\n",
       "    <tr>\n",
       "      <th>2</th>\n",
       "      <td>sdhduhd</td>\n",
       "      <td>7</td>\n",
       "    </tr>\n",
       "  </tbody>\n",
       "</table>\n",
       "</div>"
      ],
      "text/plain": [
       "             Text  Word_Count\n",
       "0  my name is xvf          14\n",
       "1        cbjkdjdv           8\n",
       "2         sdhduhd           7"
      ]
     },
     "execution_count": 97,
     "metadata": {},
     "output_type": "execute_result"
    }
   ],
   "source": [
    "df2"
   ]
  },
  {
   "cell_type": "markdown",
   "id": "73a8dba8-6cf9-4438-a86d-375b881d2b6c",
   "metadata": {},
   "source": [
    "## Q5. How are DataFrame.size() and DataFrame.shape() different?"
   ]
  },
  {
   "cell_type": "markdown",
   "id": "79071604-8484-4d05-8219-92ec10587c54",
   "metadata": {},
   "source": [
    "DataFrame.size() returns the total number of elements in the DataFrame, which is equivalent to the product of the number of rows and columns. The returned value is an integer.\n",
    "\n",
    "\n",
    "DataFrame.shape() returns a tuple that contains the number of rows and columns in the DataFrame, in that order. The returned value is a tuple of integers."
   ]
  },
  {
   "cell_type": "markdown",
   "id": "3ac3cbc4-942f-453d-b04a-284747ba7078",
   "metadata": {},
   "source": [
    "## Q6. Which function of pandas do we use to read an excel file?"
   ]
  },
  {
   "cell_type": "code",
   "execution_count": null,
   "id": "2df98627-b23b-4b08-871f-9ee846d6ebab",
   "metadata": {},
   "outputs": [],
   "source": [
    "pd.read_excel()"
   ]
  },
  {
   "cell_type": "markdown",
   "id": "1050dbf0-9456-4e83-aa28-e89f471f3a01",
   "metadata": {},
   "source": [
    "## Q7. You have a Pandas DataFrame df that contains a column named 'Email' that contains email addresses in the format 'username@domain.com'. Write a Python function that creates a new column 'Username' in df that contains only the username part of each email address. The username is the part of the email address that appears before the '@' symbol. For example, if the email address is 'john.doe@example.com', the 'Username' column should contain 'john.doe'. Your function should extract the username from each email address and store it in the new 'Username' column."
   ]
  },
  {
   "cell_type": "code",
   "execution_count": 99,
   "id": "1f2fcb21-8ada-407e-9df3-8936315a9540",
   "metadata": {},
   "outputs": [],
   "source": [
    "df3 = {'Email': ['abc@gmail.com','ddd@domain.com']}\n",
    "df3 = pd.DataFrame(df3)"
   ]
  },
  {
   "cell_type": "code",
   "execution_count": 100,
   "id": "d9c21e5f-be15-4d78-ad0f-81db7050d154",
   "metadata": {},
   "outputs": [
    {
     "data": {
      "text/html": [
       "<div>\n",
       "<style scoped>\n",
       "    .dataframe tbody tr th:only-of-type {\n",
       "        vertical-align: middle;\n",
       "    }\n",
       "\n",
       "    .dataframe tbody tr th {\n",
       "        vertical-align: top;\n",
       "    }\n",
       "\n",
       "    .dataframe thead th {\n",
       "        text-align: right;\n",
       "    }\n",
       "</style>\n",
       "<table border=\"1\" class=\"dataframe\">\n",
       "  <thead>\n",
       "    <tr style=\"text-align: right;\">\n",
       "      <th></th>\n",
       "      <th>Email</th>\n",
       "    </tr>\n",
       "  </thead>\n",
       "  <tbody>\n",
       "    <tr>\n",
       "      <th>0</th>\n",
       "      <td>abc@gmail.com</td>\n",
       "    </tr>\n",
       "    <tr>\n",
       "      <th>1</th>\n",
       "      <td>ddd@domain.com</td>\n",
       "    </tr>\n",
       "  </tbody>\n",
       "</table>\n",
       "</div>"
      ],
      "text/plain": [
       "            Email\n",
       "0   abc@gmail.com\n",
       "1  ddd@domain.com"
      ]
     },
     "execution_count": 100,
     "metadata": {},
     "output_type": "execute_result"
    }
   ],
   "source": [
    "df3"
   ]
  },
  {
   "cell_type": "code",
   "execution_count": 111,
   "id": "ea6cd17f-147e-4aba-ba12-9e49dfe37de8",
   "metadata": {},
   "outputs": [],
   "source": [
    "df3[\"Username\"] = df3['Email'].str.split('@').str[0]"
   ]
  },
  {
   "cell_type": "code",
   "execution_count": 112,
   "id": "e40d0dd4-bcc8-4f58-b3fd-efddbdaca9a8",
   "metadata": {},
   "outputs": [
    {
     "data": {
      "text/html": [
       "<div>\n",
       "<style scoped>\n",
       "    .dataframe tbody tr th:only-of-type {\n",
       "        vertical-align: middle;\n",
       "    }\n",
       "\n",
       "    .dataframe tbody tr th {\n",
       "        vertical-align: top;\n",
       "    }\n",
       "\n",
       "    .dataframe thead th {\n",
       "        text-align: right;\n",
       "    }\n",
       "</style>\n",
       "<table border=\"1\" class=\"dataframe\">\n",
       "  <thead>\n",
       "    <tr style=\"text-align: right;\">\n",
       "      <th></th>\n",
       "      <th>Email</th>\n",
       "      <th>Username</th>\n",
       "    </tr>\n",
       "  </thead>\n",
       "  <tbody>\n",
       "    <tr>\n",
       "      <th>0</th>\n",
       "      <td>abc@gmail.com</td>\n",
       "      <td>abc</td>\n",
       "    </tr>\n",
       "    <tr>\n",
       "      <th>1</th>\n",
       "      <td>ddd@domain.com</td>\n",
       "      <td>ddd</td>\n",
       "    </tr>\n",
       "  </tbody>\n",
       "</table>\n",
       "</div>"
      ],
      "text/plain": [
       "            Email Username\n",
       "0   abc@gmail.com      abc\n",
       "1  ddd@domain.com      ddd"
      ]
     },
     "execution_count": 112,
     "metadata": {},
     "output_type": "execute_result"
    }
   ],
   "source": [
    "df3.head()"
   ]
  },
  {
   "cell_type": "markdown",
   "id": "4252e744-98f9-4711-9e0b-1dc4ff67d47b",
   "metadata": {},
   "source": [
    "## Q8. You have a Pandas DataFrame df with columns 'A', 'B', and 'C'. Write a Python function that selects all rows where the value in column 'A' is greater than 5 and the value in column 'B' is less than 10. The function should return a new DataFrame that contains only the selected rows."
   ]
  },
  {
   "cell_type": "code",
   "execution_count": 130,
   "id": "251237f9-9078-4cc9-853e-9ca1a5d7b05d",
   "metadata": {},
   "outputs": [],
   "source": [
    "df4 = {'A': [3,8,6,2,9],\n",
    "     'B': [5,2,9,3,1],\n",
    "     'C': [1,7,4,5,2]}\n",
    "df4 = pd.DataFrame(df4)"
   ]
  },
  {
   "cell_type": "code",
   "execution_count": 131,
   "id": "4d9b3795-9444-4da0-8ce9-520c803dbfed",
   "metadata": {},
   "outputs": [
    {
     "data": {
      "text/html": [
       "<div>\n",
       "<style scoped>\n",
       "    .dataframe tbody tr th:only-of-type {\n",
       "        vertical-align: middle;\n",
       "    }\n",
       "\n",
       "    .dataframe tbody tr th {\n",
       "        vertical-align: top;\n",
       "    }\n",
       "\n",
       "    .dataframe thead th {\n",
       "        text-align: right;\n",
       "    }\n",
       "</style>\n",
       "<table border=\"1\" class=\"dataframe\">\n",
       "  <thead>\n",
       "    <tr style=\"text-align: right;\">\n",
       "      <th></th>\n",
       "      <th>A</th>\n",
       "      <th>B</th>\n",
       "      <th>C</th>\n",
       "    </tr>\n",
       "  </thead>\n",
       "  <tbody>\n",
       "    <tr>\n",
       "      <th>0</th>\n",
       "      <td>3</td>\n",
       "      <td>5</td>\n",
       "      <td>1</td>\n",
       "    </tr>\n",
       "    <tr>\n",
       "      <th>1</th>\n",
       "      <td>8</td>\n",
       "      <td>2</td>\n",
       "      <td>7</td>\n",
       "    </tr>\n",
       "    <tr>\n",
       "      <th>2</th>\n",
       "      <td>6</td>\n",
       "      <td>9</td>\n",
       "      <td>4</td>\n",
       "    </tr>\n",
       "    <tr>\n",
       "      <th>3</th>\n",
       "      <td>2</td>\n",
       "      <td>3</td>\n",
       "      <td>5</td>\n",
       "    </tr>\n",
       "    <tr>\n",
       "      <th>4</th>\n",
       "      <td>9</td>\n",
       "      <td>1</td>\n",
       "      <td>2</td>\n",
       "    </tr>\n",
       "  </tbody>\n",
       "</table>\n",
       "</div>"
      ],
      "text/plain": [
       "   A  B  C\n",
       "0  3  5  1\n",
       "1  8  2  7\n",
       "2  6  9  4\n",
       "3  2  3  5\n",
       "4  9  1  2"
      ]
     },
     "execution_count": 131,
     "metadata": {},
     "output_type": "execute_result"
    }
   ],
   "source": [
    "df4"
   ]
  },
  {
   "cell_type": "code",
   "execution_count": 132,
   "id": "90ecd701-a16b-4d01-bd12-884e1ecdddab",
   "metadata": {},
   "outputs": [],
   "source": [
    "d = []\n",
    "\n",
    "def fun2(df4):\n",
    "    for i in df4['A']:\n",
    "        if i >5:\n",
    "            d.append(i)\n",
    "    "
   ]
  },
  {
   "cell_type": "code",
   "execution_count": 133,
   "id": "53fa0dc0-70c9-4621-a3b3-f51008fe76fb",
   "metadata": {},
   "outputs": [],
   "source": [
    "fun2(df4)"
   ]
  },
  {
   "cell_type": "code",
   "execution_count": 134,
   "id": "ea153b46-084a-4465-8088-90a6125fb4cc",
   "metadata": {},
   "outputs": [
    {
     "name": "stdout",
     "output_type": "stream",
     "text": [
      "[8, 6, 9]\n"
     ]
    }
   ],
   "source": [
    "print(d)"
   ]
  },
  {
   "cell_type": "code",
   "execution_count": 144,
   "id": "3ec7ce8e-31d2-423a-8252-33711e7fa26e",
   "metadata": {},
   "outputs": [],
   "source": [
    "e = []\n",
    "\n",
    "def fun3(df4):\n",
    "    for j in df4['B']:\n",
    "        if j>2:\n",
    "            e.append(j)"
   ]
  },
  {
   "cell_type": "code",
   "execution_count": 145,
   "id": "065b63b1-c3f9-49ed-a36f-dac1989165b4",
   "metadata": {},
   "outputs": [],
   "source": [
    "fun3(df4)"
   ]
  },
  {
   "cell_type": "code",
   "execution_count": 146,
   "id": "0c106f6c-cb0e-471d-90cb-eddfa321e400",
   "metadata": {},
   "outputs": [
    {
     "name": "stdout",
     "output_type": "stream",
     "text": [
      "[5, 9, 3]\n"
     ]
    }
   ],
   "source": [
    "print(e)"
   ]
  },
  {
   "cell_type": "code",
   "execution_count": 148,
   "id": "aeec285b-ff52-411e-879e-33b33cc03bc6",
   "metadata": {},
   "outputs": [
    {
     "data": {
      "text/html": [
       "<div>\n",
       "<style scoped>\n",
       "    .dataframe tbody tr th:only-of-type {\n",
       "        vertical-align: middle;\n",
       "    }\n",
       "\n",
       "    .dataframe tbody tr th {\n",
       "        vertical-align: top;\n",
       "    }\n",
       "\n",
       "    .dataframe thead th {\n",
       "        text-align: right;\n",
       "    }\n",
       "</style>\n",
       "<table border=\"1\" class=\"dataframe\">\n",
       "  <thead>\n",
       "    <tr style=\"text-align: right;\">\n",
       "      <th></th>\n",
       "      <th>5</th>\n",
       "      <th>9</th>\n",
       "      <th>3</th>\n",
       "    </tr>\n",
       "  </thead>\n",
       "  <tbody>\n",
       "    <tr>\n",
       "      <th>0</th>\n",
       "      <td>8</td>\n",
       "      <td>6</td>\n",
       "      <td>9</td>\n",
       "    </tr>\n",
       "  </tbody>\n",
       "</table>\n",
       "</div>"
      ],
      "text/plain": [
       "   5  9  3\n",
       "0  8  6  9"
      ]
     },
     "execution_count": 148,
     "metadata": {},
     "output_type": "execute_result"
    }
   ],
   "source": [
    "pd.DataFrame(d,e).T"
   ]
  },
  {
   "cell_type": "markdown",
   "id": "1d4f8622-f219-49a3-a2e4-c27a1cf822d0",
   "metadata": {},
   "source": [
    "## Q9. Given a Pandas DataFrame df with a column 'Values', write a Python function to calculate the mean, median, and standard deviation of the values in the 'Values' column."
   ]
  },
  {
   "cell_type": "code",
   "execution_count": 149,
   "id": "04502b02-b9b7-40c3-9231-cf41160b785a",
   "metadata": {},
   "outputs": [
    {
     "data": {
      "text/html": [
       "<div>\n",
       "<style scoped>\n",
       "    .dataframe tbody tr th:only-of-type {\n",
       "        vertical-align: middle;\n",
       "    }\n",
       "\n",
       "    .dataframe tbody tr th {\n",
       "        vertical-align: top;\n",
       "    }\n",
       "\n",
       "    .dataframe thead th {\n",
       "        text-align: right;\n",
       "    }\n",
       "</style>\n",
       "<table border=\"1\" class=\"dataframe\">\n",
       "  <thead>\n",
       "    <tr style=\"text-align: right;\">\n",
       "      <th></th>\n",
       "      <th>values</th>\n",
       "    </tr>\n",
       "  </thead>\n",
       "  <tbody>\n",
       "    <tr>\n",
       "      <th>0</th>\n",
       "      <td>10</td>\n",
       "    </tr>\n",
       "    <tr>\n",
       "      <th>1</th>\n",
       "      <td>20</td>\n",
       "    </tr>\n",
       "    <tr>\n",
       "      <th>2</th>\n",
       "      <td>30</td>\n",
       "    </tr>\n",
       "    <tr>\n",
       "      <th>3</th>\n",
       "      <td>40</td>\n",
       "    </tr>\n",
       "    <tr>\n",
       "      <th>4</th>\n",
       "      <td>50</td>\n",
       "    </tr>\n",
       "  </tbody>\n",
       "</table>\n",
       "</div>"
      ],
      "text/plain": [
       "   values\n",
       "0      10\n",
       "1      20\n",
       "2      30\n",
       "3      40\n",
       "4      50"
      ]
     },
     "execution_count": 149,
     "metadata": {},
     "output_type": "execute_result"
    }
   ],
   "source": [
    "df1"
   ]
  },
  {
   "cell_type": "code",
   "execution_count": 150,
   "id": "2b5cf94e-c1ac-4b8b-b390-37d819bb1275",
   "metadata": {},
   "outputs": [
    {
     "data": {
      "text/plain": [
       "values    30.0\n",
       "dtype: float64"
      ]
     },
     "execution_count": 150,
     "metadata": {},
     "output_type": "execute_result"
    }
   ],
   "source": [
    "df1.mean()"
   ]
  },
  {
   "cell_type": "code",
   "execution_count": 151,
   "id": "f3cffaa8-8998-4caa-b9ea-f01d9f2f1b0a",
   "metadata": {},
   "outputs": [
    {
     "data": {
      "text/plain": [
       "values    15.811388\n",
       "dtype: float64"
      ]
     },
     "execution_count": 151,
     "metadata": {},
     "output_type": "execute_result"
    }
   ],
   "source": [
    "df1.std()"
   ]
  },
  {
   "cell_type": "code",
   "execution_count": 152,
   "id": "42a3bac7-759c-40d1-8b35-4907d33bfd2c",
   "metadata": {},
   "outputs": [
    {
     "data": {
      "text/plain": [
       "values    30.0\n",
       "dtype: float64"
      ]
     },
     "execution_count": 152,
     "metadata": {},
     "output_type": "execute_result"
    }
   ],
   "source": [
    "df1.median()"
   ]
  },
  {
   "cell_type": "markdown",
   "id": "7e3672d0-f823-4eb8-9b6d-949d18de9042",
   "metadata": {},
   "source": [
    "## Q10. Given a Pandas DataFrame df with a column 'Sales' and a column 'Date', write a Python function to create a new column 'MovingAverage' that contains the moving average of the sales for the past 7 days for each row in the DataFrame. The moving average should be calculated using a window of size 7 and should include the current day."
   ]
  },
  {
   "cell_type": "code",
   "execution_count": 153,
   "id": "9fe26fb4-43ab-4420-be32-267ac5efe523",
   "metadata": {},
   "outputs": [],
   "source": [
    "def moving_average(df):\n",
    "    df['MovingAverage'] = df['Sales'].rolling(window=7, min_periods=1).mean()\n",
    "    return df"
   ]
  },
  {
   "cell_type": "code",
   "execution_count": 161,
   "id": "e0bf5b7c-a2d6-444b-a593-2e796e934796",
   "metadata": {},
   "outputs": [
    {
     "name": "stdout",
     "output_type": "stream",
     "text": [
      "         Date  Sales\n",
      "0  2023-01-01     10\n",
      "1  2023-01-02     25\n",
      "2  2023-01-03     20\n",
      "3  2023-01-04     15\n",
      "4  2023-01-05     30\n",
      "5  2023-01-06     25\n",
      "6  2023-01-07     40\n",
      "7  2023-01-08     35\n",
      "8  2023-01-09     50\n",
      "9  2023-01-10     45\n",
      "10 2023-01-11     60\n",
      "11 2023-01-12     55\n",
      "12 2023-01-13     70\n",
      "13 2023-01-14     65\n",
      "14 2023-01-15     80\n",
      "15 2023-01-16     75\n",
      "16 2023-01-17     90\n",
      "17 2023-01-18     85\n",
      "18 2023-01-19    100\n",
      "19 2023-01-20     95\n",
      "20 2023-01-21    110\n",
      "21 2023-01-22    105\n",
      "22 2023-01-23    120\n",
      "23 2023-01-24    115\n",
      "24 2023-01-25    130\n",
      "25 2023-01-26    125\n",
      "26 2023-01-27    140\n",
      "27 2023-01-28    135\n",
      "28 2023-01-29    150\n",
      "29 2023-01-30    145\n",
      "30 2023-01-31    160\n"
     ]
    }
   ],
   "source": [
    "\n",
    "\n",
    "df5 = pd.DataFrame({\n",
    "    'Date': pd.date_range(start='2023-01-01', end='2023-01-31'),\n",
    "    'Sales': [10,25, 20, 15, 30, 25, 40, 35, 50, 45, 60, 55, 70, 65, 80, 75, 90, 85, 100, 95, 110, 105, 120, 115, 130, 125, 140, 135, 150, 145, 160]\n",
    "})\n",
    "print(df)\n",
    "\n",
    "\n",
    "\n"
   ]
  },
  {
   "cell_type": "code",
   "execution_count": 162,
   "id": "8ff4e8c4-104d-41bc-97e2-6e9e8ba2cacf",
   "metadata": {},
   "outputs": [
    {
     "name": "stdout",
     "output_type": "stream",
     "text": [
      "         Date  Sales  MovingAverage\n",
      "0  2023-01-01     10      10.000000\n",
      "1  2023-01-02     25      17.500000\n",
      "2  2023-01-03     20      18.333333\n",
      "3  2023-01-04     15      17.500000\n",
      "4  2023-01-05     30      20.000000\n",
      "5  2023-01-06     25      20.833333\n",
      "6  2023-01-07     40      23.571429\n",
      "7  2023-01-08     35      27.142857\n",
      "8  2023-01-09     50      30.714286\n",
      "9  2023-01-10     45      34.285714\n",
      "10 2023-01-11     60      40.714286\n",
      "11 2023-01-12     55      44.285714\n",
      "12 2023-01-13     70      50.714286\n",
      "13 2023-01-14     65      54.285714\n",
      "14 2023-01-15     80      60.714286\n",
      "15 2023-01-16     75      64.285714\n",
      "16 2023-01-17     90      70.714286\n",
      "17 2023-01-18     85      74.285714\n",
      "18 2023-01-19    100      80.714286\n",
      "19 2023-01-20     95      84.285714\n",
      "20 2023-01-21    110      90.714286\n",
      "21 2023-01-22    105      94.285714\n",
      "22 2023-01-23    120     100.714286\n",
      "23 2023-01-24    115     104.285714\n",
      "24 2023-01-25    130     110.714286\n",
      "25 2023-01-26    125     114.285714\n",
      "26 2023-01-27    140     120.714286\n",
      "27 2023-01-28    135     124.285714\n",
      "28 2023-01-29    150     130.714286\n",
      "29 2023-01-30    145     134.285714\n",
      "30 2023-01-31    160     140.714286\n"
     ]
    }
   ],
   "source": [
    "df5 = moving_average(df)\n",
    "print(df5)"
   ]
  },
  {
   "cell_type": "markdown",
   "id": "3308ddcd-b024-47f2-949a-9a7f1529c1f9",
   "metadata": {},
   "source": [
    "## Q11. You have a Pandas DataFrame df with a column 'Date'. Write a Python function that creates a new column 'Weekday' in the DataFrame. The 'Weekday' column should contain the weekday name (e.g. Monday, Tuesday) corresponding to each date in the 'Date' column."
   ]
  },
  {
   "cell_type": "code",
   "execution_count": 163,
   "id": "b68e4792-c5df-4010-b3ce-a57497d13fff",
   "metadata": {},
   "outputs": [
    {
     "name": "stdout",
     "output_type": "stream",
     "text": [
      "         Date    Weekday\n",
      "0  2023-01-01     Sunday\n",
      "1  2023-01-02     Monday\n",
      "2  2023-01-03    Tuesday\n",
      "3  2023-01-04  Wednesday\n",
      "4  2023-01-05   Thursday\n"
     ]
    }
   ],
   "source": [
    "def add_weekday_column(df):\n",
    "    df['Weekday'] = pd.to_datetime(df['Date']).dt.day_name()\n",
    "\n",
    "df = pd.DataFrame({'Date': ['2023-01-01', '2023-01-02', '2023-01-03', '2023-01-04', '2023-01-05']})\n",
    "\n",
    "add_weekday_column(df)\n",
    "\n",
    "print(df)"
   ]
  },
  {
   "cell_type": "markdown",
   "id": "385389fe-c6e3-4216-a26b-aed83271d50b",
   "metadata": {},
   "source": [
    "## Q12. Given a Pandas DataFrame df with a column 'Date' that contains timestamps, write a Python function to select all rows where the date is between '2023-01-01' and '2023-01-31'."
   ]
  },
  {
   "cell_type": "code",
   "execution_count": 164,
   "id": "4b6c8ef6-4a3e-42aa-80e0-8e3e2a10c829",
   "metadata": {},
   "outputs": [],
   "source": [
    "def select_january_dates(df):\n",
    "    start_date = '2023-01-01'\n",
    "    end_date = '2023-01-31'\n",
    "    mask = (df['Date'] >= start_date) & (df['Date'] <= end_date)\n",
    "    january_dates = df.loc[mask]\n",
    "    return january_dates"
   ]
  },
  {
   "cell_type": "code",
   "execution_count": 165,
   "id": "ebee6b35-93f9-4758-b0df-d4c0a91197d2",
   "metadata": {},
   "outputs": [],
   "source": [
    "january_dates = select_january_dates(df)"
   ]
  },
  {
   "cell_type": "code",
   "execution_count": 166,
   "id": "41dd4a1b-a72a-44ff-a5aa-65b6798c1c10",
   "metadata": {},
   "outputs": [
    {
     "data": {
      "text/html": [
       "<div>\n",
       "<style scoped>\n",
       "    .dataframe tbody tr th:only-of-type {\n",
       "        vertical-align: middle;\n",
       "    }\n",
       "\n",
       "    .dataframe tbody tr th {\n",
       "        vertical-align: top;\n",
       "    }\n",
       "\n",
       "    .dataframe thead th {\n",
       "        text-align: right;\n",
       "    }\n",
       "</style>\n",
       "<table border=\"1\" class=\"dataframe\">\n",
       "  <thead>\n",
       "    <tr style=\"text-align: right;\">\n",
       "      <th></th>\n",
       "      <th>Date</th>\n",
       "      <th>Weekday</th>\n",
       "    </tr>\n",
       "  </thead>\n",
       "  <tbody>\n",
       "    <tr>\n",
       "      <th>0</th>\n",
       "      <td>2023-01-01</td>\n",
       "      <td>Sunday</td>\n",
       "    </tr>\n",
       "    <tr>\n",
       "      <th>1</th>\n",
       "      <td>2023-01-02</td>\n",
       "      <td>Monday</td>\n",
       "    </tr>\n",
       "    <tr>\n",
       "      <th>2</th>\n",
       "      <td>2023-01-03</td>\n",
       "      <td>Tuesday</td>\n",
       "    </tr>\n",
       "    <tr>\n",
       "      <th>3</th>\n",
       "      <td>2023-01-04</td>\n",
       "      <td>Wednesday</td>\n",
       "    </tr>\n",
       "    <tr>\n",
       "      <th>4</th>\n",
       "      <td>2023-01-05</td>\n",
       "      <td>Thursday</td>\n",
       "    </tr>\n",
       "  </tbody>\n",
       "</table>\n",
       "</div>"
      ],
      "text/plain": [
       "         Date    Weekday\n",
       "0  2023-01-01     Sunday\n",
       "1  2023-01-02     Monday\n",
       "2  2023-01-03    Tuesday\n",
       "3  2023-01-04  Wednesday\n",
       "4  2023-01-05   Thursday"
      ]
     },
     "execution_count": 166,
     "metadata": {},
     "output_type": "execute_result"
    }
   ],
   "source": [
    "january_dates"
   ]
  },
  {
   "cell_type": "markdown",
   "id": "2a3deba2-0def-4640-8f3e-5b7b3e682985",
   "metadata": {},
   "source": [
    "## Q13. To use the basic functions of pandas, what is the first and foremost necessary library that needs to be imported?"
   ]
  },
  {
   "cell_type": "code",
   "execution_count": null,
   "id": "3a70d75a-9e39-4935-b6b8-6e34fc234c26",
   "metadata": {},
   "outputs": [],
   "source": [
    "import pandas\n"
   ]
  }
 ],
 "metadata": {
  "kernelspec": {
   "display_name": "Python 3 (ipykernel)",
   "language": "python",
   "name": "python3"
  },
  "language_info": {
   "codemirror_mode": {
    "name": "ipython",
    "version": 3
   },
   "file_extension": ".py",
   "mimetype": "text/x-python",
   "name": "python",
   "nbconvert_exporter": "python",
   "pygments_lexer": "ipython3",
   "version": "3.10.8"
  }
 },
 "nbformat": 4,
 "nbformat_minor": 5
}
