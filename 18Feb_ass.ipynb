{
 "cells": [
  {
   "cell_type": "markdown",
   "id": "bef2fb00-e7d4-4aa0-a11e-90c7d52055b8",
   "metadata": {},
   "source": [
    "## Q1. What is an API? Give an example, where an API is used in real life."
   ]
  },
  {
   "cell_type": "markdown",
   "id": "bc27a405-9c20-4bba-a684-89cef5f8baf6",
   "metadata": {},
   "source": [
    "APIs are used in web applications to connect user-facing front ends with critical back-end functionality and data. APIs are used to deliver material by streaming services such as Spotify and Netflix. APIs are used by automakers such as Tesla to provide software upgrades. API stands for Application programming interface.\n",
    "\n",
    "APIs are all around us. Every time you use a rideshare app, send a mobile payment, or change the thermostat temperature from your phone, you're using an API. When you use one of the above apps, they connect to the Internet and send data to a server.\n"
   ]
  },
  {
   "cell_type": "markdown",
   "id": "66a6583f-99fd-4948-8ea0-9efee619545f",
   "metadata": {},
   "source": [
    "## Q2. Give advantages and disadvantages of using API."
   ]
  },
  {
   "cell_type": "markdown",
   "id": "64e9a847-d336-4224-a7c4-8f151ceddee1",
   "metadata": {},
   "source": [
    "ADVANTAGE:\n",
    "\n",
    "The main advantage of providing an API is that it allows your users to do more with your product or service (i.e. it increases the value of your product). This typically takes one of two forms -\n",
    "\n",
    "an integration. An example of an integration is to push notifications from your product (such as CRM, Helpdesk) to a messaging tool such as Slack. In this way, if your customer uses Slack they can receive notifications without having to login directly to your system or check emails.\n",
    "new functionality. In the early days of Twitter, some of the most popular Twitter clients were produced by third parties using the Twitter API. Twitter and its users benefited from the new functionality that was undertaken by other companies."
   ]
  },
  {
   "cell_type": "markdown",
   "id": "35496597-6156-48f1-b863-1b4f46e883c6",
   "metadata": {},
   "source": [
    "DISADVANTAGE:\n",
    "\n",
    "\n",
    "Cost. Providing an API is expensive in terms of development time, ongoing maintenance, providing API documentation on your website and providing support to users of your API.\n",
    "\n",
    "\n",
    "Security exposure. Adding an API adds another attack surface to your website.\n",
    "\n",
    "\n",
    "You might not like the result or you may change business direction. It's not always easy to predict exactly how your API will be used. If your integration with a messaging system means that users login to your service less often, will there be an overall negative impact for you? Withdrawing an API can be painful for users if you decide that you need to do so. This is unusual but it can happen. As Twitter's business evolved it changed its rules for accessing its API which resulted in a number of problems for users and developers "
   ]
  },
  {
   "cell_type": "markdown",
   "id": "d38e550e-1957-43a8-a6b3-24a6e66fd06f",
   "metadata": {},
   "source": [
    "## Q3. What is a Web API? Differentiate between API and Web API."
   ]
  },
  {
   "cell_type": "markdown",
   "id": "3717d6e0-b565-4160-949c-16d092bd6dde",
   "metadata": {},
   "source": [
    "Web API as the name suggests, is an API over the web which can be accessed using HTTP protocol. It is a concept and not a technology. We can build Web API using different technologies such as Java, .NET etc. For example, Twitter's REST APIs provide programmatic access to read and write data using which we can integrate twitter's capabilities into our own application.\n",
    "\n",
    "DIFFERENCE BETWEEN API AND WEB API:"
   ]
  },
  {
   "cell_type": "markdown",
   "id": "75b7ad6b-af54-4f28-ba02-a6b6422e64f5",
   "metadata": {},
   "source": [
    "Web Services: A Web services are any bit of services that makes it accessible over the Internet and normalizes its correspondence through XML encoding. A customer conjures web services by sending a solicitation (for the most part as an XML message), and the services send back an XML response. Web services summon communication over a network, with HTTP as the most widely recognized methods for the network between the two frameworks. Web services are equivalent to SOA (Services Oriented Architecture) and fundamentally depend on measures, for example, XML-RPC and SOAP (Simple Object Access Protocol).\n",
    "\n",
    "\n",
    "Web APIs: API stands for Application Programming Interface. It is a collection of communication conventions and subroutines used by various programs to communicate between them. A developer can utilize different API apparatuses to make its program simpler and less complex. Likewise, an API encourages the developers with a proficient method to build up their product programs. Thus, in simple terms, an API determines how programming segments ought to associate with one another. It is a set of protocols and schedules, and its reactions are returned as JSON or XML in data. APIs can utilize any kind of communication convention and are not restricted similarly as a web service is."
   ]
  },
  {
   "cell_type": "markdown",
   "id": "1644f334-2ed7-489e-a135-f1036e0c73fc",
   "metadata": {},
   "source": [
    "## Q4. Explain REST and SOAP Architecture. Mention shortcomings of SOAP."
   ]
  },
  {
   "cell_type": "markdown",
   "id": "4efc7b58-0b83-45bd-ab91-11ee91e61c62",
   "metadata": {},
   "source": [
    "REST:"
   ]
  },
  {
   "cell_type": "raw",
   "id": "956aec5f-bbb2-4b0a-9212-93797a788fc6",
   "metadata": {},
   "source": [
    "\n",
    "\n",
    "Uniform Interface: It is a key constraint that differentiate between a REST API and Non-REST API. It suggests that there should be an uniform way of interacting with a given server irrespective of device or type of application (website, mobile app). \n",
    "\n",
    "There are four guidelines principle of Uniform Interface are:\n",
    "\n",
    "Resource-Based: Individual resources are identified in requests. For example: API/users.\n",
    "Manipulation of Resources Through Representations: Client has representation of resource and it contains enough information to modify or delete the resource on the server, provided it has permission to do so. Example: Usually user get a user id when user request for a list of users and then use that id to delete or modify that particular user.\n",
    "Self-descriptive Messages: Each message includes enough information to describe how to process the message so that server can easily analyses the request.\n",
    "Hypermedia as the Engine of Application State (HATEOAS): It need to include links for each response so that client can discover other resources easily.\n",
    "\n",
    "\n",
    "Stateless: It means that the necessary state to handle the request is contained within the request itself and server would not store anything related to the session. In REST, the client must include all information for the server to fulfill the request whether as a part of query params, headers or URI. Statelessness enables greater availability since the server does not have to maintain, update or communicate that session state. There is a drawback when the client need to send too much data to the server so it reduces the scope of network optimization and requires more bandwidth.\n",
    "\n",
    "Stateless: It means that the necessary state to handle the request is contained within the request itself and server would not store anything related to the session. In REST, the client must include all information for the server to fulfill the request whether as a part of query params, headers or URI. Statelessness enables greater availability since the server does not have to maintain, update or communicate that session state. There is a drawback when the client need to send too much data to the server so it reduces the scope of network optimization and requires more bandwidth.\n",
    "\n",
    "Cacheable: Every response should include whether the response is cacheable or not and for how much duration responses can be cached at the client side. Client will return the data from its cache for any subsequent request and there would be no need to send the request again to the server. A well-managed caching partially or completely eliminates some client–server interactions, further improving availability and performance. But sometime there are chances that user may receive stale data. \n",
    "\n",
    "Client-Server: REST application should have a client-server architecture. A Client is someone who is requesting resources and are not concerned with data storage, which remains internal to each server, and server is someone who holds the resources and are not concerned with the user interface or user state. They can evolve independently. Client doesn’t need to know anything about business logic and server doesn’t need to know anything about frontend UI. \n",
    "\n",
    "Layered system: An application architecture needs to be composed of multiple layers. Each layer doesn’t know any thing about any layer other than that of immediate layer and there can be lot of intermediate servers between client and the end server. Intermediary servers may improve system availability by enabling load-balancing and by providing shared caches. \n",
    "\n",
    "Code on demand: It is an optional feature. According to this, servers can also provide executable code to the client. The examples of code on demand may include the compiled components such as Java Servlets and Server-Side Scripts such as JavaScript. "
   ]
  },
  {
   "cell_type": "markdown",
   "id": "a615db7b-ce2a-4c10-8d57-f0d64b3f9b39",
   "metadata": {},
   "source": [
    "SOAP:"
   ]
  },
  {
   "cell_type": "markdown",
   "id": "18746a3a-20b6-4ae5-83b3-907def4e5368",
   "metadata": {},
   "source": [
    "The service provider.\n",
    "\n",
    "The collection of software that provides a web service.\n",
    "\n",
    "The application program\n",
    "\n",
    "The middleware\n",
    "\n",
    "The platform on which they run\n",
    "\n",
    "The service requester\n",
    "\n",
    "The collection of software that is responsible for requesting a web service from a service provider.\n",
    "\n",
    "The application program\n",
    "\n",
    "The middleware\n",
    "\n",
    "The platform on which they run\n",
    "\n",
    "The service registry\n",
    "\n",
    "The service registry is a central location where service providers can publish their service descriptions and where service requesters can find those service descriptions.\n",
    "\n",
    "The registry is an optional component of the web services architecture because service requesters and providers can communicate without it in many situations. For example, the organization that provides a service can distribute the service description directly to the users of the service in a number of ways, including offering the service as a download from an FTP site.\n"
   ]
  },
  {
   "cell_type": "markdown",
   "id": "a967e8eb-a75b-4646-bcc7-b8ed6c051c69",
   "metadata": {},
   "source": [
    "## Q5. Differentiate between REST and SOAP."
   ]
  },
  {
   "cell_type": "markdown",
   "id": "fc36e232-e4b0-4e07-a824-e8303dcdfe6f",
   "metadata": {},
   "source": [
    "SOAP vs. REST\n",
    "\n",
    "Many legacy systems may still adhere to SOAP, while REST came later and is often viewed as a faster alternative in web-based scenarios. REST is a set of guidelines that offers flexible implementation, whereas SOAP is a protocol with specific requirements like XML messaging.\n",
    "\n",
    "REST APIs are lightweight, making them ideal for newer contexts like the Internet of Things (IoT), mobile application development, and serverless computing. SOAP web services offer built-in security and transaction compliance that align with many enterprise needs, but that also makes them heavier. Additionally, many public APIs, like the Google Maps API, follow the REST guidelines."
   ]
  }
 ],
 "metadata": {
  "kernelspec": {
   "display_name": "Python 3 (ipykernel)",
   "language": "python",
   "name": "python3"
  },
  "language_info": {
   "codemirror_mode": {
    "name": "ipython",
    "version": 3
   },
   "file_extension": ".py",
   "mimetype": "text/x-python",
   "name": "python",
   "nbconvert_exporter": "python",
   "pygments_lexer": "ipython3",
   "version": "3.10.8"
  }
 },
 "nbformat": 4,
 "nbformat_minor": 5
}
