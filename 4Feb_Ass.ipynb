{
 "cells": [
  {
   "cell_type": "markdown",
   "id": "169b458d-32d8-4c4d-9b9f-e3b193519d64",
   "metadata": {},
   "source": [
    "Q1. Create a python program to sort the given list of tuples based on integer value using a\n",
    "lambda function.Q1. Create a python program to sort the given list of tuples based on integer value using a\n",
    "lambda function."
   ]
  },
  {
   "cell_type": "code",
   "execution_count": 1,
   "id": "8424c79e-c532-4215-8794-d65b093fed2d",
   "metadata": {},
   "outputs": [
    {
     "name": "stdout",
     "output_type": "stream",
     "text": [
      "[('Virat Kohli', 24936), ('Jack Kallis', 25534), ('Ricky Ponting', 27483), ('Sachin Tendulkar', 34357)]\n"
     ]
    }
   ],
   "source": [
    "lst= [('Sachin Tendulkar', 34357), ('Ricky Ponting', 27483), ('Jack Kallis', 25534), ('Virat Kohli', 24936)]\n",
    "\n",
    "lst.sort(key=lambda x:x[1])\n",
    "print(lst)"
   ]
  },
  {
   "cell_type": "markdown",
   "id": "c14b7bd9-f0a9-41a6-b20e-e1b48d3f73d4",
   "metadata": {},
   "source": [
    "Q2. Write a Python Program to find the squares of all the numbers in the given list of integers using\n",
    "lambda and map functions.\n",
    "[1, 2, 3, 4, 5, 6, 7, 8, 9, 10]"
   ]
  },
  {
   "cell_type": "code",
   "execution_count": 2,
   "id": "724e237c-a3f2-4ebe-994a-2e49f6ae91e5",
   "metadata": {},
   "outputs": [
    {
     "data": {
      "text/plain": [
       "[1, 4, 9, 16, 25, 36, 49, 64, 81, 100]"
      ]
     },
     "execution_count": 2,
     "metadata": {},
     "output_type": "execute_result"
    }
   ],
   "source": [
    "l = (1, 2, 3, 4, 5, 6, 7, 8, 9, 10)\n",
    "#a= lambda n,p: n**p\n",
    "list(map(lambda x: x**2,l))"
   ]
  },
  {
   "cell_type": "markdown",
   "id": "8152c62c-f82d-4767-ab9e-fe0a656da1e9",
   "metadata": {},
   "source": [
    "Q3. Write a python program to convert the given list of integers into a tuple of strings. Use map and\n",
    "lambda functions"
   ]
  },
  {
   "cell_type": "code",
   "execution_count": 3,
   "id": "1706e98d-8476-4c00-9525-d3603f7e5f9c",
   "metadata": {},
   "outputs": [
    {
     "data": {
      "text/plain": [
       "('1', '4', '9', '16', '25', '36', '49', '64', '81', '100')"
      ]
     },
     "execution_count": 3,
     "metadata": {},
     "output_type": "execute_result"
    }
   ],
   "source": [
    "st = [1, 4, 9, 16, 25, 36, 49, 64, 81, 100]\n",
    "tuple(map(lambda x : str(x),st))\n"
   ]
  },
  {
   "cell_type": "markdown",
   "id": "58c9082e-5203-426d-ba74-cf48d15a8961",
   "metadata": {},
   "source": [
    "Q4. Write a python program using reduce function to compute the product of a list containing numbers\n",
    "from 1 to 25."
   ]
  },
  {
   "cell_type": "code",
   "execution_count": 4,
   "id": "63173033-b634-400a-99b0-85d22fa914da",
   "metadata": {},
   "outputs": [],
   "source": [
    "def prdt():\n",
    "    l=[]\n",
    "    for i in range(1,26):\n",
    "        l.append(i*i)\n",
    "    return(l)\n",
    "    \n",
    "    "
   ]
  },
  {
   "cell_type": "code",
   "execution_count": 8,
   "id": "0ec18d4a-0ebe-4b47-bb5c-c4384a78d3a2",
   "metadata": {},
   "outputs": [],
   "source": [
    "a = prdt()"
   ]
  },
  {
   "cell_type": "code",
   "execution_count": 12,
   "id": "a05d9152-2e16-4268-b1b9-4fe77ee2583d",
   "metadata": {},
   "outputs": [],
   "source": [
    "import functools "
   ]
  },
  {
   "cell_type": "code",
   "execution_count": 19,
   "id": "89fb2d8a-6f4c-4168-98ea-48de772bf62a",
   "metadata": {},
   "outputs": [
    {
     "data": {
      "text/plain": [
       "5525"
      ]
     },
     "execution_count": 19,
     "metadata": {},
     "output_type": "execute_result"
    }
   ],
   "source": [
    "reduce(lambda x,y: x+y ,a)"
   ]
  },
  {
   "cell_type": "markdown",
   "id": "e10750af-1e3f-4b8f-8859-699696849ec4",
   "metadata": {},
   "source": [
    "Q5. Write a python program to filter the numbers in a given list that are divisible by 2 and 3 using the\n",
    "filter function."
   ]
  },
  {
   "cell_type": "code",
   "execution_count": 27,
   "id": "dca185a2-a4de-4284-a53d-d938126f1a4f",
   "metadata": {},
   "outputs": [
    {
     "data": {
      "text/plain": [
       "[2, 6, 60, 90, 120, 46]"
      ]
     },
     "execution_count": 27,
     "metadata": {},
     "output_type": "execute_result"
    }
   ],
   "source": [
    "z = [2, 3, 6, 9, 27, 60, 90, 120, 55, 46]\n",
    "list(filter(lambda x : x%2 == 0,z))\n"
   ]
  },
  {
   "cell_type": "code",
   "execution_count": 23,
   "id": "c8645730-3a88-4a72-a173-a01f456bcd65",
   "metadata": {},
   "outputs": [
    {
     "data": {
      "text/plain": [
       "[3, 9, 27, 55]"
      ]
     },
     "execution_count": 23,
     "metadata": {},
     "output_type": "execute_result"
    }
   ],
   "source": [
    "list(filter(lambda x : x%2 != 0,z))"
   ]
  },
  {
   "cell_type": "markdown",
   "id": "e4a807a2-3a2d-4dcf-bcc7-0c9787266664",
   "metadata": {},
   "source": [
    "Q6. Write a python program to find palindromes in the given list of strings using lambda and filter\n",
    "function."
   ]
  },
  {
   "cell_type": "code",
   "execution_count": 28,
   "id": "a5c85023-24d3-425f-a96b-755537652e13",
   "metadata": {},
   "outputs": [
    {
     "data": {
      "text/plain": [
       "['php', 'aba', 'radar', 'level']"
      ]
     },
     "execution_count": 28,
     "metadata": {},
     "output_type": "execute_result"
    }
   ],
   "source": [
    "pal = ['python', 'php', 'aba', 'radar', 'level']\n",
    "list(filter(lambda x: x == x[::-1],pal))"
   ]
  },
  {
   "cell_type": "code",
   "execution_count": null,
   "id": "b77e07a7-df9f-46d1-9c68-0129ba690d7b",
   "metadata": {},
   "outputs": [],
   "source": []
  }
 ],
 "metadata": {
  "kernelspec": {
   "display_name": "Python 3 (ipykernel)",
   "language": "python",
   "name": "python3"
  },
  "language_info": {
   "codemirror_mode": {
    "name": "ipython",
    "version": 3
   },
   "file_extension": ".py",
   "mimetype": "text/x-python",
   "name": "python",
   "nbconvert_exporter": "python",
   "pygments_lexer": "ipython3",
   "version": "3.10.8"
  }
 },
 "nbformat": 4,
 "nbformat_minor": 5
}
