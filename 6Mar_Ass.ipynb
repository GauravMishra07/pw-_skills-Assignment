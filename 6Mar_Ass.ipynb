{
 "cells": [
  {
   "cell_type": "markdown",
   "id": "82558a54-4a80-4508-8935-775715349059",
   "metadata": {},
   "source": [
    "## Q1. What is Statistics?"
   ]
  },
  {
   "cell_type": "markdown",
   "id": "fa1c289a-7b15-4d8d-8a49-264137124dbd",
   "metadata": {},
   "source": [
    "Statistics is the study and manipulation of data, including ways to gather, review, analyze, and draw conclusions from data. The two major areas of statistics are descriptive and inferential statistics."
   ]
  },
  {
   "cell_type": "markdown",
   "id": "7898579f-3584-47e8-85a2-08c3ab3a0950",
   "metadata": {},
   "source": [
    "## Q2. Define the different types of statistics and give an example of when each type might be used."
   ]
  },
  {
   "cell_type": "markdown",
   "id": "dc3087ca-8f43-4aae-b768-d9bed6330863",
   "metadata": {},
   "source": [
    "There are two kinds of Statistics, which are descriptive Statistics and inferential Statistics. In descriptive Statistics, the Data or Collection Data are described in a summarized way, whereas in inferential Statistics, we make use of it in order to explain the descriptive kind. Both of them are used on a large scale.\n",
    "\n",
    "descriptive example - mean, median\n",
    "\n",
    "inferential example - t test hypothesis testing "
   ]
  },
  {
   "cell_type": "markdown",
   "id": "0c783ebe-91c3-450e-9b59-ff935ca69bf1",
   "metadata": {},
   "source": [
    "## Q3. What are the different types of data and how do they differ from each other? Provide an example of each type of data."
   ]
  },
  {
   "cell_type": "markdown",
   "id": "3a97069b-32f4-45e2-88fe-3b8c035f04d4",
   "metadata": {},
   "source": [
    "Qualitative Data Type-\n",
    "\n",
    "Nominal: These are the set of values that don’t possess a natural ordering. Let’s understand this with some examples. The color of a smartphone can be considered as a nominal data type as we can’t compare one color with others.\n",
    "\n",
    "Ordinal: These types of values have a natural ordering while maintaining their class of values. If we consider the size of a clothing brand then we can easily sort them according to their name tag in the order of small < medium < large. The grading system while marking candidates in a test can also be considered as an ordinal data type where A+ is definitely better than B grade. \n",
    "\n",
    "\n",
    "\n",
    "Quantitative Data Type-\n",
    "\n",
    "Discrete:The numerical values which fall under are integers or whole numbers are placed under this category. The number of speakers in the phone, cameras, cores in the processor, the number of sims supported all these are some of the examples of the discrete data type.\n",
    "\n",
    "Continuous:The fractional numbers are considered as continuous values. These can take the form of the operating frequency of the processors, the android version of the phone, wifi frequency, temperature of the cores, and so on. "
   ]
  },
  {
   "cell_type": "markdown",
   "id": "2dd86b5d-66ef-42b6-9585-05f593c7c3ff",
   "metadata": {},
   "source": [
    "## Q4. Categorise the following datasets with respect to quantitative and qualitative data types:"
   ]
  },
  {
   "cell_type": "markdown",
   "id": "4aab7e17-3691-4703-9083-c5db088d75f2",
   "metadata": {},
   "source": [
    "(i) Grading in exam: A+, A, B+, B, C+, C, D, E - Qualitative\n",
    "(ii) Colour of mangoes: yellow, green, orange, red - Qualitative\n",
    "(iii) Height data of a class: [178.9, 179, 179.5, 176, 177.2, 178.3, 175.8,...] - Quantitative\n",
    "(iv) Number of mangoes exported by a farm: [500, 600, 478, 672, ...] - Quantitative"
   ]
  },
  {
   "cell_type": "markdown",
   "id": "e06b4595-d072-4cff-a5ac-e027f1ba818c",
   "metadata": {},
   "source": [
    "## Q5. Explain the concept of levels of measurement and give an example of a variable for each level."
   ]
  },
  {
   "cell_type": "markdown",
   "id": "a08d327a-35b2-4e09-9505-8382f5bb90e0",
   "metadata": {},
   "source": [
    "There are 4 levels of measurement:\n",
    "\n",
    "Nominal: the data can only be categorized\n",
    "\n",
    "Ordinal: the data can be categorized and ranked\n",
    "\n",
    "Interval: the data can be categorized, ranked, and evenly spaced\n",
    "\n",
    "Ratio: the data can be categorized, ranked, evenly spaced, and has a natural zero."
   ]
  },
  {
   "cell_type": "markdown",
   "id": "08f1b51d-9d07-422c-989b-819e207119d8",
   "metadata": {},
   "source": [
    "## Q6. Why is it important to understand the level of measurement when analyzing data? Provide an example to illustrate your answer."
   ]
  },
  {
   "cell_type": "markdown",
   "id": "4c2ea2a2-637f-4d4e-be42-8a3898513da4",
   "metadata": {},
   "source": [
    "It is important to understand the level of measurement of variables in research, because the level of measurement determines the type of statistical analysis that can be conducted, and, therefore, the type of conclusions that can be drawn from the research.\n",
    "\n",
    "Example - In the Kelvin temperature scale, there are no negative degrees of temperature – zero means an absolute lack of thermal energy."
   ]
  },
  {
   "cell_type": "markdown",
   "id": "a73613dd-fd30-4025-8e72-02251c137d4a",
   "metadata": {},
   "source": [
    "## Q7. How nominal data type is different from ordinal data type."
   ]
  },
  {
   "cell_type": "markdown",
   "id": "f372bd05-ecf0-48b9-a342-78f6e27e0eb5",
   "metadata": {},
   "source": [
    "Nominal data is a group of non-parametric variables, whereas Ordinal data is a group of non-parametric ordered variables. Ordinal data is analyzed by mode, median, quartiles, and percentile, whereas nominal data is analyzed by grouping variables into categories and calculating the distribution mode."
   ]
  },
  {
   "cell_type": "markdown",
   "id": "727ecea3-d122-4914-b4f5-13c5a7dfbcbb",
   "metadata": {},
   "source": [
    "## Q8. Which type of plot can be used to display data in terms of range?"
   ]
  },
  {
   "cell_type": "markdown",
   "id": "402305ab-3d3b-4621-bf47-8cf5d5edd282",
   "metadata": {},
   "source": [
    "Histogram. If the groups depicted in a bar chart are actually continuous numeric ranges, we can push the bars together to generate a histogram. Bar lengths in histograms typically correspond to counts of data points, and their patterns demonstrate the distribution of variables in your data."
   ]
  },
  {
   "cell_type": "markdown",
   "id": "cdaf6917-089e-45a9-ab44-e762ac71d870",
   "metadata": {},
   "source": [
    "## Q9. Describe the difference between descriptive and inferential statistics. Give an example of each type of statistics and explain how they are used."
   ]
  },
  {
   "cell_type": "markdown",
   "id": "8e128431-e7ad-4642-8cec-b8868b312c0a",
   "metadata": {},
   "source": [
    "Inferential statistics helps to compare data, make hypotheses and predictions. Descriptive statistics explains already known data related to a particular sample or population of a small size. Inferential statistics, however, aims to draw inferences or conclusions about a whole population.\n",
    "\n",
    "descriptive example - mean, median\n",
    "\n",
    "inferential example - t test hypothesis testing "
   ]
  },
  {
   "cell_type": "markdown",
   "id": "1fc1565a-4a61-4d37-9009-fddf71e98dc5",
   "metadata": {},
   "source": [
    "## Q10. What are some common measures of central tendency and variability used in statistics? Explain how each measure can be used to describe a dataset."
   ]
  },
  {
   "cell_type": "markdown",
   "id": "50602e5e-e7ec-4fe9-9a29-b9b001944ea6",
   "metadata": {},
   "source": [
    "Central tendency and variation are two measures used in statistics to summarize data. Measure of central tendency shows where the center or middle of the data set is located, whereas measure of variation shows the dispersion among data values."
   ]
  },
  {
   "cell_type": "code",
   "execution_count": null,
   "id": "f6e16c03-6575-4d4a-8df1-316097c8d8c9",
   "metadata": {},
   "outputs": [],
   "source": []
  }
 ],
 "metadata": {
  "kernelspec": {
   "display_name": "Python 3 (ipykernel)",
   "language": "python",
   "name": "python3"
  },
  "language_info": {
   "codemirror_mode": {
    "name": "ipython",
    "version": 3
   },
   "file_extension": ".py",
   "mimetype": "text/x-python",
   "name": "python",
   "nbconvert_exporter": "python",
   "pygments_lexer": "ipython3",
   "version": "3.10.8"
  }
 },
 "nbformat": 4,
 "nbformat_minor": 5
}
