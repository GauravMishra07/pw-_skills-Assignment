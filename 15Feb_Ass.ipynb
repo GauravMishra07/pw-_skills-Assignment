{
 "cells": [
  {
   "cell_type": "markdown",
   "id": "cc901d47-3465-40c1-b932-08e56a8326a2",
   "metadata": {},
   "source": [
    "## Q1. What is multiprocessing in python? Why is it useful?"
   ]
  },
  {
   "cell_type": "markdown",
   "id": "e8d6901c-2800-4f2e-ab39-b1d30109ac32",
   "metadata": {},
   "source": [
    "Multiprocessing in Python is a built-in package that allows the system to run multiple processes simultaneously. It will enable the breaking of applications into smaller threads that can run independently. It is used to achieve parallelism."
   ]
  },
  {
   "cell_type": "markdown",
   "id": "f9fd56c6-d7bd-4a59-be26-6bca1e94f386",
   "metadata": {},
   "source": [
    "## Q2. What are the differences between multiprocessing and multithreading?"
   ]
  },
  {
   "cell_type": "markdown",
   "id": "193df706-dfff-469d-ac0a-5d4889935ddf",
   "metadata": {},
   "source": [
    "Multiprocessing uses two or more CPUs to increase computing power, whereas multithreading uses a single process with multiple code segments to increase computing power.\n",
    "\n",
    "Multithreading focuses on generating computing threads from a single process, whereas multiprocessing increases computing power by adding CPUs.\n",
    "\n",
    "Multiprocessing is used to create a more reliable system, whereas multithreading is used to create threads that run parallel to each other.\n",
    "\n",
    "multithreading is quick to create and requires few resources, whereas multiprocessing requires a significant amount of time and specific resources to create.\n",
    "\n",
    "Multiprocessing executes many processes simultaneously, whereas multithreading executes many threads simultaneously.\n",
    "\n",
    "Multithreading uses a common address space for all the threads, whereas multiprocessing creates a separate address space for each process."
   ]
  },
  {
   "cell_type": "markdown",
   "id": "816322b1-6db6-4ac7-806a-8efd98c88805",
   "metadata": {},
   "source": [
    "## Q3. Write a python code to create a process using the multiprocessing module."
   ]
  },
  {
   "cell_type": "code",
   "execution_count": 14,
   "id": "b6cdb29e-5db4-4dd1-ac10-b042ede984f1",
   "metadata": {},
   "outputs": [
    {
     "name": "stdout",
     "output_type": "stream",
     "text": [
      "100\n"
     ]
    }
   ],
   "source": [
    "import multiprocessing\n",
    "\n",
    "\n",
    "def square(x):\n",
    "    print(x**2)\n",
    "if __name__ == '__main__':\n",
    "    p1= multiprocessing.Process(target = square,args=(10,))\n",
    "    p1.start()\n",
    "    p1.join()\n",
    "    p1.close\n",
    "    \n"
   ]
  },
  {
   "cell_type": "markdown",
   "id": "a7ba3700-b332-4c9e-9def-5e8f9faff90a",
   "metadata": {},
   "source": [
    "## Q4. What is a multiprocessing pool in python? Why is it used?"
   ]
  },
  {
   "cell_type": "markdown",
   "id": "dc23192c-5c91-4d7c-82b0-b3d83bb47f77",
   "metadata": {},
   "source": [
    "Python multiprocessing Pool can be used for parallel execution of a function across multiple input values, distributing the input data across processes (data parallelism).\n",
    "\n",
    "Use the multiprocessing. Pool class when you need to execute tasks that may or may not take arguments and may or may not return a result once the tasks are complete. Use the multiprocessing. Pool class when you need to execute different types of ad hoc tasks, such as calling different target task functions."
   ]
  },
  {
   "cell_type": "markdown",
   "id": "22341dec-eaf9-4224-a9b4-731a28484bb0",
   "metadata": {},
   "source": [
    "## Q5. How can we create a pool of worker processes in python using the multiprocessing module?"
   ]
  },
  {
   "cell_type": "code",
   "execution_count": 21,
   "id": "a6318d7c-0a15-4cd7-a2c3-46c481da78a5",
   "metadata": {},
   "outputs": [
    {
     "name": "stdout",
     "output_type": "stream",
     "text": [
      "[27, 8, 125, 64, 216]\n"
     ]
    }
   ],
   "source": [
    "def cube(n):\n",
    "    return n**3\n",
    "\n",
    "if __name__=='__main__':\n",
    "    with multiprocessing.Pool(3) as pool:\n",
    "        out= pool.map(cube, [3,2,5,4,6])\n",
    "        print(out)\n",
    "        \n"
   ]
  },
  {
   "cell_type": "code",
   "execution_count": 22,
   "id": "8ab7a0d0-3bbe-42a3-ba95-e4b50736248c",
   "metadata": {},
   "outputs": [
    {
     "name": "stdout",
     "output_type": "stream",
     "text": [
      "<multiprocessing.pool.Pool state=RUN pool_size=64>\n",
      "64\n",
      "64\n"
     ]
    }
   ],
   "source": [
    "from multiprocessing.pool import Pool\n",
    "from multiprocessing import active_children\n",
    " \n",
    "# protect the entry point\n",
    "if __name__ == '__main__':\n",
    "    # create a process pool with the default number of workers\n",
    "    pool = Pool()\n",
    "    # report the status of the process pool\n",
    "    print(pool)\n",
    "    # report the number of processes in the pool\n",
    "    print(pool._processes)\n",
    "    # report the number of active child processes\n",
    "    children = active_children()\n",
    "    print(len(children))"
   ]
  },
  {
   "cell_type": "markdown",
   "id": "c571a8f6-1cbd-4999-9057-9165da33054a",
   "metadata": {},
   "source": [
    "## Q6. Write a python program to create 4 processes, each process should print a different number using the multiprocessing module in python."
   ]
  },
  {
   "cell_type": "code",
   "execution_count": 28,
   "id": "6dc36af3-8098-48a5-bb53-c165d2adc29e",
   "metadata": {},
   "outputs": [
    {
     "name": "stdout",
     "output_type": "stream",
     "text": [
      "Process Process-201 Processprints  Process-202 0\n",
      "printsProcess  1\n",
      "Process-203 printsProcess  2Process-204\n",
      " prints 3\n"
     ]
    }
   ],
   "source": [
    "import multiprocessing\n",
    "\n",
    "def print_number(num):\n",
    "    print(\"Process\" , multiprocessing.current_process().name,  \"prints\", num)\n",
    "\n",
    "if __name__ == \"__main__\":\n",
    "    # create 4 processes\n",
    "    processes = []\n",
    "    for i in range(4):\n",
    "        p = multiprocessing.Process(target=print_number, args=(i,))\n",
    "        processes.append(p)\n",
    "        p.start()\n",
    "\n",
    "    # wait for all processes to finish\n",
    "    for p in processes:\n",
    "        p.join()\n"
   ]
  },
  {
   "cell_type": "code",
   "execution_count": null,
   "id": "6c39b5d1-4ad3-475f-879d-17e23352966c",
   "metadata": {},
   "outputs": [],
   "source": []
  }
 ],
 "metadata": {
  "kernelspec": {
   "display_name": "Python 3 (ipykernel)",
   "language": "python",
   "name": "python3"
  },
  "language_info": {
   "codemirror_mode": {
    "name": "ipython",
    "version": 3
   },
   "file_extension": ".py",
   "mimetype": "text/x-python",
   "name": "python",
   "nbconvert_exporter": "python",
   "pygments_lexer": "ipython3",
   "version": "3.10.8"
  }
 },
 "nbformat": 4,
 "nbformat_minor": 5
}
