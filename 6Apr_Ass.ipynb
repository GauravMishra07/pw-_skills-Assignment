{
 "cells": [
  {
   "cell_type": "markdown",
   "id": "fa8faba6-3c80-4bfb-8afa-cd30109ab203",
   "metadata": {},
   "source": [
    "## Q1. What is the mathematical formula for a linear SVM?"
   ]
  },
  {
   "cell_type": "markdown",
   "id": "3d44ef97-4be1-4375-9082-2af380ca8968",
   "metadata": {},
   "source": [
    "The mathematical formula for a linear SVM is:\n",
    "\n",
    "f(x) = w * x + b\n",
    "\n",
    "where:\n",
    "\n",
    "w is the weight vector\n",
    "\n",
    "x is the input vector\n",
    "\n",
    "b is the bias term\n",
    "\n",
    "The weight vector and bias term are learned during the training process of the SVM model. The goal of the training process is to find the weight vector and bias term that maximize the margin between the two classes of data. The margin is the distance between the hyperplane and the closest points of each class."
   ]
  },
  {
   "cell_type": "markdown",
   "id": "b9e09755-ed54-4858-9031-25e6826f77da",
   "metadata": {},
   "source": [
    "## Q2. What is the objective function of a linear SVM?"
   ]
  },
  {
   "cell_type": "markdown",
   "id": "32368713-c852-44f3-9235-6edeef0fcbeb",
   "metadata": {},
   "source": [
    "The objective function of a linear SVM is to maximize the margin between the two classes of data, while also minimizing the error on the training data. The objective function can be written as follows:\n",
    "\n",
    "min 1/2 * ||w||^2 + C * sum(max(0, 1 - yi * (w * xi + b)))\n",
    "\n",
    "where:\n",
    "\n",
    "w is the weight vector\n",
    "\n",
    "x is the input vector\n",
    "\n",
    "y is the label of the input vector\n",
    "\n",
    "b is the bias term\n",
    "\n",
    "||w||^2 is the squared norm of the weight vector\n",
    "\n",
    "C is a hyperparameter that controls the trade-off between maximizing the margin and minimizing the error\n",
    "max(0, 1 - yi * (w * xi + b)) is a slack variable that allows some of the training data to be misclassified\n",
    "The first term in the objective function, 1/2 * ||w||^2, penalizes the size of the weight vector. This helps to prevent overfitting, which is a problem that can occur when the model learns the training data too well and does not generalize well to new data.\n",
    "\n",
    "The second term in the objective function, C * sum(max(0, 1 - yi * (w * xi + b))), penalizes the misclassification of the training data. The hyperparameter C controls the trade-off between maximizing the margin and minimizing the error. A larger value of C will give more weight to minimizing the error, while a smaller value of C will give more weight to maximizing the margin.\n",
    "\n",
    "The slack variable, max(0, 1 - yi * (w * xi + b)), allows some of the training data to be misclassified. This is necessary because it is not always possible to find a hyperplane that perfectly separates the two classes of data. The slack variable allows the SVM algorithm to find a hyperplane that has a good margin, even if some of the training data is misclassified.\n",
    "\n",
    "The objective function of a linear SVM is a convex optimization problem, which means that it can be solved using efficient optimization algorithms. The SVM algorithm typically uses a gradient descent algorithm to find the optimal weight vector and bias term."
   ]
  },
  {
   "cell_type": "markdown",
   "id": "9552aac1-8bea-489c-98fd-cf1da0e2289a",
   "metadata": {},
   "source": [
    "## Q3. What is the kernel trick in SVM?"
   ]
  },
  {
   "cell_type": "markdown",
   "id": "b1cee6db-32cd-42fc-a39e-6e497d624072",
   "metadata": {},
   "source": [
    "The kernel trick is a technique used in support vector machines (SVMs) to map the data into a higher dimensional space, where it becomes linearly separable. This allows SVMs to be used to classify data that is not linearly separable in the original space.\n",
    "\n",
    "The kernel trick works by using a kernel function to calculate the similarity between two data points. The kernel function is a mathematical function that maps the data points into a higher dimensional space. The most common kernel function used in SVMs is the Gaussian kernel, which is also known as the radial basis function kernel.\n",
    "\n",
    "The kernel trick allows SVMs to be trained without explicitly computing the mapping of the data points into the higher dimensional space. This is because the kernel function only needs to be evaluated for pairs of data points. This makes the SVM algorithm much more efficient to train, especially for large datasets."
   ]
  },
  {
   "cell_type": "markdown",
   "id": "d237f752-a773-40df-b99c-bf48d48b7624",
   "metadata": {},
   "source": [
    "## Q4. What is the role of support vectors in SVM Explain with example"
   ]
  },
  {
   "cell_type": "markdown",
   "id": "d828a626-cbae-4c28-8e57-d19c18dfad93",
   "metadata": {},
   "source": [
    "Support vectors are the data points that are closest to the decision boundary in a support vector machine (SVM). They play a critical role in the SVM algorithm, as they are used to determine the position of the decision boundary.\n",
    "\n",
    "The SVM algorithm works by maximizing the margin between the two classes of data. The margin is the distance between the decision boundary and the closest points of each class. The support vectors are the points that are closest to the decision boundary, and they determine the width of the margin.\n",
    "\n",
    "In the following example, we have a set of data points that represent two classes of data, blue and red. The SVM algorithm will find a decision boundary that maximizes the margin between the two classes.\n",
    "\n",
    "Here are some additional things to keep in mind about support vectors:\n",
    "\n",
    "The number of support vectors can vary depending on the dataset. In some cases, there may be only a few support vectors, while in other cases there may be many support vectors.\n",
    "\n",
    "The support vectors are not always the points that are closest to the decision boundary. In some cases, the support vectors may be points that are further away from the decision boundary, but they are still important for determining the position of the decision boundary.\n",
    "\n",
    "The SVM algorithm will only learn from the support vectors, so it is important to make sure that the support vectors are representative of the entire dataset."
   ]
  },
  {
   "cell_type": "markdown",
   "id": "f21f91b4-3ac8-42d9-b02d-496ed487f393",
   "metadata": {},
   "source": [
    "## Q5. Illustrate with examples and graphs of Hyperplane, Marginal plane, Soft margin and Hard margin in SVM?"
   ]
  },
  {
   "cell_type": "markdown",
   "id": "08a8af30-77fa-40ed-bb0e-cd1839abd7fb",
   "metadata": {},
   "source": [
    "Hyperplane\n",
    "\n",
    "A hyperplane is a decision boundary that separates two classes of data. It is a line in two dimensions, a plane in three dimensions, and so on. The hyperplane is chosen to maximize the margin between the two classes of data. The margin is the distance between the hyperplane and the closest points of each class.\n",
    "hyperplane in two dimensionsOpens in a new window\n",
    "\n",
    "hyperplane in two dimensions\n",
    "\n",
    "Marginal plane\n",
    "\n",
    "The marginal plane is a hyperplane that is parallel to the decision boundary. It is the minimum distance between the decision boundary and the closest points of each class. The marginal plane is important because it determines the width of the margin.\n",
    "marginal plane in two dimensionsOpens in a new window\n",
    "\n",
    "marginal plane in two dimensions\n",
    "\n",
    "Soft margin\n",
    "\n",
    "A soft margin SVM allows some of the data points to be misclassified. This is done by introducing a slack variable into the objective function. The slack variable allows the SVM algorithm to find a hyperplane that has a good margin, even if some of the data points are misclassified.\n",
    "soft margin SVM in two dimensionsOpens in a new window\n",
    "\n",
    "soft margin SVM in two dimensions\n",
    "\n",
    "Hard margin\n",
    "\n",
    "A hard margin SVM does not allow any of the data points to be misclassified. This means that the hyperplane must perfectly separate the two classes of data. If the data is not linearly separable, then a hard margin SVM will not be able to find a decision boundary.\n",
    "hard margin SVM in two dimensionsOpens in a new window\n",
    "\n",
    "hard margin SVM in two dimensions"
   ]
  },
  {
   "cell_type": "markdown",
   "id": "43788be6-3781-4798-9e39-9facfda10cfb",
   "metadata": {},
   "source": [
    "## Q6. SVM Implementation through Iris dataset."
   ]
  },
  {
   "cell_type": "code",
   "execution_count": 2,
   "id": "853aac79-07a1-4246-9168-76cfe24ec8d1",
   "metadata": {},
   "outputs": [],
   "source": [
    "import pandas as pd\n",
    "import numpy as np\n",
    "import seaborn as sns\n"
   ]
  },
  {
   "cell_type": "code",
   "execution_count": 20,
   "id": "08ab115c-6d80-4ed2-9e3c-c3d7e79c34f2",
   "metadata": {},
   "outputs": [],
   "source": [
    "# Load the iris dataset from the scikit-learn library and split it into a training set and a testing setl\n",
    "from sklearn.datasets import load_iris\n",
    "\n",
    "iris = load_iris()"
   ]
  },
  {
   "cell_type": "code",
   "execution_count": 23,
   "id": "cd793303-9b9f-4a4f-b8ba-3b36a56c313c",
   "metadata": {},
   "outputs": [],
   "source": [
    "df = pd.DataFrame(iris.data, columns=iris.feature_names)\n",
    "df['species'] = iris.target"
   ]
  },
  {
   "cell_type": "code",
   "execution_count": 24,
   "id": "6ffaa026-835e-4f2c-bb64-40d6268a77da",
   "metadata": {},
   "outputs": [
    {
     "data": {
      "text/html": [
       "<div>\n",
       "<style scoped>\n",
       "    .dataframe tbody tr th:only-of-type {\n",
       "        vertical-align: middle;\n",
       "    }\n",
       "\n",
       "    .dataframe tbody tr th {\n",
       "        vertical-align: top;\n",
       "    }\n",
       "\n",
       "    .dataframe thead th {\n",
       "        text-align: right;\n",
       "    }\n",
       "</style>\n",
       "<table border=\"1\" class=\"dataframe\">\n",
       "  <thead>\n",
       "    <tr style=\"text-align: right;\">\n",
       "      <th></th>\n",
       "      <th>sepal length (cm)</th>\n",
       "      <th>sepal width (cm)</th>\n",
       "      <th>petal length (cm)</th>\n",
       "      <th>petal width (cm)</th>\n",
       "      <th>species</th>\n",
       "    </tr>\n",
       "  </thead>\n",
       "  <tbody>\n",
       "    <tr>\n",
       "      <th>0</th>\n",
       "      <td>5.1</td>\n",
       "      <td>3.5</td>\n",
       "      <td>1.4</td>\n",
       "      <td>0.2</td>\n",
       "      <td>0</td>\n",
       "    </tr>\n",
       "    <tr>\n",
       "      <th>1</th>\n",
       "      <td>4.9</td>\n",
       "      <td>3.0</td>\n",
       "      <td>1.4</td>\n",
       "      <td>0.2</td>\n",
       "      <td>0</td>\n",
       "    </tr>\n",
       "    <tr>\n",
       "      <th>2</th>\n",
       "      <td>4.7</td>\n",
       "      <td>3.2</td>\n",
       "      <td>1.3</td>\n",
       "      <td>0.2</td>\n",
       "      <td>0</td>\n",
       "    </tr>\n",
       "    <tr>\n",
       "      <th>3</th>\n",
       "      <td>4.6</td>\n",
       "      <td>3.1</td>\n",
       "      <td>1.5</td>\n",
       "      <td>0.2</td>\n",
       "      <td>0</td>\n",
       "    </tr>\n",
       "    <tr>\n",
       "      <th>4</th>\n",
       "      <td>5.0</td>\n",
       "      <td>3.6</td>\n",
       "      <td>1.4</td>\n",
       "      <td>0.2</td>\n",
       "      <td>0</td>\n",
       "    </tr>\n",
       "    <tr>\n",
       "      <th>...</th>\n",
       "      <td>...</td>\n",
       "      <td>...</td>\n",
       "      <td>...</td>\n",
       "      <td>...</td>\n",
       "      <td>...</td>\n",
       "    </tr>\n",
       "    <tr>\n",
       "      <th>145</th>\n",
       "      <td>6.7</td>\n",
       "      <td>3.0</td>\n",
       "      <td>5.2</td>\n",
       "      <td>2.3</td>\n",
       "      <td>2</td>\n",
       "    </tr>\n",
       "    <tr>\n",
       "      <th>146</th>\n",
       "      <td>6.3</td>\n",
       "      <td>2.5</td>\n",
       "      <td>5.0</td>\n",
       "      <td>1.9</td>\n",
       "      <td>2</td>\n",
       "    </tr>\n",
       "    <tr>\n",
       "      <th>147</th>\n",
       "      <td>6.5</td>\n",
       "      <td>3.0</td>\n",
       "      <td>5.2</td>\n",
       "      <td>2.0</td>\n",
       "      <td>2</td>\n",
       "    </tr>\n",
       "    <tr>\n",
       "      <th>148</th>\n",
       "      <td>6.2</td>\n",
       "      <td>3.4</td>\n",
       "      <td>5.4</td>\n",
       "      <td>2.3</td>\n",
       "      <td>2</td>\n",
       "    </tr>\n",
       "    <tr>\n",
       "      <th>149</th>\n",
       "      <td>5.9</td>\n",
       "      <td>3.0</td>\n",
       "      <td>5.1</td>\n",
       "      <td>1.8</td>\n",
       "      <td>2</td>\n",
       "    </tr>\n",
       "  </tbody>\n",
       "</table>\n",
       "<p>150 rows × 5 columns</p>\n",
       "</div>"
      ],
      "text/plain": [
       "     sepal length (cm)  sepal width (cm)  petal length (cm)  petal width (cm)  \\\n",
       "0                  5.1               3.5                1.4               0.2   \n",
       "1                  4.9               3.0                1.4               0.2   \n",
       "2                  4.7               3.2                1.3               0.2   \n",
       "3                  4.6               3.1                1.5               0.2   \n",
       "4                  5.0               3.6                1.4               0.2   \n",
       "..                 ...               ...                ...               ...   \n",
       "145                6.7               3.0                5.2               2.3   \n",
       "146                6.3               2.5                5.0               1.9   \n",
       "147                6.5               3.0                5.2               2.0   \n",
       "148                6.2               3.4                5.4               2.3   \n",
       "149                5.9               3.0                5.1               1.8   \n",
       "\n",
       "     species  \n",
       "0          0  \n",
       "1          0  \n",
       "2          0  \n",
       "3          0  \n",
       "4          0  \n",
       "..       ...  \n",
       "145        2  \n",
       "146        2  \n",
       "147        2  \n",
       "148        2  \n",
       "149        2  \n",
       "\n",
       "[150 rows x 5 columns]"
      ]
     },
     "execution_count": 24,
     "metadata": {},
     "output_type": "execute_result"
    }
   ],
   "source": [
    "df"
   ]
  },
  {
   "cell_type": "code",
   "execution_count": 28,
   "id": "30c59601-dfd5-46df-bb3a-593c5facf895",
   "metadata": {},
   "outputs": [],
   "source": [
    "X= df.drop('species',axis=1)"
   ]
  },
  {
   "cell_type": "code",
   "execution_count": 29,
   "id": "68cf1d00-a865-4be6-a97b-e1f6d6e4950a",
   "metadata": {},
   "outputs": [],
   "source": [
    "y=df['species']"
   ]
  },
  {
   "cell_type": "code",
   "execution_count": 30,
   "id": "5c03aa51-ae58-4ab0-8750-1fe06e46d095",
   "metadata": {},
   "outputs": [
    {
     "data": {
      "text/html": [
       "<div>\n",
       "<style scoped>\n",
       "    .dataframe tbody tr th:only-of-type {\n",
       "        vertical-align: middle;\n",
       "    }\n",
       "\n",
       "    .dataframe tbody tr th {\n",
       "        vertical-align: top;\n",
       "    }\n",
       "\n",
       "    .dataframe thead th {\n",
       "        text-align: right;\n",
       "    }\n",
       "</style>\n",
       "<table border=\"1\" class=\"dataframe\">\n",
       "  <thead>\n",
       "    <tr style=\"text-align: right;\">\n",
       "      <th></th>\n",
       "      <th>sepal length (cm)</th>\n",
       "      <th>sepal width (cm)</th>\n",
       "      <th>petal length (cm)</th>\n",
       "      <th>petal width (cm)</th>\n",
       "    </tr>\n",
       "  </thead>\n",
       "  <tbody>\n",
       "    <tr>\n",
       "      <th>0</th>\n",
       "      <td>5.1</td>\n",
       "      <td>3.5</td>\n",
       "      <td>1.4</td>\n",
       "      <td>0.2</td>\n",
       "    </tr>\n",
       "    <tr>\n",
       "      <th>1</th>\n",
       "      <td>4.9</td>\n",
       "      <td>3.0</td>\n",
       "      <td>1.4</td>\n",
       "      <td>0.2</td>\n",
       "    </tr>\n",
       "    <tr>\n",
       "      <th>2</th>\n",
       "      <td>4.7</td>\n",
       "      <td>3.2</td>\n",
       "      <td>1.3</td>\n",
       "      <td>0.2</td>\n",
       "    </tr>\n",
       "    <tr>\n",
       "      <th>3</th>\n",
       "      <td>4.6</td>\n",
       "      <td>3.1</td>\n",
       "      <td>1.5</td>\n",
       "      <td>0.2</td>\n",
       "    </tr>\n",
       "    <tr>\n",
       "      <th>4</th>\n",
       "      <td>5.0</td>\n",
       "      <td>3.6</td>\n",
       "      <td>1.4</td>\n",
       "      <td>0.2</td>\n",
       "    </tr>\n",
       "    <tr>\n",
       "      <th>...</th>\n",
       "      <td>...</td>\n",
       "      <td>...</td>\n",
       "      <td>...</td>\n",
       "      <td>...</td>\n",
       "    </tr>\n",
       "    <tr>\n",
       "      <th>145</th>\n",
       "      <td>6.7</td>\n",
       "      <td>3.0</td>\n",
       "      <td>5.2</td>\n",
       "      <td>2.3</td>\n",
       "    </tr>\n",
       "    <tr>\n",
       "      <th>146</th>\n",
       "      <td>6.3</td>\n",
       "      <td>2.5</td>\n",
       "      <td>5.0</td>\n",
       "      <td>1.9</td>\n",
       "    </tr>\n",
       "    <tr>\n",
       "      <th>147</th>\n",
       "      <td>6.5</td>\n",
       "      <td>3.0</td>\n",
       "      <td>5.2</td>\n",
       "      <td>2.0</td>\n",
       "    </tr>\n",
       "    <tr>\n",
       "      <th>148</th>\n",
       "      <td>6.2</td>\n",
       "      <td>3.4</td>\n",
       "      <td>5.4</td>\n",
       "      <td>2.3</td>\n",
       "    </tr>\n",
       "    <tr>\n",
       "      <th>149</th>\n",
       "      <td>5.9</td>\n",
       "      <td>3.0</td>\n",
       "      <td>5.1</td>\n",
       "      <td>1.8</td>\n",
       "    </tr>\n",
       "  </tbody>\n",
       "</table>\n",
       "<p>150 rows × 4 columns</p>\n",
       "</div>"
      ],
      "text/plain": [
       "     sepal length (cm)  sepal width (cm)  petal length (cm)  petal width (cm)\n",
       "0                  5.1               3.5                1.4               0.2\n",
       "1                  4.9               3.0                1.4               0.2\n",
       "2                  4.7               3.2                1.3               0.2\n",
       "3                  4.6               3.1                1.5               0.2\n",
       "4                  5.0               3.6                1.4               0.2\n",
       "..                 ...               ...                ...               ...\n",
       "145                6.7               3.0                5.2               2.3\n",
       "146                6.3               2.5                5.0               1.9\n",
       "147                6.5               3.0                5.2               2.0\n",
       "148                6.2               3.4                5.4               2.3\n",
       "149                5.9               3.0                5.1               1.8\n",
       "\n",
       "[150 rows x 4 columns]"
      ]
     },
     "execution_count": 30,
     "metadata": {},
     "output_type": "execute_result"
    }
   ],
   "source": [
    "X"
   ]
  },
  {
   "cell_type": "code",
   "execution_count": 31,
   "id": "1af65d03-a53b-4fa5-bd5c-96621400d7d4",
   "metadata": {},
   "outputs": [
    {
     "data": {
      "text/plain": [
       "0      0\n",
       "1      0\n",
       "2      0\n",
       "3      0\n",
       "4      0\n",
       "      ..\n",
       "145    2\n",
       "146    2\n",
       "147    2\n",
       "148    2\n",
       "149    2\n",
       "Name: species, Length: 150, dtype: int64"
      ]
     },
     "execution_count": 31,
     "metadata": {},
     "output_type": "execute_result"
    }
   ],
   "source": [
    "y"
   ]
  },
  {
   "cell_type": "code",
   "execution_count": 32,
   "id": "075b51df-561f-4666-959f-b9cb4d0d29cf",
   "metadata": {},
   "outputs": [],
   "source": [
    "from sklearn.model_selection import train_test_split\n",
    "x_train,x_test,y_train,y_test=train_test_split(X,y,test_size=0.25,random_state=43)"
   ]
  },
  {
   "cell_type": "code",
   "execution_count": 35,
   "id": "45162689-af8a-4433-8990-9d75cd75d0bd",
   "metadata": {},
   "outputs": [
    {
     "data": {
      "text/plain": [
       "((112, 4), (38, 4))"
      ]
     },
     "execution_count": 35,
     "metadata": {},
     "output_type": "execute_result"
    }
   ],
   "source": [
    "x_train.shape,x_test.shape"
   ]
  },
  {
   "cell_type": "code",
   "execution_count": 53,
   "id": "d56175ae-159e-4668-a00a-4f26bdd8fbc7",
   "metadata": {},
   "outputs": [],
   "source": [
    "#Train a linear SVM classifier on the training set and predict the labels for the testing set.\n",
    "from sklearn.svm import SVC\n",
    "svc= SVC(C=1)\n",
    "svc.fit(x_train,y_train)\n",
    "y_pred=svc.predict(x_test)"
   ]
  },
  {
   "cell_type": "code",
   "execution_count": 54,
   "id": "a899e98e-c092-4095-9daa-bd4537ec3bc3",
   "metadata": {},
   "outputs": [
    {
     "data": {
      "text/plain": [
       "0.9473684210526315"
      ]
     },
     "execution_count": 54,
     "metadata": {},
     "output_type": "execute_result"
    }
   ],
   "source": [
    "#Compute the accuracy of the model on the testing set\n",
    "from sklearn.metrics import accuracy_score\n",
    "score=accuracy_score(y_pred,y_test)\n",
    "score"
   ]
  },
  {
   "cell_type": "code",
   "execution_count": 42,
   "id": "2405139b-6e22-4b73-9042-0f0b6a7585e7",
   "metadata": {},
   "outputs": [
    {
     "name": "stderr",
     "output_type": "stream",
     "text": [
      "/opt/conda/lib/python3.10/site-packages/sklearn/svm/_base.py:1244: ConvergenceWarning: Liblinear failed to converge, increase the number of iterations.\n",
      "  warnings.warn(\n"
     ]
    },
    {
     "data": {
      "image/png": "[encoded data removed]",
      "text/plain": [
       "<Figure size 640x480 with 1 Axes>"
      ]
     },
     "metadata": {},
     "output_type": "display_data"
    }
   ],
   "source": [
    "\n",
    "#Plot the decision boundaries of the trained model using two of the featuresimport matplotlib.pyplot as plt\n",
    "from sklearn.datasets import load_iris\n",
    "from sklearn.svm import LinearSVC\n",
    "\n",
    "iris = load_iris()\n",
    "X = iris.data[:, :2]\n",
    "y = iris.target\n",
    "\n",
    "clf = LinearSVC()\n",
    "clf.fit(X, y)\n",
    "\n",
    "plt.scatter(X[:, 0], X[:, 1], c=y)\n",
    "plt.plot(clf.decision_function(X).reshape(-1, 1), linewidth=2)\n",
    "plt.show()\n"
   ]
  },
  {
   "cell_type": "code",
   "execution_count": 56,
   "id": "2c6f38d9-d9f5-4932-b675-cfdc22971a9e",
   "metadata": {},
   "outputs": [
    {
     "data": {
      "text/plain": [
       "0.9736842105263158"
      ]
     },
     "execution_count": 56,
     "metadata": {},
     "output_type": "execute_result"
    }
   ],
   "source": [
    "#Try different values of the regularisation parameter C and see how it affects the performance of the model.\n",
    "svc= SVC(C=2.0)\n",
    "svc.fit(x_train,y_train)\n",
    "y_pred=svc.predict(x_test)\n",
    "score=accuracy_score(y_pred,y_test)\n",
    "score"
   ]
  },
  {
   "cell_type": "code",
   "execution_count": 55,
   "id": "8b2cfe2c-c50e-42e9-b4bb-bf6930250c2b",
   "metadata": {},
   "outputs": [
    {
     "data": {
      "text/plain": [
       "0.9473684210526315"
      ]
     },
     "execution_count": 55,
     "metadata": {},
     "output_type": "execute_result"
    }
   ],
   "source": [
    "vc= SVC(C=0.1)\n",
    "svc.fit(x_train,y_train)\n",
    "y_pred=svc.predict(x_test)\n",
    "score=accuracy_score(y_pred,y_test)\n",
    "score"
   ]
  },
  {
   "cell_type": "markdown",
   "id": "b5375d9a-27bd-4020-9dcb-65780ee8aca9",
   "metadata": {},
   "source": [
    "## accuracy increased as we increased the value of \"C\""
   ]
  },
  {
   "cell_type": "code",
   "execution_count": null,
   "id": "bb821b17-6c80-4146-be84-e514575ab07f",
   "metadata": {},
   "outputs": [],
   "source": []
  }
 ],
 "metadata": {
  "kernelspec": {
   "display_name": "Python 3 (ipykernel)",
   "language": "python",
   "name": "python3"
  },
  "language_info": {
   "codemirror_mode": {
    "name": "ipython",
    "version": 3
   },
   "file_extension": ".py",
   "mimetype": "text/x-python",
   "name": "python",
   "nbconvert_exporter": "python",
   "pygments_lexer": "ipython3",
   "version": "3.10.8"
  }
 },
 "nbformat": 4,
 "nbformat_minor": 5
}
