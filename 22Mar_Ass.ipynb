{
 "cells": [
  {
   "cell_type": "markdown",
   "id": "697ed517-53bb-426d-b128-5859d70a25a7",
   "metadata": {},
   "source": [
    "## Q1. Pearson correlation coefficient is a measure of the linear relationship between two variables. Suppose you have collected data on the amount of time students spend studying for an exam and their final exam scores. Calculate the Pearson correlation coefficient between these two variables and interpret the result."
   ]
  },
  {
   "cell_type": "code",
   "execution_count": 8,
   "id": "18df19aa-fa56-4761-b940-14848972298a",
   "metadata": {},
   "outputs": [
    {
     "data": {
      "text/html": [
       "<div>\n",
       "<style scoped>\n",
       "    .dataframe tbody tr th:only-of-type {\n",
       "        vertical-align: middle;\n",
       "    }\n",
       "\n",
       "    .dataframe tbody tr th {\n",
       "        vertical-align: top;\n",
       "    }\n",
       "\n",
       "    .dataframe thead th {\n",
       "        text-align: right;\n",
       "    }\n",
       "</style>\n",
       "<table border=\"1\" class=\"dataframe\">\n",
       "  <thead>\n",
       "    <tr style=\"text-align: right;\">\n",
       "      <th></th>\n",
       "      <th>Study_Time</th>\n",
       "      <th>Exam_Score</th>\n",
       "    </tr>\n",
       "  </thead>\n",
       "  <tbody>\n",
       "    <tr>\n",
       "      <th>Study_Time</th>\n",
       "      <td>1.00000</td>\n",
       "      <td>0.98559</td>\n",
       "    </tr>\n",
       "    <tr>\n",
       "      <th>Exam_Score</th>\n",
       "      <td>0.98559</td>\n",
       "      <td>1.00000</td>\n",
       "    </tr>\n",
       "  </tbody>\n",
       "</table>\n",
       "</div>"
      ],
      "text/plain": [
       "            Study_Time  Exam_Score\n",
       "Study_Time     1.00000     0.98559\n",
       "Exam_Score     0.98559     1.00000"
      ]
     },
     "execution_count": 8,
     "metadata": {},
     "output_type": "execute_result"
    }
   ],
   "source": [
    "import pandas as pd \n",
    "import numpy as np\n",
    "data = {\"Study_Time\":[2,3,4,5,7],\"Exam_Score\":[35,55,66,72,95]}\n",
    "df = pd.DataFrame(data)\n",
    "df.corr(method=\"pearson\")\n",
    "\n"
   ]
  },
  {
   "cell_type": "markdown",
   "id": "588fde44-5470-44dc-9083-8fcad54d6a5f",
   "metadata": {},
   "source": [
    "## Q2. Spearman's rank correlation is a measure of the monotonic relationship between two variables. Suppose you have collected data on the amount of sleep individuals get each night and their overall job satisfaction level on a scale of 1 to 10. Calculate the Spearman's rank correlation between these two variables and interpret the result."
   ]
  },
  {
   "cell_type": "code",
   "execution_count": 14,
   "id": "90f7dbcd-05aa-472c-a224-d69831bbd43c",
   "metadata": {},
   "outputs": [
    {
     "data": {
      "text/html": [
       "<div>\n",
       "<style scoped>\n",
       "    .dataframe tbody tr th:only-of-type {\n",
       "        vertical-align: middle;\n",
       "    }\n",
       "\n",
       "    .dataframe tbody tr th {\n",
       "        vertical-align: top;\n",
       "    }\n",
       "\n",
       "    .dataframe thead th {\n",
       "        text-align: right;\n",
       "    }\n",
       "</style>\n",
       "<table border=\"1\" class=\"dataframe\">\n",
       "  <thead>\n",
       "    <tr style=\"text-align: right;\">\n",
       "      <th></th>\n",
       "      <th>Sleep_Amount</th>\n",
       "      <th>Job_Satisfaction</th>\n",
       "    </tr>\n",
       "  </thead>\n",
       "  <tbody>\n",
       "    <tr>\n",
       "      <th>Sleep_Amount</th>\n",
       "      <td>1.000000</td>\n",
       "      <td>0.927273</td>\n",
       "    </tr>\n",
       "    <tr>\n",
       "      <th>Job_Satisfaction</th>\n",
       "      <td>0.927273</td>\n",
       "      <td>1.000000</td>\n",
       "    </tr>\n",
       "  </tbody>\n",
       "</table>\n",
       "</div>"
      ],
      "text/plain": [
       "                  Sleep_Amount  Job_Satisfaction\n",
       "Sleep_Amount          1.000000          0.927273\n",
       "Job_Satisfaction      0.927273          1.000000"
      ]
     },
     "execution_count": 14,
     "metadata": {},
     "output_type": "execute_result"
    }
   ],
   "source": [
    "data1 = {\"Sleep_Amount\":[4,5,6,4,7,8,9],\"Job_Satisfaction\":[4,6,7,3,6,9,10]}\n",
    "df1 = pd.DataFrame(data1)\n",
    "df1.corr(method = \"spearman\")"
   ]
  },
  {
   "cell_type": "markdown",
   "id": "de87f1da-e75b-4fc7-bce7-f05c52dba7c1",
   "metadata": {},
   "source": [
    "## Q3. Suppose you are conducting a study to examine the relationship between the number of hours of exercise per week and body mass index (BMI) in a sample of adults. You collected data on both variables for 50 participants. Calculate the Pearson correlation coefficient and the Spearman's rank correlation between these two variables and compare the results."
   ]
  },
  {
   "cell_type": "code",
   "execution_count": 23,
   "id": "c98b5efb-7917-46bd-b873-150b4ca934ef",
   "metadata": {},
   "outputs": [
    {
     "name": "stdout",
     "output_type": "stream",
     "text": [
      "Pearson Method:\n",
      "                     hours_of_exercise       BMI\n",
      "hours_of_exercise           1.000000  0.983287\n",
      "BMI                         0.983287  1.000000\n",
      "Spearman Method: \n",
      "                    hours_of_exercise       BMI\n",
      "hours_of_exercise           1.000000  0.987805\n",
      "BMI                         0.987805  1.000000\n"
     ]
    }
   ],
   "source": [
    "data3 = pd.DataFrame({\n",
    "    \"hours_of_exercise\": [10, 7, 5, 12, 8, 15, 10, 6, 9, 11],\n",
    "    \"BMI\": [25, 22, 20, 28, 24, 30, 25, 21, 23, 26]\n",
    "})\n",
    "x =data3.corr(method = \"pearson\")\n",
    "y = data3.corr(method= \"spearman\")\n",
    "\n",
    "print(\"Pearson Method:\\n \",x)\n",
    "print(\"Spearman Method: \\n\",y)\n"
   ]
  },
  {
   "cell_type": "markdown",
   "id": "076a5aba-6353-4063-ae97-e30bb5c70d7f",
   "metadata": {},
   "source": [
    "## Q4. A researcher is interested in examining the relationship between the number of hours individuals spend watching television per day and their level of physical activity. The researcher collected data on both variables from a sample of 50 participants. Calculate the Pearson correlation coefficient between these two variables."
   ]
  },
  {
   "cell_type": "code",
   "execution_count": null,
   "id": "cd7480e4-ece3-4b80-ad00-6f04adc6db5a",
   "metadata": {},
   "outputs": [
    {
     "data": {
      "text/html": [
       "<div>\n",
       "<style scoped>\n",
       "    .dataframe tbody tr th:only-of-type {\n",
       "        vertical-align: middle;\n",
       "    }\n",
       "\n",
       "    .dataframe tbody tr th {\n",
       "        vertical-align: top;\n",
       "    }\n",
       "\n",
       "    .dataframe thead th {\n",
       "        text-align: right;\n",
       "    }\n",
       "</style>\n",
       "<table border=\"1\" class=\"dataframe\">\n",
       "  <thead>\n",
       "    <tr style=\"text-align: right;\">\n",
       "      <th></th>\n",
       "      <th>hours_watching_tv</th>\n",
       "      <th>physical_activity</th>\n",
       "    </tr>\n",
       "  </thead>\n",
       "  <tbody>\n",
       "    <tr>\n",
       "      <th>hours_watching_tv</th>\n",
       "      <td>1.00000</td>\n",
       "      <td>0.13346</td>\n",
       "    </tr>\n",
       "    <tr>\n",
       "      <th>physical_activity</th>\n",
       "      <td>0.13346</td>\n",
       "      <td>1.00000</td>\n",
       "    </tr>\n",
       "  </tbody>\n",
       "</table>\n",
       "</div>"
      ],
      "text/plain": [
       "                   hours_watching_tv  physical_activity\n",
       "hours_watching_tv            1.00000            0.13346\n",
       "physical_activity            0.13346            1.00000"
      ]
     },
     "execution_count": 51,
     "metadata": {},
     "output_type": "execute_result"
    }
   ],
   "source": [
    "df4 = pd.DataFrame({\n",
    "    \"hours_watching_tv\": np.random.randint(1,8,50),\n",
    "    \"physical_activity\": np.random.randint(1,12,50)\n",
    "})\n",
    "df4.corr(method = \"pearson\")"
   ]
  },
  {
   "cell_type": "markdown",
   "id": "df28abc9-db51-4505-ba9c-1f796cfd77a1",
   "metadata": {},
   "source": [
    "## Q5. A survey was conducted to examine the relationship between age and preference for a particular brand of soft drink. The survey results are shown below:"
   ]
  },
  {
   "cell_type": "code",
   "execution_count": 61,
   "id": "bbc45d07-1bc4-4a97-b777-d144a6149259",
   "metadata": {},
   "outputs": [
    {
     "name": "stdout",
     "output_type": "stream",
     "text": [
      "Pearson correlation coefficient: 0.08182714271909296\n"
     ]
    }
   ],
   "source": [
    "import pandas as pd\n",
    "\n",
    "# Create a dataframe with the data\n",
    "df = pd.DataFrame({\n",
    "    \"age\": [25, 42, 37, 19, 31, 28],\n",
    "    \"soft_drink_preference\": [\"Mountain Dew\", \"Coke\", \"Pepsi\", \"Coke\", \"Coke\", \"Pepsi\"]\n",
    "})\n",
    "\n",
    "# Convert the soft_drink_preference variable to a categorical variable\n",
    "df[\"soft_drink_preference\"] = df[\"soft_drink_preference\"].astype(\"category\").cat.codes\n",
    "\n",
    "# Calculate the Pearson correlation coefficient\n",
    "correlation = df[\"age\"].corr(df[\"soft_drink_preference\"])\n",
    "\n",
    "# Print the results\n",
    "print(\"Pearson correlation coefficient:\", correlation)\n"
   ]
  },
  {
   "cell_type": "markdown",
   "id": "690a0186-efe4-46f1-8a1d-f97c24dd9bcd",
   "metadata": {},
   "source": [
    "## Q6. A company is interested in examining the relationship between the number of sales calls made per day and the number of sales made per week. The company collected data on both variables from a sample of 30 sales representatives. Calculate the Pearson correlation coefficient between these two variables."
   ]
  },
  {
   "cell_type": "code",
   "execution_count": 64,
   "id": "f3a8105c-f3cb-4085-9552-f5e64a17b777",
   "metadata": {},
   "outputs": [
    {
     "data": {
      "text/html": [
       "<div>\n",
       "<style scoped>\n",
       "    .dataframe tbody tr th:only-of-type {\n",
       "        vertical-align: middle;\n",
       "    }\n",
       "\n",
       "    .dataframe tbody tr th {\n",
       "        vertical-align: top;\n",
       "    }\n",
       "\n",
       "    .dataframe thead th {\n",
       "        text-align: right;\n",
       "    }\n",
       "</style>\n",
       "<table border=\"1\" class=\"dataframe\">\n",
       "  <thead>\n",
       "    <tr style=\"text-align: right;\">\n",
       "      <th></th>\n",
       "      <th>calls_perday</th>\n",
       "      <th>number_of_sales</th>\n",
       "    </tr>\n",
       "  </thead>\n",
       "  <tbody>\n",
       "    <tr>\n",
       "      <th>calls_perday</th>\n",
       "      <td>1.000000</td>\n",
       "      <td>0.194915</td>\n",
       "    </tr>\n",
       "    <tr>\n",
       "      <th>number_of_sales</th>\n",
       "      <td>0.194915</td>\n",
       "      <td>1.000000</td>\n",
       "    </tr>\n",
       "  </tbody>\n",
       "</table>\n",
       "</div>"
      ],
      "text/plain": [
       "                 calls_perday  number_of_sales\n",
       "calls_perday         1.000000         0.194915\n",
       "number_of_sales      0.194915         1.000000"
      ]
     },
     "execution_count": 64,
     "metadata": {},
     "output_type": "execute_result"
    }
   ],
   "source": [
    "df6 = pd.DataFrame({\"calls_perday\": np.random.randint(1,100,30),\n",
    "                  \"number_of_sales\": np.random.randint(1,60,30)})\n",
    "df6.corr(method= \"pearson\")"
   ]
  },
  {
   "cell_type": "code",
   "execution_count": null,
   "id": "231537ad-fd1c-43a7-a89c-d9dbb3cf9cc2",
   "metadata": {},
   "outputs": [],
   "source": []
  }
 ],
 "metadata": {
  "kernelspec": {
   "display_name": "Python 3 (ipykernel)",
   "language": "python",
   "name": "python3"
  },
  "language_info": {
   "codemirror_mode": {
    "name": "ipython",
    "version": 3
   },
   "file_extension": ".py",
   "mimetype": "text/x-python",
   "name": "python",
   "nbconvert_exporter": "python",
   "pygments_lexer": "ipython3",
   "version": "3.10.8"
  }
 },
 "nbformat": 4,
 "nbformat_minor": 5
}
